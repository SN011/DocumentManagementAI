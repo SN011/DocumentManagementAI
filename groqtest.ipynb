{
 "cells": [
  {
   "cell_type": "code",
   "execution_count": 1,
   "metadata": {},
   "outputs": [],
   "source": [
    "# pip install groq -q"
   ]
  },
  {
   "cell_type": "code",
   "execution_count": 2,
   "metadata": {},
   "outputs": [],
   "source": [
    "import os\n",
    "import groq\n",
    "\n",
    "client = groq.Groq(\n",
    "    api_key = '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'\n",
    ")"
   ]
  },
  {
   "cell_type": "code",
   "execution_count": 3,
   "metadata": {},
   "outputs": [
    {
     "name": "stdout",
     "output_type": "stream",
     "text": [
      "Generative AI: A Revolutionary Technology Transforming the Fabric of Human Existence\n",
      "\n",
      "Artificial Intelligence (AI) has long been touted as the future of human innovation, with the potential to transform industries, revolutionize the way we live, and redefine the boundaries of human creativity. Among the various subfields of AI, Generative AI has emerged as a game-changer, promising to reshape the very fabric of our existence. In this essay, we will delve into the world of Generative AI, exploring its concepts, applications, implications, and potential consequences on human society.\n",
      "\n",
      "**What is Generative AI?**\n",
      "\n",
      "Generative AI, also known as Generative Models or Generative Neural Networks, is a type of Artificial Intelligence that enables machines to create novel, coherent, and diverse data, such as images, videos, music, text, and even entire conversations. This is achieved through complex algorithms that learn patterns from large datasets and use them to generate new, often realistic, outputs. The core idea behind Generative AI is to mimic human creativity, imagination, and problem-solving abilities, allowing machines to autonomously generate innovative solutions, artistic expressions, and even entire narratives.\n",
      "\n",
      "**Applications of Generative AI**\n",
      "\n",
      "The applications of Generative AI are vast and diverse, with numerous industries already leveraging its power:\n",
      "\n",
      "1. **Art and Design:** Generative AI-powered tools can create stunning visual arts, music, and even entire films, revolutionizing the creative industries.\n",
      "2. **Healthcare:** AI-generated medical images can aid in diagnosis, while personalized medicine can be tailored to individual patients using Generative AI.\n",
      "3. **Entertainment:** AI-generated content can create immersive experiences in video games, films, and virtual reality, redefining the entertainment landscape.\n",
      "4. **Education:** Intelligent tutoring systems can adapt to individual students' needs, providing personalized learning experiences.\n",
      "5. **Cybersecurity:** AI-powered generative models can create complex, adaptive security systems to combat evolving cyber threats.\n",
      "\n",
      "**Impact on Human Society**\n",
      "\n",
      "Generative AI has the potential to transform various aspects of human society, from the way we work and interact to the very essence of our creative expression:\n",
      "\n",
      "1. **Job Displacement:** Generative AI may displace certain jobs, particularly those involving repetitive tasks or creation of content, sparking concerns about the future of work.\n",
      "2. **Creative Freedom:** On the other hand, Generative AI can empower human creativity, freeing artists, designers, and writers from mundane tasks, and enabling them to focus on high-level creative decisions.\n",
      "3. **Democratization of Content:** Generative AI can democratize content creation, making it accessible to a wider audience, and potentially leading to a more diverse and inclusive cultural landscape.\n",
      "4. **Ethical Concerns:** The ability to generate highly realistic content raises concerns about misinformation, propaganda, and the manipulation of public opinion.\n",
      "\n",
      "**Challenges and Limitations**\n",
      "\n",
      "While Generative AI holds immense promise, it is not without its challenges and limitations:\n",
      "\n",
      "1. **Data Quality:** Generative AI models are only as good as the data they are trained on, making high-quality, diverse, and representative datasets crucial.\n",
      "2. **Bias and Fairness:** AI models can inherit biases from their training data, perpetuating existing social inequalities and stereotypes.\n",
      "3. **Explainability:** The complexity of Generative AI models makes it challenging to understand and explain their decision-making processes.\n",
      "4. **Energy Consumption:** The computational power required to train and run Generative AI models contributes to significant energy consumption and environmental concerns.\n",
      "\n",
      "**The Future of Generative AI**\n",
      "\n",
      "As Generative AI continues to evolve, we can expect significant advancements in areas such as:\n",
      "\n",
      "1. **Multimodal Generation:** AI models will be able to generate content that combines multiple forms of media, like images, videos, and text.\n",
      "2. **Long-Term Dependencies:** Generative AI will be able to create coherent, long-form content, such as entire books or films.\n",
      "3. **Human-AI Collaboration:** Humans and AI systems will collaborate more seamlessly, enabling co-creation of innovative solutions and artistic expressions.\n",
      "\n",
      "**Conclusion**\n",
      "\n",
      "Generative AI is revolutionizing the way we live, work, and interact. While it presents numerous opportunities for growth, innovation, and creativity, it also raises important ethical considerations and challenges. As we navigate the complexities of Generative AI, it is essential to prioritize transparency, accountability, and human-centered design principles. By acknowledging both the potential and the pitfalls of Generative AI, we can harness its power to create a better future for all.\n"
     ]
    }
   ],
   "source": [
    "chat_completion = client.chat.completions.create(\n",
    "    messages=[\n",
    "        {\n",
    "            \"role\":\"user\",\n",
    "            \"content\":\"Write as long an essay as you can about generative ai\",\n",
    "        }\n",
    "    ],\n",
    "    model = \"llama3-70b-8192\",\n",
    ")\n",
    "print(chat_completion.choices[0].message.content)"
   ]
  }
 ],
 "metadata": {
  "kernelspec": {
   "display_name": ".venv",
   "language": "python",
   "name": "python3"
  },
  "language_info": {
   "codemirror_mode": {
    "name": "ipython",
    "version": 3
   },
   "file_extension": ".py",
   "mimetype": "text/x-python",
   "name": "python",
   "nbconvert_exporter": "python",
   "pygments_lexer": "ipython3",
   "version": "3.12.0"
  }
 },
 "nbformat": 4,
 "nbformat_minor": 2
}
