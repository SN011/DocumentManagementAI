{
 "cells": [
  {
   "cell_type": "code",
   "execution_count": 10,
   "metadata": {},
   "outputs": [
    {
     "name": "stdout",
     "output_type": "stream",
     "text": [
      " * Serving Flask app '__main__'\n",
      " * Debug mode: off\n"
     ]
    },
    {
     "name": "stderr",
     "output_type": "stream",
     "text": [
      "WARNING: This is a development server. Do not use it in a production deployment. Use a production WSGI server instead.\n",
      " * Running on http://127.0.0.1:5000\n",
      "INFO:werkzeug:\u001b[31m\u001b[1mWARNING: This is a development server. Do not use it in a production deployment. Use a production WSGI server instead.\u001b[0m\n",
      " * Running on http://127.0.0.1:5000\n",
      "Press CTRL+C to quit\n",
      "INFO:werkzeug:\u001b[33mPress CTRL+C to quit\u001b[0m\n",
      "127.0.0.1 - - [03/Jun/2024 19:21:09] \"GET / HTTP/1.1\" 200 -\n",
      "INFO:werkzeug:127.0.0.1 - - [03/Jun/2024 19:21:09] \"GET / HTTP/1.1\" 200 -\n",
      "127.0.0.1 - - [03/Jun/2024 19:21:16] \"OPTIONS /store-user-data HTTP/1.1\" 200 -\n",
      "INFO:werkzeug:127.0.0.1 - - [03/Jun/2024 19:21:16] \"OPTIONS /store-user-data HTTP/1.1\" 200 -\n",
      "INFO:__main__:Received user data: {'name': 'Sriram Nallani', 'email': 'sriramnallani35@gmail.com', 'picture': 'https://lh3.googleusercontent.com/a/ACg8ocI0kNM0hI-_PsPqT9r_1Ky4jQiaBiNoQi3Elbvr8plC-QITUg=s100', 'phoneNumber': 'No phone number available'}\n",
      "127.0.0.1 - - [03/Jun/2024 19:21:16] \"POST /store-user-data HTTP/1.1\" 200 -\n",
      "INFO:werkzeug:127.0.0.1 - - [03/Jun/2024 19:21:16] \"POST /store-user-data HTTP/1.1\" 200 -\n",
      "127.0.0.1 - - [03/Jun/2024 19:21:29] \"OPTIONS /store-user-data HTTP/1.1\" 200 -\n",
      "INFO:werkzeug:127.0.0.1 - - [03/Jun/2024 19:21:29] \"OPTIONS /store-user-data HTTP/1.1\" 200 -\n",
      "INFO:__main__:Received user data: {'name': 'Sriram Nallani', 'email': 'sriramnallani35@gmail.com', 'picture': 'https://lh3.googleusercontent.com/a/ACg8ocI0kNM0hI-_PsPqT9r_1Ky4jQiaBiNoQi3Elbvr8plC-QITUg=s100', 'phoneNumber': 'No phone number available'}\n",
      "127.0.0.1 - - [03/Jun/2024 19:21:29] \"POST /store-user-data HTTP/1.1\" 200 -\n",
      "INFO:werkzeug:127.0.0.1 - - [03/Jun/2024 19:21:29] \"POST /store-user-data HTTP/1.1\" 200 -\n",
      "127.0.0.1 - - [03/Jun/2024 19:22:14] \"GET / HTTP/1.1\" 200 -\n",
      "INFO:werkzeug:127.0.0.1 - - [03/Jun/2024 19:22:14] \"GET / HTTP/1.1\" 200 -\n",
      "127.0.0.1 - - [03/Jun/2024 19:22:16] \"OPTIONS /store-user-data HTTP/1.1\" 200 -\n",
      "INFO:werkzeug:127.0.0.1 - - [03/Jun/2024 19:22:16] \"OPTIONS /store-user-data HTTP/1.1\" 200 -\n",
      "INFO:__main__:Received user data: {'name': 'Sriram Nallani', 'email': 'sriramnallani35@gmail.com', 'picture': 'https://lh3.googleusercontent.com/a/ACg8ocI0kNM0hI-_PsPqT9r_1Ky4jQiaBiNoQi3Elbvr8plC-QITUg=s100'}\n",
      "127.0.0.1 - - [03/Jun/2024 19:22:16] \"POST /store-user-data HTTP/1.1\" 200 -\n",
      "INFO:werkzeug:127.0.0.1 - - [03/Jun/2024 19:22:16] \"POST /store-user-data HTTP/1.1\" 200 -\n",
      "127.0.0.1 - - [03/Jun/2024 19:22:44] \"OPTIONS /store-user-data HTTP/1.1\" 200 -\n",
      "INFO:werkzeug:127.0.0.1 - - [03/Jun/2024 19:22:44] \"OPTIONS /store-user-data HTTP/1.1\" 200 -\n",
      "INFO:__main__:Received user data: {'name': 'Sriram Nallani', 'email': 'sriramnallani35@gmail.com', 'picture': 'https://lh3.googleusercontent.com/a/ACg8ocI0kNM0hI-_PsPqT9r_1Ky4jQiaBiNoQi3Elbvr8plC-QITUg=s100'}\n",
      "127.0.0.1 - - [03/Jun/2024 19:22:44] \"POST /store-user-data HTTP/1.1\" 200 -\n",
      "INFO:werkzeug:127.0.0.1 - - [03/Jun/2024 19:22:44] \"POST /store-user-data HTTP/1.1\" 200 -\n"
     ]
    }
   ],
   "source": [
    "from flask import Flask, request, jsonify, render_template_string\n",
    "from flask_cors import CORS\n",
    "import logging\n",
    "\n",
    "app = Flask(__name__)\n",
    "CORS(app)  # Allow cross-origin requests for all routes\n",
    "\n",
    "# Configure logging\n",
    "logging.basicConfig(level=logging.INFO)\n",
    "logger = logging.getLogger(__name__)\n",
    "\n",
    "# HTML template for displaying user data\n",
    "html_template = \"\"\"\n",
    "<!DOCTYPE html>\n",
    "<html>\n",
    "<head>\n",
    "    <title>User Data</title>\n",
    "</head>\n",
    "<body>\n",
    "    <h1>User Data</h1>\n",
    "    <p>Name: {{ name }}</p>\n",
    "    <p>Email: {{ email }}</p>\n",
    "    <p>Profile Picture: <img src=\"{{ picture }}\" alt=\"Profile Picture\"></p>\n",
    "    <p>Phone Number: {{ phoneNumber }}</p>\n",
    "</body>\n",
    "</html>\n",
    "\"\"\"\n",
    "\n",
    "@app.route('/')\n",
    "def index():\n",
    "    return \"Hello, this is the home page.\"\n",
    "\n",
    "@app.route('/store-user-data', methods=['POST'])\n",
    "def store_user_data():\n",
    "    try:\n",
    "        user_data = request.json\n",
    "        if not user_data:\n",
    "            logger.error('No user data received')\n",
    "            return jsonify({\"error\": \"No user data received\"}), 400\n",
    "\n",
    "        # Process user data as needed\n",
    "        logger.info(f'Received user data: {user_data}')\n",
    "\n",
    "        # Render the user data in the HTML template\n",
    "        rendered_html = render_template_string(\n",
    "            html_template,\n",
    "            name=user_data.get('name'),\n",
    "            email=user_data.get('email'),\n",
    "            picture=user_data.get('picture'),\n",
    "            phoneNumber=user_data.get('phoneNumber')\n",
    "        )\n",
    "        \n",
    "        return rendered_html\n",
    "    except Exception as e:\n",
    "        logger.exception('An error occurred while processing user data')\n",
    "        return jsonify({\"error\": str(e)}), 500\n",
    "\n",
    "if __name__ == '__main__':\n",
    "    app.run()\n"
   ]
  }
 ],
 "metadata": {
  "kernelspec": {
   "display_name": ".venv",
   "language": "python",
   "name": "python3"
  },
  "language_info": {
   "codemirror_mode": {
    "name": "ipython",
    "version": 3
   },
   "file_extension": ".py",
   "mimetype": "text/x-python",
   "name": "python",
   "nbconvert_exporter": "python",
   "pygments_lexer": "ipython3",
   "version": "3.12.0"
  }
 },
 "nbformat": 4,
 "nbformat_minor": 2
}
