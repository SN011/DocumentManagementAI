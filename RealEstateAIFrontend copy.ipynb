{
 "cells": [
  {
   "cell_type": "code",
   "execution_count": null,
   "metadata": {},
   "outputs": [],
   "source": [
    "# !pip install webrtcvad\n",
    "# !pip install pygame\n",
    "# !pip install pyaudio webrtcvad \n",
    "# !pip install google-cloud-texttospeech\n"
   ]
  },
  {
   "cell_type": "code",
   "execution_count": null,
   "metadata": {},
   "outputs": [],
   "source": [
    "import os\n",
    "from langchain_groq import ChatGroq\n",
    "from langchain_community.document_loaders import PyPDFDirectoryLoader, PyPDFLoader, WebBaseLoader\n",
    "from langchain.embeddings import HuggingFaceEmbeddings\n",
    "from langchain.text_splitter import RecursiveCharacterTextSplitter, TextSplitter\n",
    "from langchain.chains.combine_documents import create_stuff_documents_chain\n",
    "from langchain_core.prompts import ChatPromptTemplate\n",
    "from langchain.chains import create_retrieval_chain\n",
    "from langchain_community.vectorstores import FAISS\n",
    "from langchain.agents.agent_toolkits import ZapierToolkit\n",
    "from docx import Document\n",
    "from langchain.utilities.zapier import ZapierNLAWrapper\n",
    "from langchain.agents import initialize_agent , create_structured_chat_agent, AgentType\n",
    "import random\n",
    "from groq import Groq\n",
    "from QuoteUtils import CtxMgr\n",
    "from groq import Groq\n",
    "import random\n",
    "from langchain_groq import ChatGroq\n",
    "api_keys = ['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','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',\n",
    "            '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','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']\n",
    "\n",
    "client = Groq(\n",
    "    \n",
    "    api_key = random.choice(api_keys)\n",
    ")\n",
    "\n",
    "llm = ChatGroq(groq_api_key = client.api_key,\n",
    "               model_name = \"llama3-70b-8192\")"
   ]
  },
  {
   "cell_type": "code",
   "execution_count": null,
   "metadata": {},
   "outputs": [],
   "source": [
    "import os\n",
    "from docx import Document\n",
    "from docx.shared import Pt, RGBColor\n",
    "from docx.enum.text import WD_ALIGN_PARAGRAPH\n",
    "from docx.oxml.ns import qn\n",
    "from docx.oxml import OxmlElement\n",
    "from docx2pdf import convert\n",
    "from langchain.tools import BaseTool\n",
    "import re\n",
    "import json\n",
    "import time\n",
    "from google.oauth2 import service_account\n",
    "from googleapiclient.discovery import build\n",
    "\n",
    "llm.groq_api_key = random.choice(api_keys)"
   ]
  },
  {
   "cell_type": "code",
   "execution_count": null,
   "metadata": {},
   "outputs": [],
   "source": [
    "def make_docmgr_write_to_file(cc_out):\n",
    "    chat_completion = client.chat.completions.create(\n",
    "        messages=[\n",
    "            {\n",
    "                \"role\": \"system\",\n",
    "                \"content\": \"\"\"You are a detailed and professional assistant. Your task is to generate comprehensive and detailed formatted text. \n",
    "                Ensure everything is included !!!!! DO NOT DO NOT DO NOTTTTTTT summarize or truncate any content. OR ELSE I WILL GET REALLY MAD YOU MUST INCLUDE EVERYTHING INCLUDE EVERYTHHIINGNGNGNGNGNGNGGGG!!!!!!!\n",
    "                Your response must be well-formed and include all details. \n",
    "\n",
    "                You must ALWAYS ALWAYS ALWAYS!!!!! output in a structured format as follows AND NO QUOTATION MARKS OR BACKSLASHES!:\n",
    "                \n",
    "                            \n",
    "                {\n",
    "                    \"title\": \"The Great Renovation\",\n",
    "                    \"sections\": [\n",
    "                        {\n",
    "                            \"content\": \"<specific text content>\",\n",
    "                            \"font_name\": \"<font family>\",\n",
    "                            \"font_size\": <integer specifying font size>,\n",
    "                            \"bold\": <true or false>,\n",
    "                            \"italic\": <true or false>,\n",
    "                            \"alignment\": \"<right, left, justify or center>\"\n",
    "                            \"color\": [<integer for red>, <integer for green>, <integer for blue>]\n",
    "                        },\n",
    "                        {\n",
    "                            \"content\": \"<another specific text content>\",\n",
    "                            \"font_name\": \"<another font family>\",\n",
    "                            \"font_size\": <another integer specifying font size>,\n",
    "                            \"bold\": <true or false>,\n",
    "                            \"italic\": <true or false>,\n",
    "                            \"alignment\": \"<right, left, justify or center>\"\n",
    "                            \"color\": [<integer for red>, <integer for green>, <integer for blue>]\n",
    "                        }\n",
    "                        // ... more sections as needed\n",
    "                    ],\n",
    "                    \"append\": <true or false> (this indicates appending to document or not)\n",
    "                }\n",
    "                PLEASE! Ensure the output is well-formed and valid.\"\"\"\n",
    "            },\n",
    "            {\n",
    "                \"role\": \"user\",\n",
    "                \"content\": \"Give whatever file title you want;NO COLONS!ONLY HYPHENS!. Please Include a new title IN THE DOCUMENT, headings if you deem fit, and please format in a nice readable and coherent way.  \\\n",
    "                    Specify the formatting for this text. Please make it a \\\n",
    "                        PROFESSIONALLY formatted text WITH black & blue colors and times new roman font PLEASE. NO NO NO bullet points of ANY KIND unless specified: \" + cc_out\n",
    "            }\n",
    "        ],\n",
    "        model=\"llama3-70b-8192\",\n",
    "    )\n",
    "\n",
    "    cc_out2 = chat_completion.choices[0].message.content\n",
    "\n",
    "    print('CCOUT2\\n',cc_out2)\n",
    "\n",
    "    # title, sections, append = parse_formatted_response(cc_out2)\n",
    "\n",
    "    # WriteFileTool()._run(title, sections, append)\n",
    "\n",
    "    return cc_out2\n",
    "\n",
    "#make_docmgr_write_to_file()\n"
   ]
  },
  {
   "cell_type": "code",
   "execution_count": null,
   "metadata": {},
   "outputs": [],
   "source": [
    "import os\n",
    "from google.oauth2.credentials import Credentials\n",
    "from google_auth_oauthlib.flow import InstalledAppFlow\n",
    "from google.auth.transport.requests import Request\n",
    "from googleapiclient.discovery import build\n",
    "import googleapiclient.errors\n",
    "from googleapiclient.errors import HttpError\n",
    "import re\n",
    "import time\n",
    "\n",
    "DOCUMENT_IDS_FILE = \"document_ids.txt\"\n",
    "SCOPES = ['https://www.googleapis.com/auth/documents', 'https://www.googleapis.com/auth/drive']\n",
    "\n",
    "def authenticate(credentials_path):\n",
    "    \"\"\"Authenticate the user with Google Drive API using OAuth 2.0.\"\"\"\n",
    "    creds = None\n",
    "    if os.path.exists('token.json'):\n",
    "        creds = Credentials.from_authorized_user_file('token.json', SCOPES)\n",
    "    if not creds or not creds.valid:\n",
    "        if creds and creds.expired and creds.refresh_token:\n",
    "            creds.refresh(Request())\n",
    "        else:\n",
    "            flow = InstalledAppFlow.from_client_secrets_file(credentials_path, SCOPES)\n",
    "            creds = flow.run_local_server(port=0)\n",
    "        with open('token.json', 'w') as token:\n",
    "            token.write(creds.to_json())\n",
    "    return creds\n",
    "\n",
    "# Initialize credentials and API clients\n",
    "credentials_path = \"C:\\\\DEV\\\\WebdevFolder\\\\client_secret_291175256673-gr5p5vf3pi2h0m46h5qnd3ila4iitfqs.apps.googleusercontent.com.json\"\n",
    "creds = authenticate(credentials_path)\n",
    "docs_service = build('docs', 'v1', credentials=creds)\n",
    "drive_service = build('drive', 'v3', credentials=creds)\n",
    "\n",
    "def create_google_doc(title):\n",
    "    body = {\n",
    "        'title': title\n",
    "    }\n",
    "    doc = docs_service.documents().create(body=body).execute()\n",
    "    with open(DOCUMENT_IDS_FILE,'w') as difile:\n",
    "        difile.write(doc['documentId'])\n",
    "    return doc['documentId']\n",
    "\n",
    "def share_document_with_user(document_id, user_email):\n",
    "    permission = {\n",
    "        'type': 'user',\n",
    "        'role': 'writer',\n",
    "        'emailAddress': user_email\n",
    "    }\n",
    "    try:\n",
    "        drive_service.permissions().create(\n",
    "            fileId=document_id,\n",
    "            body=permission,\n",
    "            fields='id'\n",
    "        ).execute()\n",
    "        print(f'Document shared with {user_email}')\n",
    "    except googleapiclient.errors.HttpError as error:\n",
    "        print(f'An error occurred: {error}')\n",
    "        if 'User message' in error.resp.reason:\n",
    "            print(error.resp['User message'])\n",
    "\n",
    "def get_document_end_index(document_id):\n",
    "    doc = docs_service.documents().get(documentId=document_id).execute()\n",
    "    content = doc.get('body').get('content')\n",
    "    print(f'Document content: {content}')  # Debug print\n",
    "    end_index = content[-1]['endIndex'] if content else 1\n",
    "    print(f'Document end index: {end_index}')  # Debug print\n",
    "    return end_index\n",
    "\n",
    "\n",
    "def append_text_with_formatting(document_id, text, font_name, font_size, bold, italic, alignment, color, start_index):\n",
    "    if not text.strip():\n",
    "        return start_index  # Skip empty text\n",
    "\n",
    "    # Ensure the start index is within valid bounds\n",
    "    start_index = max(1, start_index - 1)\n",
    "\n",
    "    # Debug print for start_index and text\n",
    "    print(f'Appending text starting at index: {start_index}')\n",
    "    print(f'Text to append: {text}')\n",
    "\n",
    "    requests = [\n",
    "        {\n",
    "            'insertText': {\n",
    "                'location': {\n",
    "                    'index': start_index,\n",
    "                },\n",
    "                'text': text\n",
    "            }\n",
    "        }\n",
    "    ]\n",
    "    text_style = {\n",
    "        'fontSize': {\n",
    "            'magnitude': font_size,\n",
    "            'unit': 'PT'\n",
    "        },\n",
    "        'weightedFontFamily': {\n",
    "            'fontFamily': font_name\n",
    "        },\n",
    "        'bold': bold,\n",
    "        'italic': italic,\n",
    "        'foregroundColor': {\n",
    "            'color': {\n",
    "                'rgbColor': {\n",
    "                    'red': color[0] / 255.0,\n",
    "                    'green': color[1] / 255.0,\n",
    "                    'blue': color[2] / 255.0\n",
    "                }\n",
    "            }\n",
    "        }\n",
    "    }\n",
    "    requests.append({\n",
    "        'updateTextStyle': {\n",
    "            'range': {\n",
    "                'startIndex': start_index,\n",
    "                'endIndex': start_index + len(text)\n",
    "            },\n",
    "            'textStyle': text_style,\n",
    "            'fields': 'foregroundColor,bold,italic,fontSize,weightedFontFamily'\n",
    "        }\n",
    "    })\n",
    "\n",
    "    alignment_mapping = {\n",
    "        \"left\": \"START\",\n",
    "        \"center\": \"CENTER\",\n",
    "        \"right\": \"END\",\n",
    "        \"justify\": \"JUSTIFIED\"\n",
    "    }\n",
    "\n",
    "    if alignment.lower() in alignment_mapping:\n",
    "        google_alignment = alignment_mapping[alignment.lower()]\n",
    "        requests.append({\n",
    "            'updateParagraphStyle': {\n",
    "                'range': {\n",
    "                    'startIndex': start_index,\n",
    "                    'endIndex': start_index + len(text)\n",
    "                },\n",
    "                'paragraphStyle': {\n",
    "                    'alignment': google_alignment\n",
    "                },\n",
    "                'fields': 'alignment'\n",
    "            }\n",
    "        })\n",
    "\n",
    "    try:\n",
    "        # Execute the batchUpdate request\n",
    "        response = docs_service.documents().batchUpdate(documentId=document_id, body={'requests': requests}).execute()\n",
    "        print(f'Batch update response: {response}')  # Debug print\n",
    "    except HttpError as error:\n",
    "        print(f'An error occurred during batchUpdate: {error}')\n",
    "        raise  # Re-raise the error to be caught by the calling function\n",
    "\n",
    "    return start_index + len(text)\n",
    "\n",
    "def write_to_google_doc(document_id, sections, append):\n",
    "    start_index = get_document_end_index(document_id) if append else 1\n",
    "    print(f'Start index: {start_index}')  # Debug print\n",
    "    for section in sections:\n",
    "        start_index = append_text_with_formatting(\n",
    "            document_id,\n",
    "            section['content'] + \"\\n\\n\",\n",
    "            section.get('font_name', 'Times New Roman'),\n",
    "            section.get('font_size', 12),\n",
    "            section.get('bold', False),\n",
    "            section.get('italic', False),\n",
    "            section.get('alignment', 'left'),\n",
    "            section.get('color', [0, 0, 0]),\n",
    "            start_index\n",
    "        )\n",
    "        print(f'New start index: {start_index}')  # Debug print\n",
    "        time.sleep(1)\n",
    "    print(f'Finished writing to document ID: {document_id}')  # Debug print\n",
    "\n",
    "\n",
    "def parse_formatted_response(response):\n",
    "    title_match = re.search(r'\"title\":\\s*\"([^\"]+)\"', response)\n",
    "    title = title_match.group(1) if title_match else \"Untitled Document\"\n",
    "    \n",
    "    sections_matches = re.findall(r'\\{([^}]+)\\}', response)\n",
    "    sections = []\n",
    "    for match in sections_matches:\n",
    "        section = {}\n",
    "        content_match = re.search(r'\"content\":\\s*\"([^\"]+)\"', match)\n",
    "        font_name_match = re.search(r'\"font_name\":\\s*\"([^\"]+)\"', match)\n",
    "        font_size_match = re.search(r'\"font_size\":\\s*(\\d+)', match)\n",
    "        bold_match = re.search(r'\"bold\":\\s*(true|false)', match)\n",
    "        italic_match = re.search(r'\"italic\":\\s*(true|false)', match)\n",
    "        alignment_match = re.search(r'\"alignment\":\\s*\"([^\"]+)\"', match)\n",
    "        color_match = re.search(r'\"color\":\\s*\\[(\\d+),\\s*(\\d+),\\s*(\\d+)\\]', match)\n",
    "        \n",
    "        if content_match:\n",
    "            content = content_match.group(1)\n",
    "            # Replace double quotes indicating inches with the word \"inch\"\n",
    "            content = re.sub(r'(?<=\\d)\"', ' inch', content)\n",
    "            section[\"content\"] = content\n",
    "        else:\n",
    "            section[\"content\"] = \"\"\n",
    "        \n",
    "        section[\"font_name\"] = font_name_match.group(1) if font_name_match else \"Arial\"\n",
    "        section[\"font_size\"] = int(font_size_match.group(1)) if font_size_match else 12\n",
    "        section[\"bold\"] = bold_match.group(1) == \"true\" if bold_match else False\n",
    "        section[\"italic\"] = italic_match.group(1) == \"true\" if italic_match else False\n",
    "        section[\"alignment\"] = alignment_match.group(1) if alignment_match else \"left\"\n",
    "        if color_match:\n",
    "            section[\"color\"] = (int(color_match.group(1)), int(color_match.group(2)), int(color_match.group(3)))\n",
    "        \n",
    "        sections.append(section)\n",
    "    \n",
    "    append_match = re.search(r'\"append\":\\s*(true|false)', response)\n",
    "    append = append_match.group(1) == \"true\" if append_match else False\n",
    "    \n",
    "    return title, sections, append\n",
    "\n",
    "def search_document_by_name(name):\n",
    "    query = f\"name = '{name}' and mimeType = 'application/vnd.google-apps.document' and trashed = false\"\n",
    "    results = drive_service.files().list(q=query, fields=\"files(id, name)\").execute()\n",
    "    items = results.get('files', [])\n",
    "    return items\n",
    "\n",
    "class GoogleDocWriteTool(BaseTool):\n",
    "    def __init__(self):\n",
    "        super().__init__(name=\"GoogleDocWriteTool\", description=\"Writes any amount of content to a Google Doc with professional formatting\")\n",
    "\n",
    "    def _run(self, input_text, user_email, append=False, document_name=None):\n",
    "        try:\n",
    "            # Parse the input text\n",
    "            processed_input = make_docmgr_write_to_file(input_text)\n",
    "            title, sections, append_response = parse_formatted_response(processed_input)\n",
    "            append = append or append_response\n",
    "\n",
    "            # Search for the document by name\n",
    "            if document_name:\n",
    "                documents = search_document_by_name(document_name)\n",
    "                if documents:\n",
    "                    document_id = documents[0]['id']\n",
    "                    print(f'Found existing document with ID: {document_id}')\n",
    "                else:\n",
    "                    document_id = create_google_doc(document_name)\n",
    "                    print(f'Document created with ID: {document_id}')\n",
    "            else:\n",
    "                document_id = create_google_doc(title)\n",
    "                print(f'Document created with ID: {document_id}')\n",
    "\n",
    "            # Share the document with the user's email\n",
    "            print(f'Sharing document with ID: {document_id} with {user_email}')  # Debug print\n",
    "            share_document_with_user(document_id, user_email)\n",
    "            print(f'Document shared with {user_email}')  # Debug print\n",
    "\n",
    "            # Write the content to the Google Doc\n",
    "            print(f'Writing content to document ID: {document_id}')  # Debug print\n",
    "            write_to_google_doc(document_id, sections, append)\n",
    "            print(f'Content written to document ID: {document_id}')  # Debug print\n",
    "\n",
    "            # Return the URL to access the document\n",
    "            document_url = f'https://docs.google.com/document/d/{document_id}/edit'\n",
    "            print(f'Access the document at: {document_url}')\n",
    "            return \"THE CONTENT HAS BEEN WRITTEN!!!!!!!! PLEASE STOP!!!!!!!! YOURE DONE!!!!!!!!! NO MORE!!!!\"\n",
    "        except HttpError as error:\n",
    "            print(f'An error occurred: {error}')\n",
    "            return f\"An error occurred: {error}\"\n"
   ]
  },
  {
   "cell_type": "code",
   "execution_count": null,
   "metadata": {},
   "outputs": [],
   "source": [
    "from langchain.tools import BaseTool\n",
    "import os\n",
    "import smtplib\n",
    "from email.mime.multipart import MIMEMultipart\n",
    "from email.mime.text import MIMEText\n",
    "from google.oauth2 import service_account\n",
    "from googleapiclient.discovery import build\n",
    "from googleapiclient.http import MediaFileUpload\n",
    "import googleapiclient\n",
    "import google.auth.exceptions\n",
    "\n",
    "class GoogleDriveUploadTool(BaseTool):\n",
    "    name = \"GoogleDriveUploadTool\"\n",
    "    description = (\"Uploads a PDF to Google Drive and sets permissions for a specific user. \"\n",
    "                   \"Please set the 'rename' parameter to None if the user does not want to rename the file before uploading \"\n",
    "                   \"to Google Drive. STOP AFTER ONE-TIME SUCCESSFUL EXECUTION\")\n",
    "\n",
    "    def _run(self, file_path: str, user_email: str, rename: str) -> str:\n",
    "        #credentials_path = \"C:\\Users\\THEBATMAN\\Documents\\GitHub\\RealEstateAI\\filemanager-425819-341d30387005.json\"\n",
    "        credentials_path = \"C:\\\\DEV\\\\WebdevFolder\\\\realestateai-doc-mgr-3a0e2f411c8d.json\"\n",
    "        # Authenticate and create the service\n",
    "        try:\n",
    "            credentials = service_account.Credentials.from_service_account_file(credentials_path)\n",
    "            service = build('drive', 'v3', credentials=credentials)\n",
    "            print(\"Successfully authenticated and created the service.\")\n",
    "        except google.auth.exceptions.GoogleAuthError as e:\n",
    "            return f\"Authentication error: {e}\"\n",
    "\n",
    "        # File details\n",
    "        if rename is not None:\n",
    "            file_metadata = {'name': rename}\n",
    "        else:\n",
    "            file_metadata = {'name': os.path.basename(file_path)}\n",
    "\n",
    "        if not os.path.exists(file_path):\n",
    "            return f\"File not found: {file_path}\"\n",
    "        else:\n",
    "            media = MediaFileUpload(file_path, mimetype='application/pdf')\n",
    "            try:\n",
    "                # Upload file\n",
    "                file = service.files().create(body=file_metadata, media_body=media, fields='id, name, parents').execute()\n",
    "                file_id = file.get('id')\n",
    "                with open('file_id_history.txt','w') as id_hist_file:\n",
    "                    id_hist_file.write(file_id)\n",
    "                print(f\"File ID: {file_id}\")\n",
    "\n",
    "                # Verify the upload by fetching the file details\n",
    "                file_info = service.files().get(fileId=file_id, fields='id, name, parents').execute()\n",
    "                print(\"File details:\")\n",
    "                print(file_info)\n",
    "\n",
    "                # Sharing settings\n",
    "                permission = {\n",
    "                    'type': 'user',\n",
    "                    'role': 'writer',  # Set to 'reader' if read-only access is needed\n",
    "                    'emailAddress': user_email,\n",
    "                    \n",
    "                }\n",
    "                \n",
    "\n",
    "                # Grant permission to the specific user\n",
    "                try:\n",
    "                    service.permissions().create(\n",
    "                        fileId=file_id,\n",
    "                        body=permission,\n",
    "                        fields='id',\n",
    "                        sendNotificationEmail=False\n",
    "                    ).execute()\n",
    "                    \n",
    "                    print(f\"Granted {permission['role']} access to {user_email}\")\n",
    "                    \n",
    "                    \n",
    "\n",
    "                except googleapiclient.errors.HttpError as e:\n",
    "                    print(f\"Error setting permission: {e}\")\n",
    "                    return f\"Error setting permission: {e}\"\n",
    "\n",
    "                return f\"File uploaded and permissions set successfully. File ID: {file_id}. PLEASE STOP WORKING! THE TOOL HAS BEEN EXECUTED PROPERLY!\" \n",
    "\n",
    "            except Exception as e:\n",
    "                return f\"Error during file upload or conversion: {e}\"\n",
    "\n",
    "    \n",
    "\n",
    "    def _arun(self, file_path: str, user_email: str, rename: str):\n",
    "        raise NotImplementedError(\"This tool does not support asynchronous operation yet.\")\n",
    "\n",
    "# Example usage\n",
    "# tool = GoogleDriveUploadTool()\n",
    "# response = tool._run(file_path='./documents/The Great Renovation.pdf', user_email='specific-user@example.com', rename=None)\n",
    "# print(response)\n",
    "\n",
    "import os\n",
    "import google.auth\n",
    "from google.oauth2.credentials import Credentials\n",
    "from google_auth_oauthlib.flow import InstalledAppFlow\n",
    "from google.auth.transport.requests import Request\n",
    "from googleapiclient.discovery import build\n",
    "\n",
    "\n",
    "class GoogleSheetsUpdateTool(BaseTool):\n",
    "    name = \"GoogleSheetsUpdateTool\"\n",
    "    description = (\"Appends three columns - name, phone number, and link to a PDF - to a preexisting logging google sheet. STOP AFTER ONE-TIME SUCCESSFUL EXECUTION\")\n",
    "    SCOPES = ['https://www.googleapis.com/auth/spreadsheets']\n",
    "    #credentials_path = 'C:\\Users\\THEBATMAN\\Documents\\GitHub\\RealEstateAI\\filemanager-425819-341d30387005.json'\n",
    "    credentials_path = \"C:\\\\DEV\\\\WebdevFolder\\\\realestateai-doc-mgr-3a0e2f411c8d.json\"\n",
    "    spreadsheet_id = '1TSFyiTwctC1tABr2RQouBzLRMCG4RZ7lXdTVi-I58Mo'\n",
    "    range_name = 'Sheet1'\n",
    "    \n",
    "    #creds = authenticate_google_sheets()\n",
    "    \n",
    "    def authenticate_google_sheets(self):\n",
    "        creds = service_account.Credentials.from_service_account_file(\n",
    "            self.credentials_path, scopes=self.SCOPES)\n",
    "        return creds\n",
    "    \n",
    "    def read_file_content(self, file_path):\n",
    "        with open(file_path, 'r') as file:\n",
    "            content = file.read().strip()\n",
    "        return content\n",
    "    \n",
    "    \n",
    "    def append_row_to_google_sheets(self, values):\n",
    "        \"\"\"\n",
    "        Appends a row to the specified range in the Google Sheets spreadsheet.\n",
    "        \n",
    "        :param values: The data to append, as a list of lists (e.g., [['A1', 'B1', 'C1']]).\n",
    "        \"\"\"\n",
    "        service = build('sheets', 'v4', credentials=self.authenticate_google_sheets())\n",
    "        sheet = service.spreadsheets()\n",
    "        body = {'values': values}\n",
    "        result = sheet.values().append(\n",
    "            spreadsheetId=self.spreadsheet_id, range=self.range_name,\n",
    "            valueInputOption=\"RAW\", body=body,\n",
    "            insertDataOption=\"INSERT_ROWS\"\n",
    "        ).execute()\n",
    "        print(f\"{result.get('updates').get('updatedCells')} cells appended.\")\n",
    "\n",
    "    def _run(self, name: str, phone_number: str, linkstr:str):\n",
    "        \"\"\"\n",
    "        Run the tool to append the row with the given name, phone number, and link to the PDF.\n",
    "        \n",
    "        :param name: The full legal name to append.\n",
    "        :param phone_number: The phone number to append.\n",
    "        \"\"\"\n",
    "        fileID = self.read_file_content('file_id_history.txt')\n",
    "        \n",
    "        print(f\"Extracted file ID: {fileID}\")\n",
    "        link = f\"https://drive.google.com/file/d/{fileID}/view\"\n",
    "        values = [[]]\n",
    "        if linkstr:\n",
    "            values = [[name, phone_number, linkstr]]\n",
    "        else:\n",
    "            values = [[name, phone_number, link]]\n",
    "        self.append_row_to_google_sheets(values)\n",
    "        return \"Row appended successfully. YOU ARE DONNNNEEEEEEEEEEEEE!!!!!!!! TOOL EXECUTED SUCCESSFULLY!!!!!!!!!!!!!\"\n",
    "\n",
    "    def _arun(self, name: str, phone_number: str):\n",
    "        raise NotImplementedError(\"This tool does not support asynchronous operation yet.\")\n",
    "    \n",
    "import os\n",
    "import base64\n",
    "from google.auth.transport.requests import Request\n",
    "from google.oauth2.credentials import Credentials\n",
    "from google_auth_oauthlib.flow import InstalledAppFlow\n",
    "from googleapiclient.discovery import build\n",
    "from googleapiclient.errors import HttpError\n",
    "from email.mime.multipart import MIMEMultipart\n",
    "from email.mime.base import MIMEBase\n",
    "from email.mime.text import MIMEText\n",
    "from email import encoders\n",
    "from langchain.tools import BaseTool\n",
    "from pydantic import BaseModel, Field, Extra\n",
    "\n",
    "# If modifying these SCOPES, delete the file token.json.\n",
    "SCOPES = ['https://www.googleapis.com/auth/gmail.send']\n",
    "\n",
    "class GmailSendPdfTool(BaseTool):\n",
    "    name = \"GmailSendPdfTool\"\n",
    "    description = \"Sends an email with an optional PDF attachment using Gmail API.\"\n",
    "\n",
    "    credentials_path: str = Field(..., description=\"Path to the credentials JSON file\")\n",
    "\n",
    "    class Config:\n",
    "        extra = Extra.allow\n",
    "\n",
    "    def __init__(self, credentials_path: str):\n",
    "        super().__init__()\n",
    "        self.credentials_path = credentials_path\n",
    "        self.creds = None\n",
    "        self.service = None\n",
    "        self.authenticate()\n",
    "\n",
    "    def authenticate(self):\n",
    "        \"\"\"Authenticate the user with Gmail API.\"\"\"\n",
    "        if not self.creds or not self.creds.valid:\n",
    "            if self.creds and self.creds.expired and self.creds.refresh_token:\n",
    "                self.creds.refresh(Request())\n",
    "            else:\n",
    "                flow = InstalledAppFlow.from_client_secrets_file(self.credentials_path, SCOPES)\n",
    "                self.creds = flow.run_local_server(port=0)\n",
    "            \n",
    "        self.service = build('gmail', 'v1', credentials=self.creds)\n",
    "\n",
    "    def send_email(self, sender_email, recipient_email, subject, body, pdf_path=None):\n",
    "        \"\"\"Send an email with an optional PDF attachment.\"\"\"\n",
    "        message = MIMEMultipart()\n",
    "        message['to'] = recipient_email\n",
    "        message['from'] = sender_email\n",
    "        message['subject'] = subject\n",
    "        body_part = MIMEText(body, 'plain')\n",
    "        message.attach(body_part)\n",
    "        \n",
    "        if pdf_path:\n",
    "            part = MIMEBase('application', 'octet-stream')\n",
    "            with open(pdf_path, 'rb') as file:\n",
    "                part.set_payload(file.read())\n",
    "            encoders.encode_base64(part)\n",
    "            part.add_header('Content-Disposition', f'attachment; filename=\"{os.path.basename(pdf_path)}\"')\n",
    "            message.attach(part)\n",
    "       \n",
    "        raw_message = base64.urlsafe_b64encode(message.as_bytes()).decode()\n",
    "        raw_message = {'raw': raw_message}\n",
    "\n",
    "        try:\n",
    "            message = (self.service.users().messages().send(userId=\"me\", body=raw_message).execute())\n",
    "            print(f'Message Id: {message[\"id\"]}')\n",
    "            return message\n",
    "        except HttpError as error:\n",
    "            print(f'An error occurred: {error}')\n",
    "            return None\n",
    "\n",
    "    def _run(self, sender_email: str, recipient_email: str, subject: str, body: str, pdf_path: str = None):\n",
    "        \"\"\"Run the tool to send the email with the optional PDF attachment.\"\"\"\n",
    "        result = self.send_email(sender_email, recipient_email, subject, body, pdf_path)\n",
    "        return \"Email sent successfully. YOU ARE DONNNNEEEEEEEEEEEEE!!!!!!!! TOOL EXECUTED SUCCESSFULLY!!!!!!!!!!!!!\" if result else \"Failed to send email.\"\n",
    "\n",
    "    def _arun(self):\n",
    "        raise NotImplementedError(\"This tool does not support asynchronous operation yet.\")\n",
    "    \n",
    "\n",
    "\n"
   ]
  },
  {
   "cell_type": "code",
   "execution_count": null,
   "metadata": {},
   "outputs": [],
   "source": [
    "import os\n",
    "from google.oauth2.credentials import Credentials\n",
    "from google_auth_oauthlib.flow import InstalledAppFlow\n",
    "from google.auth.transport.requests import Request\n",
    "from googleapiclient.discovery import build\n",
    "from googleapiclient.errors import HttpError\n",
    "\n",
    "from langchain.tools import BaseTool\n",
    "from pydantic import BaseModel, Field, Extra\n",
    "\n",
    "SCOPES = ['https://www.googleapis.com/auth/drive']\n",
    "\n",
    "class CreateFolderTool(BaseTool):\n",
    "    name = \"CreateFolderTool\"\n",
    "    description = \"Creates a new folder in Google Drive using OAuth 2.0 for secure user authentication.\"\n",
    "    credentials_path: str = Field(..., description=\"Path to the credentials JSON file\")\n",
    "\n",
    "    class Config:\n",
    "        extra = Extra.allow\n",
    "\n",
    "    def __init__(self, credentials_path: str):\n",
    "        super().__init__()\n",
    "        self.credentials_path = credentials_path\n",
    "        self.creds = None\n",
    "        self.authenticate()\n",
    "\n",
    "    def authenticate(self):\n",
    "        \"\"\"Authenticate the user with Google Drive API.\"\"\"\n",
    "        if not self.creds or not self.creds.valid:\n",
    "            if self.creds and self.creds.expired and self.creds.refresh_token:\n",
    "                self.creds.refresh(Request())\n",
    "            else:\n",
    "                flow = InstalledAppFlow.from_client_secrets_file(self.credentials_path, SCOPES)\n",
    "                self.creds = flow.run_local_server(port=0)\n",
    "        \n",
    "        self.service = build('drive', 'v3', credentials=self.creds)\n",
    "\n",
    "    def search_folder(self, folder_name: str):\n",
    "        \"\"\"Search for a folder by name in Google Drive.\"\"\"\n",
    "        try:\n",
    "            query = f\"name = '{folder_name}' and mimeType = 'application/vnd.google-apps.folder' and trashed = false\"\n",
    "            results = self.service.files().list(q=query, fields=\"files(id, name)\").execute()\n",
    "            items = results.get('files', [])\n",
    "            if items:\n",
    "                print(f'Found folder: {items[0][\"name\"]} (ID: {items[0][\"id\"]})')\n",
    "                \n",
    "                return items[0]['id']\n",
    "            return None\n",
    "        except HttpError as error:\n",
    "            print(f'An error occurred during folder search: {error}')\n",
    "            return None\n",
    "\n",
    "    def create_folder(self, folder_name: str):\n",
    "        \"\"\"Create a folder in Google Drive.\"\"\"\n",
    "        folder_id = self.search_folder(folder_name)\n",
    "        if folder_id:\n",
    "            print(f'Folder \"{folder_name}\" already exists with ID: {folder_id}')\n",
    "            with open('folder_ids.txt','w') as f:\n",
    "                f.write(folder_id)\n",
    "            return folder_id\n",
    "        \n",
    "        file_metadata = {\n",
    "            'name': folder_name,\n",
    "            'mimeType': 'application/vnd.google-apps.folder'\n",
    "        }\n",
    "        try:\n",
    "            file = self.service.files().create(body=file_metadata, fields='id').execute()\n",
    "            print(f'Folder \"{folder_name}\" created with ID: {file.get(\"id\")}')\n",
    "            with open('folder_ids.txt','w') as f:\n",
    "                f.write(file.get('id'))\n",
    "            return file.get('id')\n",
    "        except HttpError as error:\n",
    "            print(f'An error occurred while creating folder: {error}')\n",
    "            return None\n",
    "\n",
    "    def _run(self, folder_name: str):\n",
    "        \"\"\"Run the tool to create a folder in Google Drive.\"\"\"\n",
    "        result = self.create_folder(folder_name)\n",
    "        return result if result else \"Failed to create folder.\"\n",
    "\n",
    "    def _arun(self):\n",
    "        raise NotImplementedError(\"This tool does not support asynchronous operation yet.\")\n",
    "\n",
    "\n",
    "class MoveFileTool(BaseTool):\n",
    "    name = \"MoveFileTool\"\n",
    "    description = \"Moves a file within Google Drive using OAuth 2.0 for secure user authentication. It searches for a file by name and moves it to the specified folder.\"\n",
    "    credentials_path: str = Field(..., description=\"Path to the credentials JSON file\")\n",
    "\n",
    "    class Config:\n",
    "        extra = Extra.allow\n",
    "\n",
    "    def __init__(self, credentials_path: str):\n",
    "        super().__init__()\n",
    "        self.credentials_path = credentials_path\n",
    "        self.creds = None\n",
    "        self.tmp_folder_id = None\n",
    "        self.authenticate()\n",
    "        #self.ensure_tmp_folder()\n",
    "\n",
    "    def authenticate(self):\n",
    "        \"\"\"Authenticate the user with Google Drive API.\"\"\"\n",
    "        print(\"Authenticating with Google Drive API...\")\n",
    "        if not self.creds or not self.creds.valid:\n",
    "            if self.creds and self.creds.expired and self.creds.refresh_token:\n",
    "                print(\"Refreshing expired credentials...\")\n",
    "                self.creds.refresh(Request())\n",
    "            else:\n",
    "                print(\"Running local server for authentication...\")\n",
    "                flow = InstalledAppFlow.from_client_secrets_file(self.credentials_path, SCOPES)\n",
    "                self.creds = flow.run_local_server(port=0)\n",
    "        \n",
    "        self.service = build('drive', 'v3', credentials=self.creds)\n",
    "        print(\"Authentication successful.\")\n",
    "\n",
    "    def ensure_tmp_folder(self):\n",
    "        \"\"\"Ensure the temporary folder exists.\"\"\"\n",
    "        create_folder_tool = CreateFolderTool(credentials_path=self.credentials_path)\n",
    "        self.tmp_folder_id = create_folder_tool.create_folder('tmp')\n",
    "\n",
    "    def search_file(self, file_name: str):\n",
    "        \"\"\"Search for a file by name in Google Drive.\"\"\"\n",
    "        print(f\"Searching for file: {file_name}\")\n",
    "        try:\n",
    "            query = f\"name contains '{file_name}' and trashed=false\"\n",
    "            print(f\"Query: {query}\")\n",
    "            results = self.service.files().list(q=query, fields=\"files(id, name)\").execute()\n",
    "            items = results.get('files', [])\n",
    "            if not items:\n",
    "                print(f'No files found with the name: {file_name}')\n",
    "                return None\n",
    "            for item in items:\n",
    "                print(f'Found file: {item[\"name\"]} (ID: {item[\"id\"]})')\n",
    "            return items[0]['id']  # Return the first matching file ID\n",
    "        except HttpError as error:\n",
    "            print(f'An error occurred during file search: {error}')\n",
    "            return None\n",
    "  \n",
    "    def move_file(self, file_id: str, folder_id: str):\n",
    "        \"\"\"Move the file to the new folder.\"\"\"\n",
    "        print(f\"Moving file ID: {file_id} to folder ID: {folder_id}\")\n",
    "        try:\n",
    "            # Retrieve the existing parents to remove\n",
    "            print(\"Retrieving existing parents...\")\n",
    "            file = self.service.files().get(fileId=file_id, fields='parents').execute()\n",
    "            previous_parents = file.get('parents', [])\n",
    "            if not isinstance(previous_parents, list):\n",
    "                print(f\"Unexpected format for parents field: {previous_parents}\")\n",
    "                previous_parents = []\n",
    "            previous_parents_str = \",\".join(previous_parents)\n",
    "            print(f\"Previous parents: {previous_parents_str}\")\n",
    "\n",
    "            # if not previous_parents_str:\n",
    "            #     # Add the file to a temporary parent folder first\n",
    "            #     print(f\"No previous parents. Adding file to temporary folder first...\")\n",
    "            #     self.service.files().update(\n",
    "            #         fileId=file_id,\n",
    "            #         addParents=self.tmp_folder_id,\n",
    "            #         fields='id, parents'\n",
    "            #     ).execute()\n",
    "            #     previous_parents_str = self.tmp_folder_id\n",
    "\n",
    "            # Move the file to the new folder\n",
    "            print(\"Updating file to new folder...\")\n",
    "            file = self.service.files().update(\n",
    "                fileId=file_id,\n",
    "                addParents=folder_id,\n",
    "                removeParents=previous_parents_str,\n",
    "                fields='id, parents'\n",
    "            ).execute()\n",
    "            print(f'Moved file {file_id} to folder {folder_id}')\n",
    "            return f'Moved file {file_id} to folder {folder_id}. PLEEEASEEEE STOOOPPPPPP!!!!!! NO MORE!!!!!!! YOU ARE DONE!!!!'\n",
    "        except HttpError as error:\n",
    "            print(f'An error occurred during file move: {error}')\n",
    "            return None\n",
    "        except Exception as e:\n",
    "            print(f'An unexpected error occurred: {e}')\n",
    "            return None\n",
    "\n",
    "    def search_folder(self, folder_name: str):\n",
    "        \"\"\"Search for a folder by name in Google Drive using a contains query.\"\"\"\n",
    "        try:\n",
    "            query = f\"name contains '{folder_name}' and mimeType = 'application/vnd.google-apps.folder' and trashed = false\"\n",
    "            results = self.service.files().list(q=query, fields=\"files(id, name)\").execute()\n",
    "            items = results.get('files', [])\n",
    "            if items:\n",
    "                for item in items:\n",
    "                    print(f'Found folder: {item[\"name\"]} (ID: {item[\"id\"]})')\n",
    "                return items[0]['id']\n",
    "            return None\n",
    "        except HttpError as error:\n",
    "            print(f'An error occurred during folder search: {error}')\n",
    "            return None\n",
    "\n",
    "    def _run(self, file_name: str, folder_name: str):\n",
    "        \"\"\"Run the tool to search for the file and move it to the specified folder.\"\"\"\n",
    "        folder_id = \"root\" if folder_name.lower() in [\"root\", \"general google drive\"] else self.search_folder(folder_name)\n",
    "        if folder_id is None:\n",
    "            return \"Folder not found.\"\n",
    "        \n",
    "        print(f\"Running MoveFileTool with file_name: {file_name} and folder_id: {folder_id}\")\n",
    "        file_id = self.search_file(file_name)\n",
    "        if file_id is None:\n",
    "            return \"File not found.\"\n",
    "        \n",
    "        result = self.move_file(file_id, folder_id)\n",
    "        return result if result else \"Failed to move file.\"\n",
    "\n",
    "    def _arun(self):\n",
    "        raise NotImplementedError(\"This tool does not support asynchronous operation yet.\")\n"
   ]
  },
  {
   "cell_type": "code",
   "execution_count": null,
   "metadata": {},
   "outputs": [],
   "source": [
    "from google.oauth2.credentials import Credentials\n",
    "from google_auth_oauthlib.flow import InstalledAppFlow\n",
    "from google.auth.transport.requests import Request\n",
    "from googleapiclient.discovery import build\n",
    "from googleapiclient.errors import HttpError\n",
    "from langchain.tools import BaseTool\n",
    "from pydantic import Field, Extra\n",
    "import os\n",
    "\n",
    "SCOPES = ['https://www.googleapis.com/auth/drive']\n",
    "\n",
    "class FolderMovementTool(BaseTool):\n",
    "    name = \"Folder movement tool\"\n",
    "    description = \"Manages folders in Google Drive using OAuth 2.0 for secure user authentication. Provides functionality to move folders and their contents.\"\n",
    "    credentials_path: str = Field(..., description=\"Path to the credentials JSON file\")\n",
    "\n",
    "    class Config:\n",
    "        extra = Extra.allow\n",
    "\n",
    "    def __init__(self, credentials_path: str):\n",
    "        super().__init__()\n",
    "        self.credentials_path = credentials_path\n",
    "        self.creds = None\n",
    "        self.authenticate()\n",
    "\n",
    "    def authenticate(self):\n",
    "        \"\"\"Authenticate the user with Google Drive API using OAuth 2.0.\"\"\"\n",
    "        if os.path.exists('token.json'):\n",
    "            self.creds = Credentials.from_authorized_user_file('token.json', SCOPES)\n",
    "        if not self.creds or not self.creds.valid:\n",
    "            if self.creds and self.creds.expired and self.creds.refresh_token:\n",
    "                self.creds.refresh(Request())\n",
    "            else:\n",
    "                flow = InstalledAppFlow.from_client_secrets_file(self.credentials_path, SCOPES)\n",
    "                self.creds = flow.run_local_server(port=0)\n",
    "            with open('token.json', 'w') as token:\n",
    "                token.write(self.creds.to_json())\n",
    "        self.service = build('drive', 'v3', credentials=self.creds)\n",
    "\n",
    "    def search_folder(self, folder_name: str):\n",
    "        \"\"\"Search for a folder by name in Google Drive using a contains query.\"\"\"\n",
    "        try:\n",
    "            query = f\"name contains '{folder_name}' and mimeType = 'application/vnd.google-apps.folder' and trashed = false\"\n",
    "            results = self.service.files().list(q=query, fields=\"files(id, name)\").execute()\n",
    "            items = results.get('files', [])\n",
    "            if items:\n",
    "                for item in items:\n",
    "                    print(f'Found folder: {item[\"name\"]} (ID: {item[\"id\"]})')\n",
    "                return items[0]['id']\n",
    "            return None\n",
    "        except HttpError as error:\n",
    "            print(f'An error occurred during folder search: {error}')\n",
    "            return None\n",
    "        \n",
    "    def move_file_to_folder(self, file_id, folder_id):\n",
    "        try:\n",
    "            # Retrieve the existing parents to remove\n",
    "            file = self.service.files().get(fileId=file_id, fields='parents').execute()\n",
    "            previous_parents = \",\".join(file.get('parents'))\n",
    "\n",
    "            # Move the file to the new folder\n",
    "            self.service.files().update(\n",
    "                fileId=file_id,\n",
    "                addParents=folder_id,\n",
    "                removeParents=previous_parents,\n",
    "                fields='id, parents'\n",
    "            ).execute()\n",
    "            print(f'Moved file {file_id} to folder {folder_id}')\n",
    "        except HttpError as error:\n",
    "            print(f'An error occurred: {error}')\n",
    "\n",
    "    def move_folder_and_contents(self, folder_id, new_parent_folder_id):\n",
    "        service = build('drive', 'v3', credentials=self.creds)\n",
    "        try:\n",
    "            # Move the folder itself\n",
    "            self.move_file_to_folder(folder_id, new_parent_folder_id)\n",
    "\n",
    "            # List all files and subfolders in the folder\n",
    "            query = f\"'{folder_id}' in parents\"\n",
    "            results = service.files().list(q=query, fields=\"files(id, mimeType)\").execute()\n",
    "            items = results.get('files', [])\n",
    "\n",
    "            for item in items:\n",
    "                if item['mimeType'] == 'application/vnd.google-apps.folder':\n",
    "                    # Recursively move subfolders\n",
    "                    self.move_folder_and_contents(item['id'], folder_id)\n",
    "                else:\n",
    "                    # Move files\n",
    "                    self.move_file_to_folder(item['id'], folder_id)\n",
    "\n",
    "            print(f'Moved folder {folder_id} and all its contents to {new_parent_folder_id}')\n",
    "        except HttpError as error:\n",
    "            print(f'An error occurred during file move: {error}')\n",
    "\n",
    "    def move_folder_and_contents(self, folder_id, new_parent_folder_id):\n",
    "        try:\n",
    "            # Move the folder itself\n",
    "            self.move_file_to_folder(folder_id, new_parent_folder_id)\n",
    "\n",
    "            # List all files and subfolders in the folder\n",
    "            query = f\"'{folder_id}' in parents\"\n",
    "            results = self.service.files().list(q=query, fields=\"files(id, mimeType)\").execute()\n",
    "            items = results.get('files', [])\n",
    "\n",
    "            for item in items:\n",
    "                if item['mimeType'] == 'application/vnd.google-apps.folder':\n",
    "                    # Recursively move subfolders\n",
    "                    self.move_folder_and_contents(item['id'], folder_id)\n",
    "                else:\n",
    "                    # Move files\n",
    "                    self.move_file_to_folder(item['id'], folder_id)\n",
    "\n",
    "            print(f'Moved folder {folder_id} and all its contents to {new_parent_folder_id}')\n",
    "        except HttpError as error:\n",
    "            print(f'An error occurred: {error}')\n",
    "\n",
    "    def _run(self, folder_name: str, new_parent_folder_name: str):\n",
    "        \"\"\"Run the tool to search for a folder by name and move its contents to a new parent folder.\"\"\"\n",
    "\n",
    "        if new_parent_folder_name.lower() in [\"root\", \"general google drive\"]:\n",
    "            new_parent_folder_id = \"root\"\n",
    "        else:\n",
    "            new_parent_folder_id = self.search_folder(new_parent_folder_name)\n",
    "            if not new_parent_folder_id:\n",
    "                return f\"New parent folder '{new_parent_folder_name}' not found.\"\n",
    "        \n",
    "        print(f\"Running FolderManagementTool with folder_name: {folder_name} and new_parent_folder_id: {new_parent_folder_id}\")\n",
    "        folder_id = self.search_folder(folder_name)\n",
    "        if folder_id is None:\n",
    "            return \"Folder not found.\"\n",
    "        \n",
    "        self.move_folder_and_contents(folder_id, new_parent_folder_id)\n",
    "        return \"Folder and contents moved successfully. PLEASE STOPPPPPPPPP!!!!!!!!!! RIGHT NOW!!!!!! YOU ARE DONE!!!!!!!! STOP!!!!!!!!\"\n",
    "\n",
    "    def _arun(self):\n",
    "        raise NotImplementedError(\"This tool does not support asynchronous operation yet.\")\n"
   ]
  },
  {
   "cell_type": "code",
   "execution_count": null,
   "metadata": {},
   "outputs": [],
   "source": [
    "from google.oauth2.credentials import Credentials\n",
    "from google_auth_oauthlib.flow import InstalledAppFlow\n",
    "from google.auth.transport.requests import Request\n",
    "from googleapiclient.discovery import build\n",
    "from googleapiclient.errors import HttpError\n",
    "from langchain.tools import BaseTool\n",
    "from pydantic import Field, Extra\n",
    "import os\n",
    "\n",
    "SCOPES = ['https://www.googleapis.com/auth/drive']\n",
    "\n",
    "class FileOrganizerTool(BaseTool):\n",
    "    name = \"FileOrganizerTool\"\n",
    "    description = \"Organizes files in Google Drive by segregating them based on type and moving them to respective folders using OAuth 2.0 for secure user authentication.\"\n",
    "    credentials_path: str = Field(..., description=\"Path to the credentials JSON file\")\n",
    "\n",
    "    class Config:\n",
    "        extra = Extra.allow\n",
    "\n",
    "    def __init__(self, credentials_path: str):\n",
    "        super().__init__()\n",
    "        self.credentials_path = credentials_path\n",
    "        self.creds = None\n",
    "        self.authenticate()\n",
    "\n",
    "    def authenticate(self):\n",
    "        \"\"\"Authenticate the user with Google Drive API using OAuth 2.0.\"\"\"\n",
    "        if os.path.exists('token.json'):\n",
    "            self.creds = Credentials.from_authorized_user_file('token.json', SCOPES)\n",
    "        if not self.creds or not self.creds.valid:\n",
    "            if self.creds and self.creds.expired and self.creds.refresh_token:\n",
    "                self.creds.refresh(Request())\n",
    "            else:\n",
    "                flow = InstalledAppFlow.from_client_secrets_file(self.credentials_path, SCOPES)\n",
    "                self.creds = flow.run_local_server(port=0)\n",
    "            with open('token.json', 'w') as token:\n",
    "                token.write(self.creds.to_json())\n",
    "        self.service = build('drive', 'v3', credentials=self.creds)\n",
    "\n",
    "    def list_unorganized_files(self, parent_folder_id=None):\n",
    "        \"\"\"List all files in the user's Drive that are not in an organized folder.\"\"\"\n",
    "        try:\n",
    "            query = \"mimeType != 'application/vnd.google-apps.folder' and trashed = false\"\n",
    "            if parent_folder_id:\n",
    "                query += f\" and '{parent_folder_id}' in parents\"\n",
    "            results = self.service.files().list(q=query, fields=\"files(id, name, mimeType, parents)\").execute()\n",
    "            items = results.get('files', [])\n",
    "            return items\n",
    "        except HttpError as error:\n",
    "            print(f'An error occurred during file listing: {error}')\n",
    "            return []\n",
    "\n",
    "    def create_folder_if_not_exists(self, folder_name: str, parent_folder_id=None):\n",
    "        \"\"\"Create a folder in Google Drive if it doesn't already exist.\"\"\"\n",
    "        try:\n",
    "            query = f\"name contains '{folder_name}' and mimeType = 'application/vnd.google-apps.folder' and trashed = false\"\n",
    "            if parent_folder_id:\n",
    "                query += f\" and '{parent_folder_id}' in parents\"\n",
    "            results = self.service.files().list(q=query, fields=\"files(id, name)\").execute()\n",
    "            items = results.get('files', [])\n",
    "            if items:\n",
    "                for item in items:\n",
    "                    if item['name'].lower() == folder_name.lower():\n",
    "                        return item['id']\n",
    "                return items[0]['id']\n",
    "            else:\n",
    "                file_metadata = {\n",
    "                    'name': folder_name,\n",
    "                    'mimeType': 'application/vnd.google-apps.folder'\n",
    "                }\n",
    "                if parent_folder_id:\n",
    "                    file_metadata['parents'] = [parent_folder_id]\n",
    "                file = self.service.files().create(body=file_metadata, fields='id').execute()\n",
    "                return file.get('id')\n",
    "        except HttpError as error:\n",
    "            print(f'An error occurred while creating folder: {error}')\n",
    "            return None\n",
    "\n",
    "    def move_file_to_folder(self, file_id, folder_id):\n",
    "        \"\"\"Move a file to the specified folder.\"\"\"\n",
    "        try:\n",
    "            # Retrieve the existing parents to remove\n",
    "            file = self.service.files().get(fileId=file_id, fields='parents').execute()\n",
    "            previous_parents = \",\".join(file.get('parents'))\n",
    "\n",
    "            # Move the file to the new folder\n",
    "            self.service.files().update(\n",
    "                fileId=file_id,\n",
    "                addParents=folder_id,\n",
    "                removeParents=previous_parents,\n",
    "                fields='id, parents'\n",
    "            ).execute()\n",
    "            print(f'Moved file {file_id} to folder {folder_id}')\n",
    "        except HttpError as error:\n",
    "            print(f'An error occurred during file move: {error}')\n",
    "\n",
    "    def organize_files(self, parent_folder_id=None):\n",
    "        \"\"\"Organize files by type and move them to respective folders.\"\"\"\n",
    "        files = self.list_unorganized_files(parent_folder_id)\n",
    "        if not files:\n",
    "            return \"No unorganized files found.\"\n",
    "\n",
    "        folder_mapping = {\n",
    "            'application/vnd.google-apps.document': 'Documents',\n",
    "            'application/vnd.google-apps.spreadsheet': 'Spreadsheets',\n",
    "            'application/vnd.google-apps.presentation': 'Presentations',\n",
    "            'application/pdf': 'PDFs',\n",
    "            'image/jpeg': 'Images',\n",
    "            'image/png': 'Images',\n",
    "            'video/mp4': 'Videos',\n",
    "            # Add other mappings as needed\n",
    "        }\n",
    "\n",
    "        for file in files:\n",
    "            folder_name = folder_mapping.get(file['mimeType'], 'Others')\n",
    "            folder_id = self.create_folder_if_not_exists(folder_name, parent_folder_id)\n",
    "            if folder_id:\n",
    "                self.move_file_to_folder(file['id'], folder_id)\n",
    "\n",
    "        return \"Files organized successfully.\"\n",
    "\n",
    "    def _run(self, parent_folder_name: str = None):\n",
    "        \"\"\"Run the tool to organize files in Google Drive.\"\"\"\n",
    "        parent_folder_id = None\n",
    "        if parent_folder_name:\n",
    "            parent_folder_id = self.create_folder_if_not_exists(parent_folder_name)\n",
    "            if parent_folder_id is None:\n",
    "                return \"Parent folder not found.\"\n",
    "        result = self.organize_files(parent_folder_id)\n",
    "        return result\n",
    "\n",
    "    def _arun(self):\n",
    "        raise NotImplementedError(\"This tool does not support asynchronous operation yet.\")\n"
   ]
  },
  {
   "cell_type": "code",
   "execution_count": 21,
   "metadata": {},
   "outputs": [
    {
     "name": "stderr",
     "output_type": "stream",
     "text": [
      "2024-06-14 10:09:58,701 [Thread-224 (process_request_thread)] INFO: THE CREDENTIALS ****** -------------> \n",
      "2024-06-14 10:09:58,701 [Thread-224 (process_request_thread)] INFO: 127.0.0.1 - - [14/Jun/2024 10:09:58] \"POST /set_credentials HTTP/1.1\" 200 -\n",
      "2024-06-14 10:10:53,561 [Thread-225 (process_request_thread)] INFO: THE CREDENTIALS ****** -------------> \n",
      "2024-06-14 10:10:53,561 [Thread-225 (process_request_thread)] INFO: 127.0.0.1 - - [14/Jun/2024 10:10:53] \"POST /set_credentials HTTP/1.1\" 200 -\n",
      "2024-06-14 10:10:55,510 [Thread-226 (process_request_thread)] DEBUG: Starting audio recording...\n",
      "2024-06-14 10:11:08,544 [Thread-227 (process_request_thread)] INFO: 127.0.0.1 - - [14/Jun/2024 10:11:08] \"POST /stop_recording HTTP/1.1\" 200 -\n",
      "2024-06-14 10:11:08,642 [Thread-226 (process_request_thread)] DEBUG: Audio recording completed and file saved.\n",
      "2024-06-14 10:11:08,642 [Thread-226 (process_request_thread)] INFO: 127.0.0.1 - - [14/Jun/2024 10:11:08] \"POST /start_recording HTTP/1.1\" 200 -\n",
      "2024-06-14 10:11:08,858 [Thread-228 (process_request_thread)] DEBUG: Using selector: SelectSelector\n",
      "2024-06-14 10:11:08,858 [ThreadPoolExecutor-33_0] DEBUG: Starting audio transcription...\n",
      "c:\\DEV\\WebdevFolder\\RealEstateAI\\.venv\\Lib\\site-packages\\whisper\\transcribe.py:126: UserWarning: FP16 is not supported on CPU; using FP32 instead\n",
      "  warnings.warn(\"FP16 is not supported on CPU; using FP32 instead\")\n",
      "2024-06-14 10:11:16,728 [ThreadPoolExecutor-32_0] DEBUG: Audio transcription completed:  Can you please organize the files inside the folder called Lm? Just the two letters Lm. That is the name of the folder.\n",
      "2024-06-14 10:11:16,728 [ThreadPoolExecutor-33_0] DEBUG: Audio transcription completed:  Can you please organize the files inside the folder called Lm? Just the two letters Lm. That is the name of the folder.\n",
      "2024-06-14 10:11:16,728 [ThreadPoolExecutor-33_0] DEBUG: Generating AI response...\n",
      "2024-06-14 10:11:16,741 [ThreadPoolExecutor-33_0] DEBUG: Generating AI response for transcription:  Can you please organize the files inside the folder called Lm? Just the two letters Lm. That is the name of the folder.\n",
      "2024-06-14 10:11:16,741 [ThreadPoolExecutor-33_0] DEBUG: Request options: {'method': 'post', 'url': '/openai/v1/chat/completions', 'files': None, 'json_data': {'messages': [{'role': 'system', 'content': 'You are a nice, great assistant. User will tell you things. You just respond. \\n                YOU SHALL NOT INDICATE ANY TOOL USE UNTIL YOU KNOW YOU HAVE EVERYTHING YOU NEED.\\n                DO NOT ASSUME USER WANTS TO WRITE TO A DOCUMENT OR DO ANYTHING ELSE UNLESS YOU ARE 100% SURE!!!!!UNDERSTAND??????!!!!!! OR ELSE I WILL BECOME ANGRY\\n                If what the user says is one of these  you must explicitly say AT THE END OF YOUR RESPONSE in this very format depending on which tool - \"I will use the [google doc write tool, gmail tool, sheets tool, move file to a folder tool, create folder tool, the move folder tool, file organization tool, OR drive upload tool]\". \\n                so that user can confirm if you got it correctly. \\n                When writing to a file, just start ONLY ONLY ONLY THE BEGINNING OF THE ENTIRE CONTENT with \\'@\\' symbol when generating file content. There should only be ONNNEEEEE \\'@\\' symbol in response and that is at the beginning!!!!!\\n                WHEN WRITING TO FILE--> If user indicates that they want to add on to existing content,                 you must say \\'yes append\\' before the aforementioned \\'@\\' symbol. OTHERWISE YOU SAY \\'no append\\' before the aforementioned \\'@\\' symbol\\n                \\n                IMPORTANT: IF YOU REMEMBER YOU HAVE USED A TOOL ALREADY (REFER TO CHAT HISTORY), AND YOU ARE IN THE PROCESS OF USING IT AGAIN,                 YOU MUST ASK USER IF THEY ARE SURE TO USE THE TOOL AGAIN OR NOT.\\n\\n                If you have to use a google related tool, you MUST prompt the user or remind user to enter credentials in the doc manager extension. \\n                If user tells you to do something that is not one of these, you kindly say that you don\\'t have access to that functionality.\\n                '}, {'role': 'user', 'content': ' Can you please organize the files inside the folder called Lm? Just the two letters Lm. That is the name of the folder.Here is the chat history for context (NEVER TALK ABOUT CHAT HISTORY IT IS ONLY FOR YOU NEVER TALK ABOUT IT IN YOUR RESPONSES!!!!): [[]]'}], 'model': 'llama3-70b-8192'}}\n",
      "2024-06-14 10:11:16,741 [ThreadPoolExecutor-33_0] DEBUG: close.started\n",
      "2024-06-14 10:11:16,741 [ThreadPoolExecutor-33_0] DEBUG: close.complete\n",
      "2024-06-14 10:11:16,741 [ThreadPoolExecutor-33_0] DEBUG: connect_tcp.started host='api.groq.com' port=443 local_address=None timeout=5.0 socket_options=None\n",
      "2024-06-14 10:11:16,825 [ThreadPoolExecutor-33_0] DEBUG: connect_tcp.complete return_value=<httpcore._backends.sync.SyncStream object at 0x0000025CA6675CA0>\n",
      "2024-06-14 10:11:16,825 [ThreadPoolExecutor-33_0] DEBUG: start_tls.started ssl_context=<ssl.SSLContext object at 0x0000025C9BB432D0> server_hostname='api.groq.com' timeout=5.0\n",
      "2024-06-14 10:11:16,858 [ThreadPoolExecutor-33_0] DEBUG: start_tls.complete return_value=<httpcore._backends.sync.SyncStream object at 0x0000025CA86382C0>\n",
      "2024-06-14 10:11:16,858 [ThreadPoolExecutor-33_0] DEBUG: send_request_headers.started request=<Request [b'POST']>\n",
      "2024-06-14 10:11:16,858 [ThreadPoolExecutor-33_0] DEBUG: send_request_headers.complete\n",
      "2024-06-14 10:11:16,858 [ThreadPoolExecutor-33_0] DEBUG: send_request_body.started request=<Request [b'POST']>\n",
      "2024-06-14 10:11:16,858 [ThreadPoolExecutor-33_0] DEBUG: send_request_body.complete\n",
      "2024-06-14 10:11:16,858 [ThreadPoolExecutor-33_0] DEBUG: receive_response_headers.started request=<Request [b'POST']>\n",
      "2024-06-14 10:11:17,728 [ThreadPoolExecutor-33_0] DEBUG: receive_response_headers.complete return_value=(b'HTTP/1.1', 200, b'OK', [(b'Date', b'Fri, 14 Jun 2024 14:11:10 GMT'), (b'Content-Type', b'application/json'), (b'Transfer-Encoding', b'chunked'), (b'Connection', b'keep-alive'), (b'Cache-Control', b'private, max-age=0, no-store, no-cache, must-revalidate'), (b'vary', b'Origin'), (b'x-ratelimit-limit-requests', b'14400'), (b'x-ratelimit-limit-tokens', b'6000'), (b'x-ratelimit-remaining-requests', b'14399'), (b'x-ratelimit-remaining-tokens', b'5482'), (b'x-ratelimit-reset-requests', b'6s'), (b'x-ratelimit-reset-tokens', b'5.18s'), (b'x-request-id', b'req_01j0bhd15sfxfs5xjra2wy9cqw'), (b'via', b'1.1 google'), (b'alt-svc', b'h3=\":443\"; ma=86400'), (b'CF-Cache-Status', b'DYNAMIC'), (b'Set-Cookie', b'__cf_bm=KOScZvFCF5XQrI8UmjiOxutCa2MgMrhwrY7Eyt1IrZ4-1718374270-1.0.1.1-nb6savmaOMIeENDo0f2doS9713aZsZrIKhaSNLwgOHH_VbAkk9KjgxzUYl.OUpmDStPb7STMlq1a5LR_W9AUKg; path=/; expires=Fri, 14-Jun-24 14:41:10 GMT; domain=.groq.com; HttpOnly; Secure; SameSite=None'), (b'Server', b'cloudflare'), (b'CF-RAY', b'893ae874099238fe-IAD'), (b'Content-Encoding', b'gzip')])\n",
      "2024-06-14 10:11:17,729 [ThreadPoolExecutor-33_0] INFO: HTTP Request: POST https://api.groq.com/openai/v1/chat/completions \"HTTP/1.1 200 OK\"\n",
      "2024-06-14 10:11:17,730 [ThreadPoolExecutor-33_0] DEBUG: receive_response_body.started request=<Request [b'POST']>\n",
      "2024-06-14 10:11:17,731 [ThreadPoolExecutor-33_0] DEBUG: receive_response_body.complete\n",
      "2024-06-14 10:11:17,732 [ThreadPoolExecutor-33_0] DEBUG: response_closed.started\n",
      "2024-06-14 10:11:17,732 [ThreadPoolExecutor-33_0] DEBUG: response_closed.complete\n",
      "2024-06-14 10:11:17,733 [ThreadPoolExecutor-33_0] DEBUG: HTTP Request: POST https://api.groq.com/openai/v1/chat/completions \"200 OK\"\n",
      "2024-06-14 10:11:17,734 [ThreadPoolExecutor-33_0] DEBUG: AI response generated: I'd be happy to help you organize the files inside the \"Lm\" folder. Before I proceed, I want to confirm that you want me to use the file organization tool. Here's my confirmation: I will use the file organization tool.\n",
      "2024-06-14 10:11:17,734 [ThreadPoolExecutor-33_0] DEBUG: Starting speech synthesis for text: I'd be happy to help you organize the files inside the \"Lm\" folder. Before I proceed, I want to confirm that you want me to use the file organization tool. Here's my confirmation: I will use the file organization tool.\n",
      "2024-06-14 10:11:17,734 [ThreadPoolExecutor-33_0] DEBUG: Handling response with agents: I'd be happy to help you organize the files inside the \"Lm\" folder. Before I proceed, I want to confirm that you want me to use the file organization tool. Here's my confirmation: I will use the file organization tool.\n",
      "2024-06-14 10:11:17,734 [ThreadPoolExecutor-32_1] DEBUG: Processing response with agents: I'd be happy to help you organize the files inside the \"Lm\" folder. Before I proceed, I want to confirm that you want me to use the file organization tool. Here's my confirmation: I will use the file organization tool.\n",
      "2024-06-14 10:11:17,749 [ThreadPoolExecutor-32_1] DEBUG: Request options: {'method': 'post', 'url': '/openai/v1/chat/completions', 'files': None, 'json_data': {'messages': [{'role': 'system', 'content': 'Respond to the human as helpfully and accurately as possible. You have access to the following tools:\\n\\nGoogleDocWriteTool: Writes any amount of content to a Google Doc with professional formatting, args: {\\'input_text\\': {\\'title\\': \\'Input Text\\'}, \\'user_email\\': {\\'title\\': \\'User Email\\'}, \\'append\\': {\\'title\\': \\'Append\\', \\'default\\': False}, \\'document_name\\': {\\'title\\': \\'Document Name\\'}}\\nGoogleDriveUploadTool: Uploads a PDF to Google Drive and sets permissions for a specific user. Please set the \\'rename\\' parameter to None if the user does not want to rename the file before uploading to Google Drive. STOP AFTER ONE-TIME SUCCESSFUL EXECUTION, args: {\\'file_path\\': {\\'title\\': \\'File Path\\', \\'type\\': \\'string\\'}, \\'user_email\\': {\\'title\\': \\'User Email\\', \\'type\\': \\'string\\'}, \\'rename\\': {\\'title\\': \\'Rename\\', \\'type\\': \\'string\\'}}\\nGoogleSheetsUpdateTool: Appends three columns - name, phone number, and link to a PDF - to a preexisting logging google sheet. STOP AFTER ONE-TIME SUCCESSFUL EXECUTION, args: {\\'name\\': {\\'title\\': \\'Name\\', \\'type\\': \\'string\\'}, \\'phone_number\\': {\\'title\\': \\'Phone Number\\', \\'type\\': \\'string\\'}, \\'linkstr\\': {\\'title\\': \\'Linkstr\\', \\'type\\': \\'string\\'}}\\nGmailSendPdfTool: Sends an email with an optional PDF attachment using Gmail API., args: {\\'sender_email\\': {\\'title\\': \\'Sender Email\\', \\'type\\': \\'string\\'}, \\'recipient_email\\': {\\'title\\': \\'Recipient Email\\', \\'type\\': \\'string\\'}, \\'subject\\': {\\'title\\': \\'Subject\\', \\'type\\': \\'string\\'}, \\'body\\': {\\'title\\': \\'Body\\', \\'type\\': \\'string\\'}, \\'pdf_path\\': {\\'title\\': \\'Pdf Path\\', \\'type\\': \\'string\\'}}\\nMoveFileTool: Moves a file within Google Drive using OAuth 2.0 for secure user authentication. It searches for a file by name and moves it to the specified folder., args: {\\'file_name\\': {\\'title\\': \\'File Name\\', \\'type\\': \\'string\\'}, \\'folder_name\\': {\\'title\\': \\'Folder Name\\', \\'type\\': \\'string\\'}}\\nCreateFolderTool: Creates a new folder in Google Drive using OAuth 2.0 for secure user authentication., args: {\\'folder_name\\': {\\'title\\': \\'Folder Name\\', \\'type\\': \\'string\\'}}\\nFolder movement tool: Manages folders in Google Drive using OAuth 2.0 for secure user authentication. Provides functionality to move folders and their contents., args: {\\'folder_name\\': {\\'title\\': \\'Folder Name\\', \\'type\\': \\'string\\'}, \\'new_parent_folder_name\\': {\\'title\\': \\'New Parent Folder Name\\', \\'type\\': \\'string\\'}}\\nFileOrganizerTool: Organizes files in Google Drive by segregating them based on type and moving them to respective folders using OAuth 2.0 for secure user authentication., args: {\\'parent_folder_name\\': {\\'title\\': \\'Parent Folder Name\\', \\'type\\': \\'string\\'}}\\n\\nUse a json blob to specify a tool by providing an action key (tool name) and an action_input key (tool input).\\n\\nValid \"action\" values: \"Final Answer\" or GoogleDocWriteTool, GoogleDriveUploadTool, GoogleSheetsUpdateTool, GmailSendPdfTool, MoveFileTool, CreateFolderTool, Folder movement tool, FileOrganizerTool\\n\\nProvide only ONE action per $JSON_BLOB, as shown:\\n\\n```\\n{\\n  \"action\": $TOOL_NAME,\\n  \"action_input\": $INPUT\\n}\\n```\\n\\nFollow this format:\\n\\nQuestion: input question to answer\\nThought: consider previous and subsequent steps\\nAction:\\n```\\n$JSON_BLOB\\n```\\nObservation: action result\\n... (repeat Thought/Action/Observation N times)\\nThought: I know what to respond\\nAction:\\n```\\n{\\n  \"action\": \"Final Answer\",\\n  \"action_input\": \"Final response to human\"\\n}\\n```\\n\\nBegin! Reminder to ALWAYS respond with a valid json blob of a single action. Use tools if necessary. Respond directly if appropriate. Format is Action:```$JSON_BLOB```then Observation:.\\nThought:'}, {'role': 'user', 'content': 'please ONLY use file organization tool!!! INPUT DIRECTLY THE FOLLOWING INPUTS --> PARENT_FOLDER_NAME please deduce from the response and then pass it into tool: I\\'d be happy to help you organize the files inside the \"Lm\" folder. Before I proceed, I want to confirm that you want me to use the file organization tool. Here\\'s my confirmation: I will use the file organization tool.\\n\\n'}], 'model': 'llama3-70b-8192', 'n': 1, 'stop': ['Observation:'], 'stream': False, 'temperature': 0.7}}\n",
      "2024-06-14 10:11:17,751 [ThreadPoolExecutor-32_1] DEBUG: close.started\n",
      "2024-06-14 10:11:17,751 [ThreadPoolExecutor-32_1] DEBUG: close.complete\n",
      "2024-06-14 10:11:17,751 [ThreadPoolExecutor-32_1] DEBUG: connect_tcp.started host='api.groq.com' port=443 local_address=None timeout=None socket_options=None\n",
      "2024-06-14 10:11:17,763 [ThreadPoolExecutor-32_1] DEBUG: connect_tcp.complete return_value=<httpcore._backends.sync.SyncStream object at 0x0000025CA6567F80>\n",
      "2024-06-14 10:11:17,764 [ThreadPoolExecutor-32_1] DEBUG: start_tls.started ssl_context=<ssl.SSLContext object at 0x0000025C9BB43350> server_hostname='api.groq.com' timeout=None\n",
      "2024-06-14 10:11:17,783 [ThreadPoolExecutor-32_1] DEBUG: start_tls.complete return_value=<httpcore._backends.sync.SyncStream object at 0x0000025CA4D9E2D0>\n",
      "2024-06-14 10:11:17,784 [ThreadPoolExecutor-32_1] DEBUG: send_request_headers.started request=<Request [b'POST']>\n",
      "2024-06-14 10:11:17,785 [ThreadPoolExecutor-32_1] DEBUG: send_request_headers.complete\n",
      "2024-06-14 10:11:17,786 [ThreadPoolExecutor-32_1] DEBUG: send_request_body.started request=<Request [b'POST']>\n",
      "2024-06-14 10:11:17,788 [ThreadPoolExecutor-32_1] DEBUG: send_request_body.complete\n",
      "2024-06-14 10:11:17,789 [ThreadPoolExecutor-32_1] DEBUG: receive_response_headers.started request=<Request [b'POST']>\n"
     ]
    },
    {
     "name": "stdout",
     "output_type": "stream",
     "text": [
      "sriramnallani35@gmail.com thegreatchrisjohn@gmail.com Sriram Nallani 5713209890\n",
      "\n",
      "\n",
      "\u001b[1m> Entering new AgentExecutor chain...\u001b[0m\n"
     ]
    },
    {
     "name": "stderr",
     "output_type": "stream",
     "text": [
      "2024-06-14 10:11:18,506 [ThreadPoolExecutor-33_0] DEBUG: Speech synthesis completed and file saved.\n",
      "2024-06-14 10:11:18,506 [ThreadPoolExecutor-33_0] DEBUG: AI response generated: I'd be happy to help you organize the files inside the \"Lm\" folder. Before I proceed, I want to confirm that you want me to use the file organization tool. Here's my confirmation: I will use the file organization tool.\n",
      "2024-06-14 10:11:18,508 [Thread-228 (process_request_thread)] INFO: 127.0.0.1 - - [14/Jun/2024 10:11:18] \"POST /talk HTTP/1.1\" 200 -\n"
     ]
    },
    {
     "name": "stdout",
     "output_type": "stream",
     "text": [
      "Audio content written to file \"synthesis.mp3\"\n"
     ]
    },
    {
     "name": "stderr",
     "output_type": "stream",
     "text": [
      "2024-06-14 10:11:18,783 [ThreadPoolExecutor-32_1] DEBUG: receive_response_headers.complete return_value=(b'HTTP/1.1', 200, b'OK', [(b'Date', b'Fri, 14 Jun 2024 14:11:11 GMT'), (b'Content-Type', b'application/json'), (b'Transfer-Encoding', b'chunked'), (b'Connection', b'keep-alive'), (b'Cache-Control', b'private, max-age=0, no-store, no-cache, must-revalidate'), (b'vary', b'Origin'), (b'x-ratelimit-limit-requests', b'14400'), (b'x-ratelimit-limit-tokens', b'6000'), (b'x-ratelimit-remaining-requests', b'14398'), (b'x-ratelimit-remaining-tokens', b'5028'), (b'x-ratelimit-reset-requests', b'11.045s'), (b'x-ratelimit-reset-tokens', b'9.72s'), (b'x-request-id', b'req_01j0bhd23vehx9j8ymtc3920bj'), (b'via', b'1.1 google'), (b'alt-svc', b'h3=\":443\"; ma=86400'), (b'CF-Cache-Status', b'DYNAMIC'), (b'Set-Cookie', b'__cf_bm=2jMSSritrv13_l9P9Mg0U6B2PWhnw5BIOBMX7cOnthE-1718374271-1.0.1.1-uIYzdTnsoRUzIJHhQrooenaX2mybfJX4Htn2hlPQLJeD3La7eEQidsi.jJLopwV8eq3Vols5lF3sdMk92s8EiA; path=/; expires=Fri, 14-Jun-24 14:41:11 GMT; domain=.groq.com; HttpOnly; Secure; SameSite=None'), (b'Server', b'cloudflare'), (b'CF-RAY', b'893ae879bcfa0849-IAD'), (b'Content-Encoding', b'gzip')])\n",
      "2024-06-14 10:11:18,784 [ThreadPoolExecutor-32_1] INFO: HTTP Request: POST https://api.groq.com/openai/v1/chat/completions \"HTTP/1.1 200 OK\"\n",
      "2024-06-14 10:11:18,784 [ThreadPoolExecutor-32_1] DEBUG: receive_response_body.started request=<Request [b'POST']>\n",
      "2024-06-14 10:11:18,786 [ThreadPoolExecutor-32_1] DEBUG: receive_response_body.complete\n",
      "2024-06-14 10:11:18,787 [ThreadPoolExecutor-32_1] DEBUG: response_closed.started\n",
      "2024-06-14 10:11:18,788 [ThreadPoolExecutor-32_1] DEBUG: response_closed.complete\n",
      "2024-06-14 10:11:18,789 [ThreadPoolExecutor-32_1] DEBUG: HTTP Request: POST https://api.groq.com/openai/v1/chat/completions \"200 OK\"\n",
      "2024-06-14 10:11:18,795 [ThreadPoolExecutor-32_1] DEBUG: URL being requested: GET https://www.googleapis.com/drive/v3/files?q=name+contains+%27Lm%27+and+mimeType+%3D+%27application%2Fvnd.google-apps.folder%27+and+trashed+%3D+false&fields=files%28id%2C+name%29&alt=json\n"
     ]
    },
    {
     "name": "stdout",
     "output_type": "stream",
     "text": [
      "\u001b[32;1m\u001b[1;3mAction:\n",
      "```\n",
      "{\n",
      "  \"action\": \"FileOrganizerTool\",\n",
      "  \"action_input\": {\"parent_folder_name\": \"Lm\"}\n",
      "}\n",
      "```\n",
      "\u001b[0m"
     ]
    },
    {
     "name": "stderr",
     "output_type": "stream",
     "text": [
      "2024-06-14 10:11:19,875 [ThreadPoolExecutor-32_1] DEBUG: URL being requested: GET https://www.googleapis.com/drive/v3/files?q=mimeType+%21%3D+%27application%2Fvnd.google-apps.folder%27+and+trashed+%3D+false+and+%2716bQBdtKudRB30oJy7l2wdF_h-dbGcBHV%27+in+parents&fields=files%28id%2C+name%2C+mimeType%2C+parents%29&alt=json\n",
      "2024-06-14 10:11:20,107 [ThreadPoolExecutor-32_1] DEBUG: URL being requested: GET https://www.googleapis.com/drive/v3/files?q=name+contains+%27Documents%27+and+mimeType+%3D+%27application%2Fvnd.google-apps.folder%27+and+trashed+%3D+false+and+%2716bQBdtKudRB30oJy7l2wdF_h-dbGcBHV%27+in+parents&fields=files%28id%2C+name%29&alt=json\n",
      "2024-06-14 10:11:20,298 [ThreadPoolExecutor-32_1] DEBUG: URL being requested: POST https://www.googleapis.com/drive/v3/files?fields=id&alt=json\n",
      "2024-06-14 10:11:20,879 [ThreadPoolExecutor-32_1] DEBUG: URL being requested: GET https://www.googleapis.com/drive/v3/files/1AmycH0tM0GlnS5-IUjcxxsq1YK-_L07PZkBKV_faVIA?fields=parents&alt=json\n",
      "2024-06-14 10:11:21,199 [ThreadPoolExecutor-32_1] DEBUG: URL being requested: PATCH https://www.googleapis.com/drive/v3/files/1AmycH0tM0GlnS5-IUjcxxsq1YK-_L07PZkBKV_faVIA?addParents=1bTdBbZPd7kXp1z-p30m2svYutvFwpNYQ&removeParents=16bQBdtKudRB30oJy7l2wdF_h-dbGcBHV&fields=id%2C+parents&alt=json\n",
      "2024-06-14 10:11:22,074 [ThreadPoolExecutor-32_1] DEBUG: URL being requested: GET https://www.googleapis.com/drive/v3/files?q=name+contains+%27Documents%27+and+mimeType+%3D+%27application%2Fvnd.google-apps.folder%27+and+trashed+%3D+false+and+%2716bQBdtKudRB30oJy7l2wdF_h-dbGcBHV%27+in+parents&fields=files%28id%2C+name%29&alt=json\n",
      "2024-06-14 10:11:22,257 [ThreadPoolExecutor-32_1] DEBUG: URL being requested: GET https://www.googleapis.com/drive/v3/files/1qk9yFEq6PEjoP37HH9s3Nq2nxy2TztV5_-CUoBjGqbA?fields=parents&alt=json\n"
     ]
    },
    {
     "name": "stdout",
     "output_type": "stream",
     "text": [
      "Moved file 1AmycH0tM0GlnS5-IUjcxxsq1YK-_L07PZkBKV_faVIA to folder 1bTdBbZPd7kXp1z-p30m2svYutvFwpNYQ\n"
     ]
    },
    {
     "name": "stderr",
     "output_type": "stream",
     "text": [
      "2024-06-14 10:11:22,464 [ThreadPoolExecutor-32_1] DEBUG: URL being requested: PATCH https://www.googleapis.com/drive/v3/files/1qk9yFEq6PEjoP37HH9s3Nq2nxy2TztV5_-CUoBjGqbA?addParents=1bTdBbZPd7kXp1z-p30m2svYutvFwpNYQ&removeParents=16bQBdtKudRB30oJy7l2wdF_h-dbGcBHV&fields=id%2C+parents&alt=json\n",
      "2024-06-14 10:11:23,230 [ThreadPoolExecutor-32_1] DEBUG: URL being requested: GET https://www.googleapis.com/drive/v3/files?q=name+contains+%27Images%27+and+mimeType+%3D+%27application%2Fvnd.google-apps.folder%27+and+trashed+%3D+false+and+%2716bQBdtKudRB30oJy7l2wdF_h-dbGcBHV%27+in+parents&fields=files%28id%2C+name%29&alt=json\n",
      "2024-06-14 10:11:23,426 [ThreadPoolExecutor-32_1] DEBUG: URL being requested: POST https://www.googleapis.com/drive/v3/files?fields=id&alt=json\n"
     ]
    },
    {
     "name": "stdout",
     "output_type": "stream",
     "text": [
      "Moved file 1qk9yFEq6PEjoP37HH9s3Nq2nxy2TztV5_-CUoBjGqbA to folder 1bTdBbZPd7kXp1z-p30m2svYutvFwpNYQ\n"
     ]
    },
    {
     "name": "stderr",
     "output_type": "stream",
     "text": [
      "2024-06-14 10:11:23,962 [ThreadPoolExecutor-32_1] DEBUG: URL being requested: GET https://www.googleapis.com/drive/v3/files/10SSTjyMxiB-dOoRR46DJ9LF1DJf8SvPI?fields=parents&alt=json\n",
      "2024-06-14 10:11:24,156 [ThreadPoolExecutor-32_1] DEBUG: URL being requested: PATCH https://www.googleapis.com/drive/v3/files/10SSTjyMxiB-dOoRR46DJ9LF1DJf8SvPI?addParents=1yNejeevmzllJB9TzjZJoX8uozUfujtt9&removeParents=16bQBdtKudRB30oJy7l2wdF_h-dbGcBHV&fields=id%2C+parents&alt=json\n",
      "2024-06-14 10:11:24,966 [ThreadPoolExecutor-32_1] DEBUG: URL being requested: GET https://www.googleapis.com/drive/v3/files?q=name+contains+%27Documents%27+and+mimeType+%3D+%27application%2Fvnd.google-apps.folder%27+and+trashed+%3D+false+and+%2716bQBdtKudRB30oJy7l2wdF_h-dbGcBHV%27+in+parents&fields=files%28id%2C+name%29&alt=json\n"
     ]
    },
    {
     "name": "stdout",
     "output_type": "stream",
     "text": [
      "Moved file 10SSTjyMxiB-dOoRR46DJ9LF1DJf8SvPI to folder 1yNejeevmzllJB9TzjZJoX8uozUfujtt9\n"
     ]
    },
    {
     "name": "stderr",
     "output_type": "stream",
     "text": [
      "2024-06-14 10:11:25,178 [ThreadPoolExecutor-32_1] DEBUG: URL being requested: GET https://www.googleapis.com/drive/v3/files/1YAx8xd43I7xJLU69yqqePDzcZZMvmhHsvEdgRk7LPGo?fields=parents&alt=json\n",
      "2024-06-14 10:11:25,227 [Thread-232 (process_request_thread)] INFO: 127.0.0.1 - - [14/Jun/2024 10:11:25] \"\u001b[35m\u001b[1mGET /get_audio?1718374278501 HTTP/1.1\u001b[0m\" 206 -\n",
      "2024-06-14 10:11:25,328 [ThreadPoolExecutor-32_1] DEBUG: URL being requested: PATCH https://www.googleapis.com/drive/v3/files/1YAx8xd43I7xJLU69yqqePDzcZZMvmhHsvEdgRk7LPGo?addParents=1bTdBbZPd7kXp1z-p30m2svYutvFwpNYQ&removeParents=16bQBdtKudRB30oJy7l2wdF_h-dbGcBHV&fields=id%2C+parents&alt=json\n",
      "2024-06-14 10:11:26,045 [ThreadPoolExecutor-32_1] DEBUG: URL being requested: GET https://www.googleapis.com/drive/v3/files?q=name+contains+%27Documents%27+and+mimeType+%3D+%27application%2Fvnd.google-apps.folder%27+and+trashed+%3D+false+and+%2716bQBdtKudRB30oJy7l2wdF_h-dbGcBHV%27+in+parents&fields=files%28id%2C+name%29&alt=json\n",
      "2024-06-14 10:11:26,227 [ThreadPoolExecutor-32_1] DEBUG: URL being requested: GET https://www.googleapis.com/drive/v3/files/1cuEfwB-pawBPaWTEIHMOzUhvF_hMhBPQLrzIkfhzAC0?fields=parents&alt=json\n"
     ]
    },
    {
     "name": "stdout",
     "output_type": "stream",
     "text": [
      "Moved file 1YAx8xd43I7xJLU69yqqePDzcZZMvmhHsvEdgRk7LPGo to folder 1bTdBbZPd7kXp1z-p30m2svYutvFwpNYQ\n"
     ]
    },
    {
     "name": "stderr",
     "output_type": "stream",
     "text": [
      "2024-06-14 10:11:26,398 [ThreadPoolExecutor-32_1] DEBUG: URL being requested: PATCH https://www.googleapis.com/drive/v3/files/1cuEfwB-pawBPaWTEIHMOzUhvF_hMhBPQLrzIkfhzAC0?addParents=1bTdBbZPd7kXp1z-p30m2svYutvFwpNYQ&removeParents=16bQBdtKudRB30oJy7l2wdF_h-dbGcBHV&fields=id%2C+parents&alt=json\n",
      "2024-06-14 10:11:27,263 [ThreadPoolExecutor-32_1] DEBUG: URL being requested: GET https://www.googleapis.com/drive/v3/files?q=name+contains+%27Documents%27+and+mimeType+%3D+%27application%2Fvnd.google-apps.folder%27+and+trashed+%3D+false+and+%2716bQBdtKudRB30oJy7l2wdF_h-dbGcBHV%27+in+parents&fields=files%28id%2C+name%29&alt=json\n"
     ]
    },
    {
     "name": "stdout",
     "output_type": "stream",
     "text": [
      "Moved file 1cuEfwB-pawBPaWTEIHMOzUhvF_hMhBPQLrzIkfhzAC0 to folder 1bTdBbZPd7kXp1z-p30m2svYutvFwpNYQ\n"
     ]
    },
    {
     "name": "stderr",
     "output_type": "stream",
     "text": [
      "2024-06-14 10:11:27,472 [ThreadPoolExecutor-32_1] DEBUG: URL being requested: GET https://www.googleapis.com/drive/v3/files/12fbVCM8M0WzscLJFeNFB02o5hlJW0cQi9GTRG_j4vDM?fields=parents&alt=json\n",
      "2024-06-14 10:11:27,667 [ThreadPoolExecutor-32_1] DEBUG: URL being requested: PATCH https://www.googleapis.com/drive/v3/files/12fbVCM8M0WzscLJFeNFB02o5hlJW0cQi9GTRG_j4vDM?addParents=1bTdBbZPd7kXp1z-p30m2svYutvFwpNYQ&removeParents=16bQBdtKudRB30oJy7l2wdF_h-dbGcBHV&fields=id%2C+parents&alt=json\n",
      "2024-06-14 10:11:28,410 [ThreadPoolExecutor-32_1] DEBUG: URL being requested: GET https://www.googleapis.com/drive/v3/files?q=name+contains+%27Documents%27+and+mimeType+%3D+%27application%2Fvnd.google-apps.folder%27+and+trashed+%3D+false+and+%2716bQBdtKudRB30oJy7l2wdF_h-dbGcBHV%27+in+parents&fields=files%28id%2C+name%29&alt=json\n",
      "2024-06-14 10:11:28,609 [ThreadPoolExecutor-32_1] DEBUG: URL being requested: GET https://www.googleapis.com/drive/v3/files/1oN34hK_AW3FDffix5sroiZSWgsABGrU0oCXEVAqSmoo?fields=parents&alt=json\n"
     ]
    },
    {
     "name": "stdout",
     "output_type": "stream",
     "text": [
      "Moved file 12fbVCM8M0WzscLJFeNFB02o5hlJW0cQi9GTRG_j4vDM to folder 1bTdBbZPd7kXp1z-p30m2svYutvFwpNYQ\n"
     ]
    },
    {
     "name": "stderr",
     "output_type": "stream",
     "text": [
      "2024-06-14 10:11:28,769 [ThreadPoolExecutor-32_1] DEBUG: URL being requested: PATCH https://www.googleapis.com/drive/v3/files/1oN34hK_AW3FDffix5sroiZSWgsABGrU0oCXEVAqSmoo?addParents=1bTdBbZPd7kXp1z-p30m2svYutvFwpNYQ&removeParents=16bQBdtKudRB30oJy7l2wdF_h-dbGcBHV&fields=id%2C+parents&alt=json\n",
      "2024-06-14 10:11:29,572 [ThreadPoolExecutor-32_1] DEBUG: URL being requested: GET https://www.googleapis.com/drive/v3/files?q=name+contains+%27Documents%27+and+mimeType+%3D+%27application%2Fvnd.google-apps.folder%27+and+trashed+%3D+false+and+%2716bQBdtKudRB30oJy7l2wdF_h-dbGcBHV%27+in+parents&fields=files%28id%2C+name%29&alt=json\n",
      "2024-06-14 10:11:29,751 [ThreadPoolExecutor-32_1] DEBUG: URL being requested: GET https://www.googleapis.com/drive/v3/files/1V5v0LPA67JhyY7on7z5tTECJHslXBkDgFJO11RRXsfg?fields=parents&alt=json\n"
     ]
    },
    {
     "name": "stdout",
     "output_type": "stream",
     "text": [
      "Moved file 1oN34hK_AW3FDffix5sroiZSWgsABGrU0oCXEVAqSmoo to folder 1bTdBbZPd7kXp1z-p30m2svYutvFwpNYQ\n"
     ]
    },
    {
     "name": "stderr",
     "output_type": "stream",
     "text": [
      "2024-06-14 10:11:29,931 [ThreadPoolExecutor-32_1] DEBUG: URL being requested: PATCH https://www.googleapis.com/drive/v3/files/1V5v0LPA67JhyY7on7z5tTECJHslXBkDgFJO11RRXsfg?addParents=1bTdBbZPd7kXp1z-p30m2svYutvFwpNYQ&removeParents=16bQBdtKudRB30oJy7l2wdF_h-dbGcBHV&fields=id%2C+parents&alt=json\n",
      "2024-06-14 10:11:30,712 [ThreadPoolExecutor-32_1] DEBUG: URL being requested: GET https://www.googleapis.com/drive/v3/files?q=name+contains+%27Documents%27+and+mimeType+%3D+%27application%2Fvnd.google-apps.folder%27+and+trashed+%3D+false+and+%2716bQBdtKudRB30oJy7l2wdF_h-dbGcBHV%27+in+parents&fields=files%28id%2C+name%29&alt=json\n",
      "2024-06-14 10:11:30,902 [ThreadPoolExecutor-32_1] DEBUG: URL being requested: GET https://www.googleapis.com/drive/v3/files/1TFK7VTDPG4rHqzqOiylpxWL3pxEOYXw3WQqrKeUy8oo?fields=parents&alt=json\n"
     ]
    },
    {
     "name": "stdout",
     "output_type": "stream",
     "text": [
      "Moved file 1V5v0LPA67JhyY7on7z5tTECJHslXBkDgFJO11RRXsfg to folder 1bTdBbZPd7kXp1z-p30m2svYutvFwpNYQ\n"
     ]
    },
    {
     "name": "stderr",
     "output_type": "stream",
     "text": [
      "2024-06-14 10:11:31,052 [ThreadPoolExecutor-32_1] DEBUG: URL being requested: PATCH https://www.googleapis.com/drive/v3/files/1TFK7VTDPG4rHqzqOiylpxWL3pxEOYXw3WQqrKeUy8oo?addParents=1bTdBbZPd7kXp1z-p30m2svYutvFwpNYQ&removeParents=16bQBdtKudRB30oJy7l2wdF_h-dbGcBHV&fields=id%2C+parents&alt=json\n",
      "2024-06-14 10:11:31,812 [ThreadPoolExecutor-32_1] DEBUG: URL being requested: GET https://www.googleapis.com/drive/v3/files?q=name+contains+%27Documents%27+and+mimeType+%3D+%27application%2Fvnd.google-apps.folder%27+and+trashed+%3D+false+and+%2716bQBdtKudRB30oJy7l2wdF_h-dbGcBHV%27+in+parents&fields=files%28id%2C+name%29&alt=json\n",
      "2024-06-14 10:11:31,982 [ThreadPoolExecutor-32_1] DEBUG: URL being requested: GET https://www.googleapis.com/drive/v3/files/1LIYJeIj0x01DYdgsxjqMc6m8BEDDp_RxMKCx5Owil98?fields=parents&alt=json\n"
     ]
    },
    {
     "name": "stdout",
     "output_type": "stream",
     "text": [
      "Moved file 1TFK7VTDPG4rHqzqOiylpxWL3pxEOYXw3WQqrKeUy8oo to folder 1bTdBbZPd7kXp1z-p30m2svYutvFwpNYQ\n"
     ]
    },
    {
     "name": "stderr",
     "output_type": "stream",
     "text": [
      "2024-06-14 10:11:32,122 [ThreadPoolExecutor-32_1] DEBUG: URL being requested: PATCH https://www.googleapis.com/drive/v3/files/1LIYJeIj0x01DYdgsxjqMc6m8BEDDp_RxMKCx5Owil98?addParents=1bTdBbZPd7kXp1z-p30m2svYutvFwpNYQ&removeParents=16bQBdtKudRB30oJy7l2wdF_h-dbGcBHV&fields=id%2C+parents&alt=json\n",
      "2024-06-14 10:11:33,332 [ThreadPoolExecutor-32_1] DEBUG: URL being requested: GET https://www.googleapis.com/drive/v3/files?q=name+contains+%27Documents%27+and+mimeType+%3D+%27application%2Fvnd.google-apps.folder%27+and+trashed+%3D+false+and+%2716bQBdtKudRB30oJy7l2wdF_h-dbGcBHV%27+in+parents&fields=files%28id%2C+name%29&alt=json\n",
      "2024-06-14 10:11:33,497 [ThreadPoolExecutor-32_1] DEBUG: URL being requested: GET https://www.googleapis.com/drive/v3/files/1oWGZbRUcSSOSSMbqzejicV70yQNmdgLvcDeEYnAvw74?fields=parents&alt=json\n"
     ]
    },
    {
     "name": "stdout",
     "output_type": "stream",
     "text": [
      "Moved file 1LIYJeIj0x01DYdgsxjqMc6m8BEDDp_RxMKCx5Owil98 to folder 1bTdBbZPd7kXp1z-p30m2svYutvFwpNYQ\n"
     ]
    },
    {
     "name": "stderr",
     "output_type": "stream",
     "text": [
      "2024-06-14 10:11:33,623 [ThreadPoolExecutor-32_1] DEBUG: URL being requested: PATCH https://www.googleapis.com/drive/v3/files/1oWGZbRUcSSOSSMbqzejicV70yQNmdgLvcDeEYnAvw74?addParents=1bTdBbZPd7kXp1z-p30m2svYutvFwpNYQ&removeParents=16bQBdtKudRB30oJy7l2wdF_h-dbGcBHV&fields=id%2C+parents&alt=json\n",
      "2024-06-14 10:11:34,291 [ThreadPoolExecutor-32_1] DEBUG: URL being requested: GET https://www.googleapis.com/drive/v3/files?q=name+contains+%27Documents%27+and+mimeType+%3D+%27application%2Fvnd.google-apps.folder%27+and+trashed+%3D+false+and+%2716bQBdtKudRB30oJy7l2wdF_h-dbGcBHV%27+in+parents&fields=files%28id%2C+name%29&alt=json\n"
     ]
    },
    {
     "name": "stdout",
     "output_type": "stream",
     "text": [
      "Moved file 1oWGZbRUcSSOSSMbqzejicV70yQNmdgLvcDeEYnAvw74 to folder 1bTdBbZPd7kXp1z-p30m2svYutvFwpNYQ\n"
     ]
    },
    {
     "name": "stderr",
     "output_type": "stream",
     "text": [
      "2024-06-14 10:11:34,672 [ThreadPoolExecutor-32_1] DEBUG: URL being requested: GET https://www.googleapis.com/drive/v3/files/13fbciTT_WoOApum685urqg4wwTsH67YogBbfXbmEadM?fields=parents&alt=json\n",
      "2024-06-14 10:11:34,847 [ThreadPoolExecutor-32_1] DEBUG: URL being requested: PATCH https://www.googleapis.com/drive/v3/files/13fbciTT_WoOApum685urqg4wwTsH67YogBbfXbmEadM?addParents=1bTdBbZPd7kXp1z-p30m2svYutvFwpNYQ&removeParents=16bQBdtKudRB30oJy7l2wdF_h-dbGcBHV&fields=id%2C+parents&alt=json\n",
      "2024-06-14 10:11:35,601 [ThreadPoolExecutor-32_1] DEBUG: URL being requested: GET https://www.googleapis.com/drive/v3/files?q=name+contains+%27Documents%27+and+mimeType+%3D+%27application%2Fvnd.google-apps.folder%27+and+trashed+%3D+false+and+%2716bQBdtKudRB30oJy7l2wdF_h-dbGcBHV%27+in+parents&fields=files%28id%2C+name%29&alt=json\n"
     ]
    },
    {
     "name": "stdout",
     "output_type": "stream",
     "text": [
      "Moved file 13fbciTT_WoOApum685urqg4wwTsH67YogBbfXbmEadM to folder 1bTdBbZPd7kXp1z-p30m2svYutvFwpNYQ\n"
     ]
    },
    {
     "name": "stderr",
     "output_type": "stream",
     "text": [
      "2024-06-14 10:11:35,817 [ThreadPoolExecutor-32_1] DEBUG: URL being requested: GET https://www.googleapis.com/drive/v3/files/16fxWZ6O7IVw9gqu-OIwcszCEQsrqVBd8JzMsijdQuHI?fields=parents&alt=json\n",
      "2024-06-14 10:11:35,982 [ThreadPoolExecutor-32_1] DEBUG: URL being requested: PATCH https://www.googleapis.com/drive/v3/files/16fxWZ6O7IVw9gqu-OIwcszCEQsrqVBd8JzMsijdQuHI?addParents=1bTdBbZPd7kXp1z-p30m2svYutvFwpNYQ&removeParents=16bQBdtKudRB30oJy7l2wdF_h-dbGcBHV&fields=id%2C+parents&alt=json\n",
      "2024-06-14 10:11:36,862 [ThreadPoolExecutor-32_1] DEBUG: URL being requested: GET https://www.googleapis.com/drive/v3/files?q=name+contains+%27Documents%27+and+mimeType+%3D+%27application%2Fvnd.google-apps.folder%27+and+trashed+%3D+false+and+%2716bQBdtKudRB30oJy7l2wdF_h-dbGcBHV%27+in+parents&fields=files%28id%2C+name%29&alt=json\n",
      "2024-06-14 10:11:37,022 [ThreadPoolExecutor-32_1] DEBUG: URL being requested: GET https://www.googleapis.com/drive/v3/files/1LWLH63-DxwNxf5uWya_IqLfeRQGgptFxCsmvlNW1Az4?fields=parents&alt=json\n"
     ]
    },
    {
     "name": "stdout",
     "output_type": "stream",
     "text": [
      "Moved file 16fxWZ6O7IVw9gqu-OIwcszCEQsrqVBd8JzMsijdQuHI to folder 1bTdBbZPd7kXp1z-p30m2svYutvFwpNYQ\n"
     ]
    },
    {
     "name": "stderr",
     "output_type": "stream",
     "text": [
      "2024-06-14 10:11:37,192 [ThreadPoolExecutor-32_1] DEBUG: URL being requested: PATCH https://www.googleapis.com/drive/v3/files/1LWLH63-DxwNxf5uWya_IqLfeRQGgptFxCsmvlNW1Az4?addParents=1bTdBbZPd7kXp1z-p30m2svYutvFwpNYQ&removeParents=16bQBdtKudRB30oJy7l2wdF_h-dbGcBHV&fields=id%2C+parents&alt=json\n",
      "2024-06-14 10:11:38,002 [ThreadPoolExecutor-32_1] DEBUG: URL being requested: GET https://www.googleapis.com/drive/v3/files?q=name+contains+%27Documents%27+and+mimeType+%3D+%27application%2Fvnd.google-apps.folder%27+and+trashed+%3D+false+and+%2716bQBdtKudRB30oJy7l2wdF_h-dbGcBHV%27+in+parents&fields=files%28id%2C+name%29&alt=json\n",
      "2024-06-14 10:11:38,194 [ThreadPoolExecutor-32_1] DEBUG: URL being requested: GET https://www.googleapis.com/drive/v3/files/1tGOVah99_pqZA__NnpBE2SHCtn6kc6zmZqvpfSXEIjE?fields=parents&alt=json\n"
     ]
    },
    {
     "name": "stdout",
     "output_type": "stream",
     "text": [
      "Moved file 1LWLH63-DxwNxf5uWya_IqLfeRQGgptFxCsmvlNW1Az4 to folder 1bTdBbZPd7kXp1z-p30m2svYutvFwpNYQ\n"
     ]
    },
    {
     "name": "stderr",
     "output_type": "stream",
     "text": [
      "2024-06-14 10:11:38,326 [ThreadPoolExecutor-32_1] DEBUG: URL being requested: PATCH https://www.googleapis.com/drive/v3/files/1tGOVah99_pqZA__NnpBE2SHCtn6kc6zmZqvpfSXEIjE?addParents=1bTdBbZPd7kXp1z-p30m2svYutvFwpNYQ&removeParents=16bQBdtKudRB30oJy7l2wdF_h-dbGcBHV&fields=id%2C+parents&alt=json\n",
      "2024-06-14 10:11:39,047 [ThreadPoolExecutor-32_1] DEBUG: URL being requested: GET https://www.googleapis.com/drive/v3/files?q=name+contains+%27Documents%27+and+mimeType+%3D+%27application%2Fvnd.google-apps.folder%27+and+trashed+%3D+false+and+%2716bQBdtKudRB30oJy7l2wdF_h-dbGcBHV%27+in+parents&fields=files%28id%2C+name%29&alt=json\n",
      "2024-06-14 10:11:39,217 [ThreadPoolExecutor-32_1] DEBUG: URL being requested: GET https://www.googleapis.com/drive/v3/files/1HTu0CpevD8WvNeRxk0FUaCzby9BtiYO4jvLoVhYoC-I?fields=parents&alt=json\n"
     ]
    },
    {
     "name": "stdout",
     "output_type": "stream",
     "text": [
      "Moved file 1tGOVah99_pqZA__NnpBE2SHCtn6kc6zmZqvpfSXEIjE to folder 1bTdBbZPd7kXp1z-p30m2svYutvFwpNYQ\n"
     ]
    },
    {
     "name": "stderr",
     "output_type": "stream",
     "text": [
      "2024-06-14 10:11:39,386 [ThreadPoolExecutor-32_1] DEBUG: URL being requested: PATCH https://www.googleapis.com/drive/v3/files/1HTu0CpevD8WvNeRxk0FUaCzby9BtiYO4jvLoVhYoC-I?addParents=1bTdBbZPd7kXp1z-p30m2svYutvFwpNYQ&removeParents=16bQBdtKudRB30oJy7l2wdF_h-dbGcBHV&fields=id%2C+parents&alt=json\n",
      "2024-06-14 10:11:40,131 [ThreadPoolExecutor-32_1] DEBUG: URL being requested: GET https://www.googleapis.com/drive/v3/files?q=name+contains+%27Documents%27+and+mimeType+%3D+%27application%2Fvnd.google-apps.folder%27+and+trashed+%3D+false+and+%2716bQBdtKudRB30oJy7l2wdF_h-dbGcBHV%27+in+parents&fields=files%28id%2C+name%29&alt=json\n",
      "2024-06-14 10:11:40,278 [ThreadPoolExecutor-32_1] DEBUG: URL being requested: GET https://www.googleapis.com/drive/v3/files/1KZntsnNHLqEkbvY_uJpOH1zCMA5SzV8dpFYuBjI4JtE?fields=parents&alt=json\n"
     ]
    },
    {
     "name": "stdout",
     "output_type": "stream",
     "text": [
      "Moved file 1HTu0CpevD8WvNeRxk0FUaCzby9BtiYO4jvLoVhYoC-I to folder 1bTdBbZPd7kXp1z-p30m2svYutvFwpNYQ\n"
     ]
    },
    {
     "name": "stderr",
     "output_type": "stream",
     "text": [
      "2024-06-14 10:11:40,431 [ThreadPoolExecutor-32_1] DEBUG: URL being requested: PATCH https://www.googleapis.com/drive/v3/files/1KZntsnNHLqEkbvY_uJpOH1zCMA5SzV8dpFYuBjI4JtE?addParents=1bTdBbZPd7kXp1z-p30m2svYutvFwpNYQ&removeParents=16bQBdtKudRB30oJy7l2wdF_h-dbGcBHV&fields=id%2C+parents&alt=json\n",
      "2024-06-14 10:11:41,322 [ThreadPoolExecutor-32_1] DEBUG: URL being requested: GET https://www.googleapis.com/drive/v3/files?q=name+contains+%27Documents%27+and+mimeType+%3D+%27application%2Fvnd.google-apps.folder%27+and+trashed+%3D+false+and+%2716bQBdtKudRB30oJy7l2wdF_h-dbGcBHV%27+in+parents&fields=files%28id%2C+name%29&alt=json\n",
      "2024-06-14 10:11:41,497 [ThreadPoolExecutor-32_1] DEBUG: URL being requested: GET https://www.googleapis.com/drive/v3/files/1RQriMg_Fz_ERMjxxW67rq6io9KueGese97Qa_nmj3B4?fields=parents&alt=json\n"
     ]
    },
    {
     "name": "stdout",
     "output_type": "stream",
     "text": [
      "Moved file 1KZntsnNHLqEkbvY_uJpOH1zCMA5SzV8dpFYuBjI4JtE to folder 1bTdBbZPd7kXp1z-p30m2svYutvFwpNYQ\n"
     ]
    },
    {
     "name": "stderr",
     "output_type": "stream",
     "text": [
      "2024-06-14 10:11:41,652 [ThreadPoolExecutor-32_1] DEBUG: URL being requested: PATCH https://www.googleapis.com/drive/v3/files/1RQriMg_Fz_ERMjxxW67rq6io9KueGese97Qa_nmj3B4?addParents=1bTdBbZPd7kXp1z-p30m2svYutvFwpNYQ&removeParents=16bQBdtKudRB30oJy7l2wdF_h-dbGcBHV&fields=id%2C+parents&alt=json\n",
      "2024-06-14 10:11:43,410 [ThreadPoolExecutor-32_1] DEBUG: URL being requested: GET https://www.googleapis.com/drive/v3/files?q=name+contains+%27Documents%27+and+mimeType+%3D+%27application%2Fvnd.google-apps.folder%27+and+trashed+%3D+false+and+%2716bQBdtKudRB30oJy7l2wdF_h-dbGcBHV%27+in+parents&fields=files%28id%2C+name%29&alt=json\n",
      "2024-06-14 10:11:43,555 [ThreadPoolExecutor-32_1] DEBUG: URL being requested: GET https://www.googleapis.com/drive/v3/files/132ux6LhykNtulEcWKG8xDVcZldYvs-s-4HpW_-RGnAs?fields=parents&alt=json\n"
     ]
    },
    {
     "name": "stdout",
     "output_type": "stream",
     "text": [
      "Moved file 1RQriMg_Fz_ERMjxxW67rq6io9KueGese97Qa_nmj3B4 to folder 1bTdBbZPd7kXp1z-p30m2svYutvFwpNYQ\n"
     ]
    },
    {
     "name": "stderr",
     "output_type": "stream",
     "text": [
      "2024-06-14 10:11:43,741 [ThreadPoolExecutor-32_1] DEBUG: URL being requested: PATCH https://www.googleapis.com/drive/v3/files/132ux6LhykNtulEcWKG8xDVcZldYvs-s-4HpW_-RGnAs?addParents=1bTdBbZPd7kXp1z-p30m2svYutvFwpNYQ&removeParents=16bQBdtKudRB30oJy7l2wdF_h-dbGcBHV&fields=id%2C+parents&alt=json\n",
      "2024-06-14 10:11:44,492 [ThreadPoolExecutor-32_1] DEBUG: URL being requested: GET https://www.googleapis.com/drive/v3/files?q=name+contains+%27Documents%27+and+mimeType+%3D+%27application%2Fvnd.google-apps.folder%27+and+trashed+%3D+false+and+%2716bQBdtKudRB30oJy7l2wdF_h-dbGcBHV%27+in+parents&fields=files%28id%2C+name%29&alt=json\n",
      "2024-06-14 10:11:44,662 [ThreadPoolExecutor-32_1] DEBUG: URL being requested: GET https://www.googleapis.com/drive/v3/files/18g-30CSvvYLBX_do9HmaPoikYMHx0SAIVRA-9lpc980?fields=parents&alt=json\n"
     ]
    },
    {
     "name": "stdout",
     "output_type": "stream",
     "text": [
      "Moved file 132ux6LhykNtulEcWKG8xDVcZldYvs-s-4HpW_-RGnAs to folder 1bTdBbZPd7kXp1z-p30m2svYutvFwpNYQ\n"
     ]
    },
    {
     "name": "stderr",
     "output_type": "stream",
     "text": [
      "2024-06-14 10:11:44,826 [ThreadPoolExecutor-32_1] DEBUG: URL being requested: PATCH https://www.googleapis.com/drive/v3/files/18g-30CSvvYLBX_do9HmaPoikYMHx0SAIVRA-9lpc980?addParents=1bTdBbZPd7kXp1z-p30m2svYutvFwpNYQ&removeParents=16bQBdtKudRB30oJy7l2wdF_h-dbGcBHV&fields=id%2C+parents&alt=json\n",
      "2024-06-14 10:11:45,623 [ThreadPoolExecutor-32_1] DEBUG: URL being requested: GET https://www.googleapis.com/drive/v3/files?q=name+contains+%27Documents%27+and+mimeType+%3D+%27application%2Fvnd.google-apps.folder%27+and+trashed+%3D+false+and+%2716bQBdtKudRB30oJy7l2wdF_h-dbGcBHV%27+in+parents&fields=files%28id%2C+name%29&alt=json\n",
      "2024-06-14 10:11:45,792 [ThreadPoolExecutor-32_1] DEBUG: URL being requested: GET https://www.googleapis.com/drive/v3/files/1kd8Vz3cHZvLETBOBoAQ3z3dds1QUpc43rtwBoTWXzlk?fields=parents&alt=json\n"
     ]
    },
    {
     "name": "stdout",
     "output_type": "stream",
     "text": [
      "Moved file 18g-30CSvvYLBX_do9HmaPoikYMHx0SAIVRA-9lpc980 to folder 1bTdBbZPd7kXp1z-p30m2svYutvFwpNYQ\n"
     ]
    },
    {
     "name": "stderr",
     "output_type": "stream",
     "text": [
      "2024-06-14 10:11:45,947 [ThreadPoolExecutor-32_1] DEBUG: URL being requested: PATCH https://www.googleapis.com/drive/v3/files/1kd8Vz3cHZvLETBOBoAQ3z3dds1QUpc43rtwBoTWXzlk?addParents=1bTdBbZPd7kXp1z-p30m2svYutvFwpNYQ&removeParents=16bQBdtKudRB30oJy7l2wdF_h-dbGcBHV&fields=id%2C+parents&alt=json\n",
      "2024-06-14 10:11:46,632 [ThreadPoolExecutor-32_1] DEBUG: URL being requested: GET https://www.googleapis.com/drive/v3/files?q=name+contains+%27Documents%27+and+mimeType+%3D+%27application%2Fvnd.google-apps.folder%27+and+trashed+%3D+false+and+%2716bQBdtKudRB30oJy7l2wdF_h-dbGcBHV%27+in+parents&fields=files%28id%2C+name%29&alt=json\n",
      "2024-06-14 10:11:46,823 [ThreadPoolExecutor-32_1] DEBUG: URL being requested: GET https://www.googleapis.com/drive/v3/files/1ACWTPFOAcvuw-4KoBHJ26yvKZ3P4PhsvsWCtd79RB2U?fields=parents&alt=json\n"
     ]
    },
    {
     "name": "stdout",
     "output_type": "stream",
     "text": [
      "Moved file 1kd8Vz3cHZvLETBOBoAQ3z3dds1QUpc43rtwBoTWXzlk to folder 1bTdBbZPd7kXp1z-p30m2svYutvFwpNYQ\n"
     ]
    },
    {
     "name": "stderr",
     "output_type": "stream",
     "text": [
      "2024-06-14 10:11:46,982 [ThreadPoolExecutor-32_1] DEBUG: URL being requested: PATCH https://www.googleapis.com/drive/v3/files/1ACWTPFOAcvuw-4KoBHJ26yvKZ3P4PhsvsWCtd79RB2U?addParents=1bTdBbZPd7kXp1z-p30m2svYutvFwpNYQ&removeParents=16bQBdtKudRB30oJy7l2wdF_h-dbGcBHV&fields=id%2C+parents&alt=json\n",
      "2024-06-14 10:11:47,637 [ThreadPoolExecutor-32_1] DEBUG: URL being requested: GET https://www.googleapis.com/drive/v3/files?q=name+contains+%27Documents%27+and+mimeType+%3D+%27application%2Fvnd.google-apps.folder%27+and+trashed+%3D+false+and+%2716bQBdtKudRB30oJy7l2wdF_h-dbGcBHV%27+in+parents&fields=files%28id%2C+name%29&alt=json\n",
      "2024-06-14 10:11:47,809 [ThreadPoolExecutor-32_1] DEBUG: URL being requested: GET https://www.googleapis.com/drive/v3/files/1cG4VRlb9rch_YbkT--CuTqOMstswHhxdbZj7v4yiPEI?fields=parents&alt=json\n"
     ]
    },
    {
     "name": "stdout",
     "output_type": "stream",
     "text": [
      "Moved file 1ACWTPFOAcvuw-4KoBHJ26yvKZ3P4PhsvsWCtd79RB2U to folder 1bTdBbZPd7kXp1z-p30m2svYutvFwpNYQ\n"
     ]
    },
    {
     "name": "stderr",
     "output_type": "stream",
     "text": [
      "2024-06-14 10:11:47,967 [ThreadPoolExecutor-32_1] DEBUG: URL being requested: PATCH https://www.googleapis.com/drive/v3/files/1cG4VRlb9rch_YbkT--CuTqOMstswHhxdbZj7v4yiPEI?addParents=1bTdBbZPd7kXp1z-p30m2svYutvFwpNYQ&removeParents=16bQBdtKudRB30oJy7l2wdF_h-dbGcBHV&fields=id%2C+parents&alt=json\n",
      "2024-06-14 10:11:48,742 [ThreadPoolExecutor-32_1] DEBUG: URL being requested: GET https://www.googleapis.com/drive/v3/files?q=name+contains+%27Documents%27+and+mimeType+%3D+%27application%2Fvnd.google-apps.folder%27+and+trashed+%3D+false+and+%2716bQBdtKudRB30oJy7l2wdF_h-dbGcBHV%27+in+parents&fields=files%28id%2C+name%29&alt=json\n",
      "2024-06-14 10:11:48,922 [ThreadPoolExecutor-32_1] DEBUG: URL being requested: GET https://www.googleapis.com/drive/v3/files/1ObDQ7dwLmFEy71CK2yYqzigjxI17CjV2M7C-oRPkLbM?fields=parents&alt=json\n"
     ]
    },
    {
     "name": "stdout",
     "output_type": "stream",
     "text": [
      "Moved file 1cG4VRlb9rch_YbkT--CuTqOMstswHhxdbZj7v4yiPEI to folder 1bTdBbZPd7kXp1z-p30m2svYutvFwpNYQ\n"
     ]
    },
    {
     "name": "stderr",
     "output_type": "stream",
     "text": [
      "2024-06-14 10:11:49,082 [ThreadPoolExecutor-32_1] DEBUG: URL being requested: PATCH https://www.googleapis.com/drive/v3/files/1ObDQ7dwLmFEy71CK2yYqzigjxI17CjV2M7C-oRPkLbM?addParents=1bTdBbZPd7kXp1z-p30m2svYutvFwpNYQ&removeParents=16bQBdtKudRB30oJy7l2wdF_h-dbGcBHV&fields=id%2C+parents&alt=json\n",
      "2024-06-14 10:11:49,792 [ThreadPoolExecutor-32_1] DEBUG: URL being requested: GET https://www.googleapis.com/drive/v3/files?q=name+contains+%27Documents%27+and+mimeType+%3D+%27application%2Fvnd.google-apps.folder%27+and+trashed+%3D+false+and+%2716bQBdtKudRB30oJy7l2wdF_h-dbGcBHV%27+in+parents&fields=files%28id%2C+name%29&alt=json\n",
      "2024-06-14 10:11:49,984 [ThreadPoolExecutor-32_1] DEBUG: URL being requested: GET https://www.googleapis.com/drive/v3/files/11QFohDMAt5QGmZCdyDmIVsILrmwgeSBDPUJ6i2Q-DMY?fields=parents&alt=json\n"
     ]
    },
    {
     "name": "stdout",
     "output_type": "stream",
     "text": [
      "Moved file 1ObDQ7dwLmFEy71CK2yYqzigjxI17CjV2M7C-oRPkLbM to folder 1bTdBbZPd7kXp1z-p30m2svYutvFwpNYQ\n"
     ]
    },
    {
     "name": "stderr",
     "output_type": "stream",
     "text": [
      "2024-06-14 10:11:50,182 [ThreadPoolExecutor-32_1] DEBUG: URL being requested: PATCH https://www.googleapis.com/drive/v3/files/11QFohDMAt5QGmZCdyDmIVsILrmwgeSBDPUJ6i2Q-DMY?addParents=1bTdBbZPd7kXp1z-p30m2svYutvFwpNYQ&removeParents=16bQBdtKudRB30oJy7l2wdF_h-dbGcBHV&fields=id%2C+parents&alt=json\n",
      "2024-06-14 10:11:50,937 [ThreadPoolExecutor-32_1] DEBUG: URL being requested: GET https://www.googleapis.com/drive/v3/files?q=name+contains+%27Others%27+and+mimeType+%3D+%27application%2Fvnd.google-apps.folder%27+and+trashed+%3D+false+and+%2716bQBdtKudRB30oJy7l2wdF_h-dbGcBHV%27+in+parents&fields=files%28id%2C+name%29&alt=json\n",
      "2024-06-14 10:11:51,088 [ThreadPoolExecutor-32_1] DEBUG: URL being requested: POST https://www.googleapis.com/drive/v3/files?fields=id&alt=json\n"
     ]
    },
    {
     "name": "stdout",
     "output_type": "stream",
     "text": [
      "Moved file 11QFohDMAt5QGmZCdyDmIVsILrmwgeSBDPUJ6i2Q-DMY to folder 1bTdBbZPd7kXp1z-p30m2svYutvFwpNYQ\n"
     ]
    },
    {
     "name": "stderr",
     "output_type": "stream",
     "text": [
      "2024-06-14 10:11:51,599 [ThreadPoolExecutor-32_1] DEBUG: URL being requested: GET https://www.googleapis.com/drive/v3/files/1Twc9pdjjhvZK_0naGG88ClI-rsC2l1t4?fields=parents&alt=json\n",
      "2024-06-14 10:11:51,745 [ThreadPoolExecutor-32_1] DEBUG: URL being requested: PATCH https://www.googleapis.com/drive/v3/files/1Twc9pdjjhvZK_0naGG88ClI-rsC2l1t4?addParents=1nLr0eP1Ck18UDXPKTKsgcBDWpIOm8nKl&removeParents=16bQBdtKudRB30oJy7l2wdF_h-dbGcBHV&fields=id%2C+parents&alt=json\n",
      "2024-06-14 10:11:52,540 [ThreadPoolExecutor-32_1] DEBUG: URL being requested: GET https://www.googleapis.com/drive/v3/files?q=name+contains+%27Documents%27+and+mimeType+%3D+%27application%2Fvnd.google-apps.folder%27+and+trashed+%3D+false+and+%2716bQBdtKudRB30oJy7l2wdF_h-dbGcBHV%27+in+parents&fields=files%28id%2C+name%29&alt=json\n",
      "2024-06-14 10:11:52,671 [ThreadPoolExecutor-32_1] DEBUG: URL being requested: GET https://www.googleapis.com/drive/v3/files/1BSkTvxLjcfrB-_m7xipvyxHUVYDS17iH6ysUeQhVg4U?fields=parents&alt=json\n"
     ]
    },
    {
     "name": "stdout",
     "output_type": "stream",
     "text": [
      "Moved file 1Twc9pdjjhvZK_0naGG88ClI-rsC2l1t4 to folder 1nLr0eP1Ck18UDXPKTKsgcBDWpIOm8nKl\n"
     ]
    },
    {
     "name": "stderr",
     "output_type": "stream",
     "text": [
      "2024-06-14 10:11:52,837 [ThreadPoolExecutor-32_1] DEBUG: URL being requested: PATCH https://www.googleapis.com/drive/v3/files/1BSkTvxLjcfrB-_m7xipvyxHUVYDS17iH6ysUeQhVg4U?addParents=1bTdBbZPd7kXp1z-p30m2svYutvFwpNYQ&removeParents=16bQBdtKudRB30oJy7l2wdF_h-dbGcBHV&fields=id%2C+parents&alt=json\n",
      "2024-06-14 10:11:53,629 [ThreadPoolExecutor-32_1] DEBUG: URL being requested: GET https://www.googleapis.com/drive/v3/files?q=name+contains+%27Others%27+and+mimeType+%3D+%27application%2Fvnd.google-apps.folder%27+and+trashed+%3D+false+and+%2716bQBdtKudRB30oJy7l2wdF_h-dbGcBHV%27+in+parents&fields=files%28id%2C+name%29&alt=json\n",
      "2024-06-14 10:11:53,820 [ThreadPoolExecutor-32_1] DEBUG: URL being requested: GET https://www.googleapis.com/drive/v3/files/1r1tqFvp__2UyoofJqbE4-SpW2GrnHAlQ?fields=parents&alt=json\n"
     ]
    },
    {
     "name": "stdout",
     "output_type": "stream",
     "text": [
      "Moved file 1BSkTvxLjcfrB-_m7xipvyxHUVYDS17iH6ysUeQhVg4U to folder 1bTdBbZPd7kXp1z-p30m2svYutvFwpNYQ\n"
     ]
    },
    {
     "name": "stderr",
     "output_type": "stream",
     "text": [
      "2024-06-14 10:11:53,997 [ThreadPoolExecutor-32_1] DEBUG: URL being requested: PATCH https://www.googleapis.com/drive/v3/files/1r1tqFvp__2UyoofJqbE4-SpW2GrnHAlQ?addParents=1nLr0eP1Ck18UDXPKTKsgcBDWpIOm8nKl&removeParents=16bQBdtKudRB30oJy7l2wdF_h-dbGcBHV&fields=id%2C+parents&alt=json\n",
      "2024-06-14 10:11:54,642 [ThreadPoolExecutor-32_1] DEBUG: URL being requested: GET https://www.googleapis.com/drive/v3/files?q=name+contains+%27Others%27+and+mimeType+%3D+%27application%2Fvnd.google-apps.folder%27+and+trashed+%3D+false+and+%2716bQBdtKudRB30oJy7l2wdF_h-dbGcBHV%27+in+parents&fields=files%28id%2C+name%29&alt=json\n",
      "2024-06-14 10:11:54,839 [ThreadPoolExecutor-32_1] DEBUG: URL being requested: GET https://www.googleapis.com/drive/v3/files/11ev4sVbolaM8crAjCS6yw9bGy-n3FCCK?fields=parents&alt=json\n"
     ]
    },
    {
     "name": "stdout",
     "output_type": "stream",
     "text": [
      "Moved file 1r1tqFvp__2UyoofJqbE4-SpW2GrnHAlQ to folder 1nLr0eP1Ck18UDXPKTKsgcBDWpIOm8nKl\n"
     ]
    },
    {
     "name": "stderr",
     "output_type": "stream",
     "text": [
      "2024-06-14 10:11:54,990 [ThreadPoolExecutor-32_1] DEBUG: URL being requested: PATCH https://www.googleapis.com/drive/v3/files/11ev4sVbolaM8crAjCS6yw9bGy-n3FCCK?addParents=1nLr0eP1Ck18UDXPKTKsgcBDWpIOm8nKl&removeParents=16bQBdtKudRB30oJy7l2wdF_h-dbGcBHV&fields=id%2C+parents&alt=json\n",
      "2024-06-14 10:11:55,721 [ThreadPoolExecutor-32_1] DEBUG: URL being requested: GET https://www.googleapis.com/drive/v3/files?q=name+contains+%27Others%27+and+mimeType+%3D+%27application%2Fvnd.google-apps.folder%27+and+trashed+%3D+false+and+%2716bQBdtKudRB30oJy7l2wdF_h-dbGcBHV%27+in+parents&fields=files%28id%2C+name%29&alt=json\n",
      "2024-06-14 10:11:55,888 [ThreadPoolExecutor-32_1] DEBUG: URL being requested: GET https://www.googleapis.com/drive/v3/files/1CSmojayVftolql2a5ywFdQuDOOGUh46-?fields=parents&alt=json\n"
     ]
    },
    {
     "name": "stdout",
     "output_type": "stream",
     "text": [
      "Moved file 11ev4sVbolaM8crAjCS6yw9bGy-n3FCCK to folder 1nLr0eP1Ck18UDXPKTKsgcBDWpIOm8nKl\n"
     ]
    },
    {
     "name": "stderr",
     "output_type": "stream",
     "text": [
      "2024-06-14 10:11:56,073 [ThreadPoolExecutor-32_1] DEBUG: URL being requested: PATCH https://www.googleapis.com/drive/v3/files/1CSmojayVftolql2a5ywFdQuDOOGUh46-?addParents=1nLr0eP1Ck18UDXPKTKsgcBDWpIOm8nKl&removeParents=16bQBdtKudRB30oJy7l2wdF_h-dbGcBHV&fields=id%2C+parents&alt=json\n",
      "2024-06-14 10:11:56,779 [ThreadPoolExecutor-32_1] DEBUG: URL being requested: GET https://www.googleapis.com/drive/v3/files?q=name+contains+%27Others%27+and+mimeType+%3D+%27application%2Fvnd.google-apps.folder%27+and+trashed+%3D+false+and+%2716bQBdtKudRB30oJy7l2wdF_h-dbGcBHV%27+in+parents&fields=files%28id%2C+name%29&alt=json\n",
      "2024-06-14 10:11:56,959 [ThreadPoolExecutor-32_1] DEBUG: URL being requested: GET https://www.googleapis.com/drive/v3/files/1ClSLJnb_lMvS_XkEJnWBmH2c5dGLbTTn?fields=parents&alt=json\n"
     ]
    },
    {
     "name": "stdout",
     "output_type": "stream",
     "text": [
      "Moved file 1CSmojayVftolql2a5ywFdQuDOOGUh46- to folder 1nLr0eP1Ck18UDXPKTKsgcBDWpIOm8nKl\n"
     ]
    },
    {
     "name": "stderr",
     "output_type": "stream",
     "text": [
      "2024-06-14 10:11:57,087 [ThreadPoolExecutor-32_1] DEBUG: URL being requested: PATCH https://www.googleapis.com/drive/v3/files/1ClSLJnb_lMvS_XkEJnWBmH2c5dGLbTTn?addParents=1nLr0eP1Ck18UDXPKTKsgcBDWpIOm8nKl&removeParents=16bQBdtKudRB30oJy7l2wdF_h-dbGcBHV&fields=id%2C+parents&alt=json\n",
      "2024-06-14 10:11:57,762 [ThreadPoolExecutor-32_1] DEBUG: URL being requested: GET https://www.googleapis.com/drive/v3/files?q=name+contains+%27Others%27+and+mimeType+%3D+%27application%2Fvnd.google-apps.folder%27+and+trashed+%3D+false+and+%2716bQBdtKudRB30oJy7l2wdF_h-dbGcBHV%27+in+parents&fields=files%28id%2C+name%29&alt=json\n",
      "2024-06-14 10:11:57,909 [ThreadPoolExecutor-32_1] DEBUG: URL being requested: GET https://www.googleapis.com/drive/v3/files/1N2CHolj2Z4aMjiRIyiRhgpKmP3b8S2gt?fields=parents&alt=json\n"
     ]
    },
    {
     "name": "stdout",
     "output_type": "stream",
     "text": [
      "Moved file 1ClSLJnb_lMvS_XkEJnWBmH2c5dGLbTTn to folder 1nLr0eP1Ck18UDXPKTKsgcBDWpIOm8nKl\n"
     ]
    },
    {
     "name": "stderr",
     "output_type": "stream",
     "text": [
      "2024-06-14 10:11:58,096 [ThreadPoolExecutor-32_1] DEBUG: URL being requested: PATCH https://www.googleapis.com/drive/v3/files/1N2CHolj2Z4aMjiRIyiRhgpKmP3b8S2gt?addParents=1nLr0eP1Ck18UDXPKTKsgcBDWpIOm8nKl&removeParents=16bQBdtKudRB30oJy7l2wdF_h-dbGcBHV&fields=id%2C+parents&alt=json\n",
      "2024-06-14 10:11:58,921 [ThreadPoolExecutor-32_1] DEBUG: URL being requested: GET https://www.googleapis.com/drive/v3/files?q=name+contains+%27Others%27+and+mimeType+%3D+%27application%2Fvnd.google-apps.folder%27+and+trashed+%3D+false+and+%2716bQBdtKudRB30oJy7l2wdF_h-dbGcBHV%27+in+parents&fields=files%28id%2C+name%29&alt=json\n"
     ]
    },
    {
     "name": "stdout",
     "output_type": "stream",
     "text": [
      "Moved file 1N2CHolj2Z4aMjiRIyiRhgpKmP3b8S2gt to folder 1nLr0eP1Ck18UDXPKTKsgcBDWpIOm8nKl\n"
     ]
    },
    {
     "name": "stderr",
     "output_type": "stream",
     "text": [
      "2024-06-14 10:11:59,130 [ThreadPoolExecutor-32_1] DEBUG: URL being requested: GET https://www.googleapis.com/drive/v3/files/19L828kN85GDfw2Mku7ssVHsTEscLjcEB?fields=parents&alt=json\n",
      "2024-06-14 10:11:59,308 [ThreadPoolExecutor-32_1] DEBUG: URL being requested: PATCH https://www.googleapis.com/drive/v3/files/19L828kN85GDfw2Mku7ssVHsTEscLjcEB?addParents=1nLr0eP1Ck18UDXPKTKsgcBDWpIOm8nKl&removeParents=16bQBdtKudRB30oJy7l2wdF_h-dbGcBHV&fields=id%2C+parents&alt=json\n",
      "2024-06-14 10:12:00,044 [ThreadPoolExecutor-32_1] DEBUG: URL being requested: GET https://www.googleapis.com/drive/v3/files?q=name+contains+%27Others%27+and+mimeType+%3D+%27application%2Fvnd.google-apps.folder%27+and+trashed+%3D+false+and+%2716bQBdtKudRB30oJy7l2wdF_h-dbGcBHV%27+in+parents&fields=files%28id%2C+name%29&alt=json\n",
      "2024-06-14 10:12:00,208 [ThreadPoolExecutor-32_1] DEBUG: URL being requested: GET https://www.googleapis.com/drive/v3/files/1JWpEY0SWt4XV1nRzUGrHr843C4j_5apC?fields=parents&alt=json\n"
     ]
    },
    {
     "name": "stdout",
     "output_type": "stream",
     "text": [
      "Moved file 19L828kN85GDfw2Mku7ssVHsTEscLjcEB to folder 1nLr0eP1Ck18UDXPKTKsgcBDWpIOm8nKl\n"
     ]
    },
    {
     "name": "stderr",
     "output_type": "stream",
     "text": [
      "2024-06-14 10:12:00,369 [ThreadPoolExecutor-32_1] DEBUG: URL being requested: PATCH https://www.googleapis.com/drive/v3/files/1JWpEY0SWt4XV1nRzUGrHr843C4j_5apC?addParents=1nLr0eP1Ck18UDXPKTKsgcBDWpIOm8nKl&removeParents=16bQBdtKudRB30oJy7l2wdF_h-dbGcBHV&fields=id%2C+parents&alt=json\n",
      "2024-06-14 10:12:01,053 [ThreadPoolExecutor-32_1] DEBUG: URL being requested: GET https://www.googleapis.com/drive/v3/files?q=name+contains+%27Others%27+and+mimeType+%3D+%27application%2Fvnd.google-apps.folder%27+and+trashed+%3D+false+and+%2716bQBdtKudRB30oJy7l2wdF_h-dbGcBHV%27+in+parents&fields=files%28id%2C+name%29&alt=json\n",
      "2024-06-14 10:12:01,207 [ThreadPoolExecutor-32_1] DEBUG: URL being requested: GET https://www.googleapis.com/drive/v3/files/1ggB8p4UwLUEeq89AI5e7ApmDUA6HnVDO?fields=parents&alt=json\n"
     ]
    },
    {
     "name": "stdout",
     "output_type": "stream",
     "text": [
      "Moved file 1JWpEY0SWt4XV1nRzUGrHr843C4j_5apC to folder 1nLr0eP1Ck18UDXPKTKsgcBDWpIOm8nKl\n"
     ]
    },
    {
     "name": "stderr",
     "output_type": "stream",
     "text": [
      "2024-06-14 10:12:01,369 [ThreadPoolExecutor-32_1] DEBUG: URL being requested: PATCH https://www.googleapis.com/drive/v3/files/1ggB8p4UwLUEeq89AI5e7ApmDUA6HnVDO?addParents=1nLr0eP1Ck18UDXPKTKsgcBDWpIOm8nKl&removeParents=16bQBdtKudRB30oJy7l2wdF_h-dbGcBHV&fields=id%2C+parents&alt=json\n",
      "2024-06-14 10:12:02,105 [ThreadPoolExecutor-32_1] DEBUG: URL being requested: GET https://www.googleapis.com/drive/v3/files?q=name+contains+%27Others%27+and+mimeType+%3D+%27application%2Fvnd.google-apps.folder%27+and+trashed+%3D+false+and+%2716bQBdtKudRB30oJy7l2wdF_h-dbGcBHV%27+in+parents&fields=files%28id%2C+name%29&alt=json\n"
     ]
    },
    {
     "name": "stdout",
     "output_type": "stream",
     "text": [
      "Moved file 1ggB8p4UwLUEeq89AI5e7ApmDUA6HnVDO to folder 1nLr0eP1Ck18UDXPKTKsgcBDWpIOm8nKl\n"
     ]
    },
    {
     "name": "stderr",
     "output_type": "stream",
     "text": [
      "2024-06-14 10:12:02,327 [ThreadPoolExecutor-32_1] DEBUG: URL being requested: GET https://www.googleapis.com/drive/v3/files/1bBeJNKjR_Lqw6TViP5Ciq1fOFoeKKFex?fields=parents&alt=json\n",
      "2024-06-14 10:12:02,475 [ThreadPoolExecutor-32_1] DEBUG: URL being requested: PATCH https://www.googleapis.com/drive/v3/files/1bBeJNKjR_Lqw6TViP5Ciq1fOFoeKKFex?addParents=1nLr0eP1Ck18UDXPKTKsgcBDWpIOm8nKl&removeParents=16bQBdtKudRB30oJy7l2wdF_h-dbGcBHV&fields=id%2C+parents&alt=json\n",
      "2024-06-14 10:12:03,373 [ThreadPoolExecutor-32_1] DEBUG: URL being requested: GET https://www.googleapis.com/drive/v3/files?q=name+contains+%27Others%27+and+mimeType+%3D+%27application%2Fvnd.google-apps.folder%27+and+trashed+%3D+false+and+%2716bQBdtKudRB30oJy7l2wdF_h-dbGcBHV%27+in+parents&fields=files%28id%2C+name%29&alt=json\n"
     ]
    },
    {
     "name": "stdout",
     "output_type": "stream",
     "text": [
      "Moved file 1bBeJNKjR_Lqw6TViP5Ciq1fOFoeKKFex to folder 1nLr0eP1Ck18UDXPKTKsgcBDWpIOm8nKl\n"
     ]
    },
    {
     "name": "stderr",
     "output_type": "stream",
     "text": [
      "2024-06-14 10:12:03,574 [ThreadPoolExecutor-32_1] DEBUG: URL being requested: GET https://www.googleapis.com/drive/v3/files/127S5rN-kaWQGqeDe-BGq7ssNnLSYWu-i?fields=parents&alt=json\n",
      "2024-06-14 10:12:03,743 [ThreadPoolExecutor-32_1] DEBUG: URL being requested: PATCH https://www.googleapis.com/drive/v3/files/127S5rN-kaWQGqeDe-BGq7ssNnLSYWu-i?addParents=1nLr0eP1Ck18UDXPKTKsgcBDWpIOm8nKl&removeParents=16bQBdtKudRB30oJy7l2wdF_h-dbGcBHV&fields=id%2C+parents&alt=json\n",
      "2024-06-14 10:12:04,591 [ThreadPoolExecutor-32_1] DEBUG: URL being requested: GET https://www.googleapis.com/drive/v3/files?q=name+contains+%27Others%27+and+mimeType+%3D+%27application%2Fvnd.google-apps.folder%27+and+trashed+%3D+false+and+%2716bQBdtKudRB30oJy7l2wdF_h-dbGcBHV%27+in+parents&fields=files%28id%2C+name%29&alt=json\n",
      "2024-06-14 10:12:04,775 [ThreadPoolExecutor-32_1] DEBUG: URL being requested: GET https://www.googleapis.com/drive/v3/files/1P1srKL-HYsSj30N1xE8zXOQuRfDPdUNu?fields=parents&alt=json\n"
     ]
    },
    {
     "name": "stdout",
     "output_type": "stream",
     "text": [
      "Moved file 127S5rN-kaWQGqeDe-BGq7ssNnLSYWu-i to folder 1nLr0eP1Ck18UDXPKTKsgcBDWpIOm8nKl\n"
     ]
    },
    {
     "name": "stderr",
     "output_type": "stream",
     "text": [
      "2024-06-14 10:12:04,956 [ThreadPoolExecutor-32_1] DEBUG: URL being requested: PATCH https://www.googleapis.com/drive/v3/files/1P1srKL-HYsSj30N1xE8zXOQuRfDPdUNu?addParents=1nLr0eP1Ck18UDXPKTKsgcBDWpIOm8nKl&removeParents=16bQBdtKudRB30oJy7l2wdF_h-dbGcBHV&fields=id%2C+parents&alt=json\n",
      "2024-06-14 10:12:06,492 [ThreadPoolExecutor-32_1] DEBUG: URL being requested: GET https://www.googleapis.com/drive/v3/files?q=name+contains+%27Others%27+and+mimeType+%3D+%27application%2Fvnd.google-apps.folder%27+and+trashed+%3D+false+and+%2716bQBdtKudRB30oJy7l2wdF_h-dbGcBHV%27+in+parents&fields=files%28id%2C+name%29&alt=json\n",
      "2024-06-14 10:12:06,643 [ThreadPoolExecutor-32_1] DEBUG: URL being requested: GET https://www.googleapis.com/drive/v3/files/1B-6qHimIJf8oyW3xaQuaiajdpFbRuXC2?fields=parents&alt=json\n"
     ]
    },
    {
     "name": "stdout",
     "output_type": "stream",
     "text": [
      "Moved file 1P1srKL-HYsSj30N1xE8zXOQuRfDPdUNu to folder 1nLr0eP1Ck18UDXPKTKsgcBDWpIOm8nKl\n"
     ]
    },
    {
     "name": "stderr",
     "output_type": "stream",
     "text": [
      "2024-06-14 10:12:06,803 [ThreadPoolExecutor-32_1] DEBUG: URL being requested: PATCH https://www.googleapis.com/drive/v3/files/1B-6qHimIJf8oyW3xaQuaiajdpFbRuXC2?addParents=1nLr0eP1Ck18UDXPKTKsgcBDWpIOm8nKl&removeParents=16bQBdtKudRB30oJy7l2wdF_h-dbGcBHV&fields=id%2C+parents&alt=json\n",
      "2024-06-14 10:12:07,492 [ThreadPoolExecutor-32_1] DEBUG: URL being requested: GET https://www.googleapis.com/drive/v3/files?q=name+contains+%27Others%27+and+mimeType+%3D+%27application%2Fvnd.google-apps.folder%27+and+trashed+%3D+false+and+%2716bQBdtKudRB30oJy7l2wdF_h-dbGcBHV%27+in+parents&fields=files%28id%2C+name%29&alt=json\n",
      "2024-06-14 10:12:07,654 [ThreadPoolExecutor-32_1] DEBUG: URL being requested: GET https://www.googleapis.com/drive/v3/files/19fMTBfZrH0gVkQPwHkyk2eJxxKkvs-mI?fields=parents&alt=json\n"
     ]
    },
    {
     "name": "stdout",
     "output_type": "stream",
     "text": [
      "Moved file 1B-6qHimIJf8oyW3xaQuaiajdpFbRuXC2 to folder 1nLr0eP1Ck18UDXPKTKsgcBDWpIOm8nKl\n"
     ]
    },
    {
     "name": "stderr",
     "output_type": "stream",
     "text": [
      "2024-06-14 10:12:07,802 [ThreadPoolExecutor-32_1] DEBUG: URL being requested: PATCH https://www.googleapis.com/drive/v3/files/19fMTBfZrH0gVkQPwHkyk2eJxxKkvs-mI?addParents=1nLr0eP1Ck18UDXPKTKsgcBDWpIOm8nKl&removeParents=16bQBdtKudRB30oJy7l2wdF_h-dbGcBHV&fields=id%2C+parents&alt=json\n",
      "2024-06-14 10:12:08,508 [ThreadPoolExecutor-32_1] DEBUG: URL being requested: GET https://www.googleapis.com/drive/v3/files?q=name+contains+%27Others%27+and+mimeType+%3D+%27application%2Fvnd.google-apps.folder%27+and+trashed+%3D+false+and+%2716bQBdtKudRB30oJy7l2wdF_h-dbGcBHV%27+in+parents&fields=files%28id%2C+name%29&alt=json\n",
      "2024-06-14 10:12:08,671 [ThreadPoolExecutor-32_1] DEBUG: URL being requested: GET https://www.googleapis.com/drive/v3/files/1sfgBOMxFDTTkuMChHukMMg7zmV6p7eRj?fields=parents&alt=json\n"
     ]
    },
    {
     "name": "stdout",
     "output_type": "stream",
     "text": [
      "Moved file 19fMTBfZrH0gVkQPwHkyk2eJxxKkvs-mI to folder 1nLr0eP1Ck18UDXPKTKsgcBDWpIOm8nKl\n"
     ]
    },
    {
     "name": "stderr",
     "output_type": "stream",
     "text": [
      "2024-06-14 10:12:08,835 [ThreadPoolExecutor-32_1] DEBUG: URL being requested: PATCH https://www.googleapis.com/drive/v3/files/1sfgBOMxFDTTkuMChHukMMg7zmV6p7eRj?addParents=1nLr0eP1Ck18UDXPKTKsgcBDWpIOm8nKl&removeParents=16bQBdtKudRB30oJy7l2wdF_h-dbGcBHV&fields=id%2C+parents&alt=json\n",
      "2024-06-14 10:12:09,520 [ThreadPoolExecutor-32_1] DEBUG: URL being requested: GET https://www.googleapis.com/drive/v3/files?q=name+contains+%27Others%27+and+mimeType+%3D+%27application%2Fvnd.google-apps.folder%27+and+trashed+%3D+false+and+%2716bQBdtKudRB30oJy7l2wdF_h-dbGcBHV%27+in+parents&fields=files%28id%2C+name%29&alt=json\n",
      "2024-06-14 10:12:09,676 [ThreadPoolExecutor-32_1] DEBUG: URL being requested: GET https://www.googleapis.com/drive/v3/files/14YIsrKlBBmG3u1GUnXCT3p_Knqryyr72?fields=parents&alt=json\n"
     ]
    },
    {
     "name": "stdout",
     "output_type": "stream",
     "text": [
      "Moved file 1sfgBOMxFDTTkuMChHukMMg7zmV6p7eRj to folder 1nLr0eP1Ck18UDXPKTKsgcBDWpIOm8nKl\n"
     ]
    },
    {
     "name": "stderr",
     "output_type": "stream",
     "text": [
      "2024-06-14 10:12:09,835 [ThreadPoolExecutor-32_1] DEBUG: URL being requested: PATCH https://www.googleapis.com/drive/v3/files/14YIsrKlBBmG3u1GUnXCT3p_Knqryyr72?addParents=1nLr0eP1Ck18UDXPKTKsgcBDWpIOm8nKl&removeParents=16bQBdtKudRB30oJy7l2wdF_h-dbGcBHV&fields=id%2C+parents&alt=json\n",
      "2024-06-14 10:12:10,526 [ThreadPoolExecutor-32_1] DEBUG: URL being requested: GET https://www.googleapis.com/drive/v3/files?q=name+contains+%27Others%27+and+mimeType+%3D+%27application%2Fvnd.google-apps.folder%27+and+trashed+%3D+false+and+%2716bQBdtKudRB30oJy7l2wdF_h-dbGcBHV%27+in+parents&fields=files%28id%2C+name%29&alt=json\n",
      "2024-06-14 10:12:10,693 [ThreadPoolExecutor-32_1] DEBUG: URL being requested: GET https://www.googleapis.com/drive/v3/files/12wo7ID6aiBmoYGEUQ9SCDmlxCs_X6DFa?fields=parents&alt=json\n"
     ]
    },
    {
     "name": "stdout",
     "output_type": "stream",
     "text": [
      "Moved file 14YIsrKlBBmG3u1GUnXCT3p_Knqryyr72 to folder 1nLr0eP1Ck18UDXPKTKsgcBDWpIOm8nKl\n"
     ]
    },
    {
     "name": "stderr",
     "output_type": "stream",
     "text": [
      "2024-06-14 10:12:10,850 [ThreadPoolExecutor-32_1] DEBUG: URL being requested: PATCH https://www.googleapis.com/drive/v3/files/12wo7ID6aiBmoYGEUQ9SCDmlxCs_X6DFa?addParents=1nLr0eP1Ck18UDXPKTKsgcBDWpIOm8nKl&removeParents=16bQBdtKudRB30oJy7l2wdF_h-dbGcBHV&fields=id%2C+parents&alt=json\n",
      "2024-06-14 10:12:11,541 [ThreadPoolExecutor-32_1] DEBUG: URL being requested: GET https://www.googleapis.com/drive/v3/files?q=name+contains+%27Others%27+and+mimeType+%3D+%27application%2Fvnd.google-apps.folder%27+and+trashed+%3D+false+and+%2716bQBdtKudRB30oJy7l2wdF_h-dbGcBHV%27+in+parents&fields=files%28id%2C+name%29&alt=json\n",
      "2024-06-14 10:12:11,706 [ThreadPoolExecutor-32_1] DEBUG: URL being requested: GET https://www.googleapis.com/drive/v3/files/1VPPT1QBHc6z1vfo4WkudupSN6XWG7nVp?fields=parents&alt=json\n"
     ]
    },
    {
     "name": "stdout",
     "output_type": "stream",
     "text": [
      "Moved file 12wo7ID6aiBmoYGEUQ9SCDmlxCs_X6DFa to folder 1nLr0eP1Ck18UDXPKTKsgcBDWpIOm8nKl\n"
     ]
    },
    {
     "name": "stderr",
     "output_type": "stream",
     "text": [
      "2024-06-14 10:12:11,884 [ThreadPoolExecutor-32_1] DEBUG: URL being requested: PATCH https://www.googleapis.com/drive/v3/files/1VPPT1QBHc6z1vfo4WkudupSN6XWG7nVp?addParents=1nLr0eP1Ck18UDXPKTKsgcBDWpIOm8nKl&removeParents=16bQBdtKudRB30oJy7l2wdF_h-dbGcBHV&fields=id%2C+parents&alt=json\n",
      "2024-06-14 10:12:12,506 [ThreadPoolExecutor-32_1] DEBUG: URL being requested: GET https://www.googleapis.com/drive/v3/files?q=name+contains+%27Others%27+and+mimeType+%3D+%27application%2Fvnd.google-apps.folder%27+and+trashed+%3D+false+and+%2716bQBdtKudRB30oJy7l2wdF_h-dbGcBHV%27+in+parents&fields=files%28id%2C+name%29&alt=json\n",
      "2024-06-14 10:12:12,704 [ThreadPoolExecutor-32_1] DEBUG: URL being requested: GET https://www.googleapis.com/drive/v3/files/1Pw96RoOdS9r-39QxxHM1-3CCcAJKU63G?fields=parents&alt=json\n"
     ]
    },
    {
     "name": "stdout",
     "output_type": "stream",
     "text": [
      "Moved file 1VPPT1QBHc6z1vfo4WkudupSN6XWG7nVp to folder 1nLr0eP1Ck18UDXPKTKsgcBDWpIOm8nKl\n"
     ]
    },
    {
     "name": "stderr",
     "output_type": "stream",
     "text": [
      "2024-06-14 10:12:12,861 [ThreadPoolExecutor-32_1] DEBUG: URL being requested: PATCH https://www.googleapis.com/drive/v3/files/1Pw96RoOdS9r-39QxxHM1-3CCcAJKU63G?addParents=1nLr0eP1Ck18UDXPKTKsgcBDWpIOm8nKl&removeParents=16bQBdtKudRB30oJy7l2wdF_h-dbGcBHV&fields=id%2C+parents&alt=json\n",
      "2024-06-14 10:12:13,706 [ThreadPoolExecutor-32_1] DEBUG: URL being requested: GET https://www.googleapis.com/drive/v3/files?q=name+contains+%27Others%27+and+mimeType+%3D+%27application%2Fvnd.google-apps.folder%27+and+trashed+%3D+false+and+%2716bQBdtKudRB30oJy7l2wdF_h-dbGcBHV%27+in+parents&fields=files%28id%2C+name%29&alt=json\n",
      "2024-06-14 10:12:13,903 [ThreadPoolExecutor-32_1] DEBUG: URL being requested: GET https://www.googleapis.com/drive/v3/files/10qGKoEWuIqi7IyXLXSFHITKx01t4PIU2?fields=parents&alt=json\n"
     ]
    },
    {
     "name": "stdout",
     "output_type": "stream",
     "text": [
      "Moved file 1Pw96RoOdS9r-39QxxHM1-3CCcAJKU63G to folder 1nLr0eP1Ck18UDXPKTKsgcBDWpIOm8nKl\n"
     ]
    },
    {
     "name": "stderr",
     "output_type": "stream",
     "text": [
      "2024-06-14 10:12:14,060 [ThreadPoolExecutor-32_1] DEBUG: URL being requested: PATCH https://www.googleapis.com/drive/v3/files/10qGKoEWuIqi7IyXLXSFHITKx01t4PIU2?addParents=1nLr0eP1Ck18UDXPKTKsgcBDWpIOm8nKl&removeParents=16bQBdtKudRB30oJy7l2wdF_h-dbGcBHV&fields=id%2C+parents&alt=json\n",
      "2024-06-14 10:12:14,903 [ThreadPoolExecutor-32_1] DEBUG: URL being requested: GET https://www.googleapis.com/drive/v3/files?q=name+contains+%27Others%27+and+mimeType+%3D+%27application%2Fvnd.google-apps.folder%27+and+trashed+%3D+false+and+%2716bQBdtKudRB30oJy7l2wdF_h-dbGcBHV%27+in+parents&fields=files%28id%2C+name%29&alt=json\n",
      "2024-06-14 10:12:15,071 [ThreadPoolExecutor-32_1] DEBUG: URL being requested: GET https://www.googleapis.com/drive/v3/files/1ieAHro1FlWgVvvLR9bbmFbM6uSagRnqn?fields=parents&alt=json\n"
     ]
    },
    {
     "name": "stdout",
     "output_type": "stream",
     "text": [
      "Moved file 10qGKoEWuIqi7IyXLXSFHITKx01t4PIU2 to folder 1nLr0eP1Ck18UDXPKTKsgcBDWpIOm8nKl\n"
     ]
    },
    {
     "name": "stderr",
     "output_type": "stream",
     "text": [
      "2024-06-14 10:12:15,217 [ThreadPoolExecutor-32_1] DEBUG: URL being requested: PATCH https://www.googleapis.com/drive/v3/files/1ieAHro1FlWgVvvLR9bbmFbM6uSagRnqn?addParents=1nLr0eP1Ck18UDXPKTKsgcBDWpIOm8nKl&removeParents=16bQBdtKudRB30oJy7l2wdF_h-dbGcBHV&fields=id%2C+parents&alt=json\n",
      "2024-06-14 10:12:15,985 [ThreadPoolExecutor-32_1] DEBUG: URL being requested: GET https://www.googleapis.com/drive/v3/files?q=name+contains+%27Others%27+and+mimeType+%3D+%27application%2Fvnd.google-apps.folder%27+and+trashed+%3D+false+and+%2716bQBdtKudRB30oJy7l2wdF_h-dbGcBHV%27+in+parents&fields=files%28id%2C+name%29&alt=json\n",
      "2024-06-14 10:12:16,171 [ThreadPoolExecutor-32_1] DEBUG: URL being requested: GET https://www.googleapis.com/drive/v3/files/1M3XAFmn3FeJ0tKYJ7eodMKKVlWhz9j_X?fields=parents&alt=json\n"
     ]
    },
    {
     "name": "stdout",
     "output_type": "stream",
     "text": [
      "Moved file 1ieAHro1FlWgVvvLR9bbmFbM6uSagRnqn to folder 1nLr0eP1Ck18UDXPKTKsgcBDWpIOm8nKl\n"
     ]
    },
    {
     "name": "stderr",
     "output_type": "stream",
     "text": [
      "2024-06-14 10:12:16,389 [ThreadPoolExecutor-32_1] DEBUG: URL being requested: PATCH https://www.googleapis.com/drive/v3/files/1M3XAFmn3FeJ0tKYJ7eodMKKVlWhz9j_X?addParents=1nLr0eP1Ck18UDXPKTKsgcBDWpIOm8nKl&removeParents=16bQBdtKudRB30oJy7l2wdF_h-dbGcBHV&fields=id%2C+parents&alt=json\n",
      "2024-06-14 10:12:17,251 [ThreadPoolExecutor-32_1] DEBUG: URL being requested: GET https://www.googleapis.com/drive/v3/files?q=name+contains+%27Others%27+and+mimeType+%3D+%27application%2Fvnd.google-apps.folder%27+and+trashed+%3D+false+and+%2716bQBdtKudRB30oJy7l2wdF_h-dbGcBHV%27+in+parents&fields=files%28id%2C+name%29&alt=json\n",
      "2024-06-14 10:12:17,404 [ThreadPoolExecutor-32_1] DEBUG: URL being requested: GET https://www.googleapis.com/drive/v3/files/1wi4AZMtCBquFzLKv8N8w4gzvrLOt_n37?fields=parents&alt=json\n"
     ]
    },
    {
     "name": "stdout",
     "output_type": "stream",
     "text": [
      "Moved file 1M3XAFmn3FeJ0tKYJ7eodMKKVlWhz9j_X to folder 1nLr0eP1Ck18UDXPKTKsgcBDWpIOm8nKl\n"
     ]
    },
    {
     "name": "stderr",
     "output_type": "stream",
     "text": [
      "2024-06-14 10:12:17,583 [ThreadPoolExecutor-32_1] DEBUG: URL being requested: PATCH https://www.googleapis.com/drive/v3/files/1wi4AZMtCBquFzLKv8N8w4gzvrLOt_n37?addParents=1nLr0eP1Ck18UDXPKTKsgcBDWpIOm8nKl&removeParents=16bQBdtKudRB30oJy7l2wdF_h-dbGcBHV&fields=id%2C+parents&alt=json\n",
      "2024-06-14 10:12:18,673 [ThreadPoolExecutor-32_1] DEBUG: URL being requested: GET https://www.googleapis.com/drive/v3/files?q=name+contains+%27Others%27+and+mimeType+%3D+%27application%2Fvnd.google-apps.folder%27+and+trashed+%3D+false+and+%2716bQBdtKudRB30oJy7l2wdF_h-dbGcBHV%27+in+parents&fields=files%28id%2C+name%29&alt=json\n",
      "2024-06-14 10:12:18,855 [ThreadPoolExecutor-32_1] DEBUG: URL being requested: GET https://www.googleapis.com/drive/v3/files/1bErtppoTaw2-MjBNZVAH6U3tNtir3xyz?fields=parents&alt=json\n"
     ]
    },
    {
     "name": "stdout",
     "output_type": "stream",
     "text": [
      "Moved file 1wi4AZMtCBquFzLKv8N8w4gzvrLOt_n37 to folder 1nLr0eP1Ck18UDXPKTKsgcBDWpIOm8nKl\n"
     ]
    },
    {
     "name": "stderr",
     "output_type": "stream",
     "text": [
      "2024-06-14 10:12:19,006 [ThreadPoolExecutor-32_1] DEBUG: URL being requested: PATCH https://www.googleapis.com/drive/v3/files/1bErtppoTaw2-MjBNZVAH6U3tNtir3xyz?addParents=1nLr0eP1Ck18UDXPKTKsgcBDWpIOm8nKl&removeParents=16bQBdtKudRB30oJy7l2wdF_h-dbGcBHV&fields=id%2C+parents&alt=json\n",
      "2024-06-14 10:12:19,853 [ThreadPoolExecutor-32_1] DEBUG: URL being requested: GET https://www.googleapis.com/drive/v3/files?q=name+contains+%27Documents%27+and+mimeType+%3D+%27application%2Fvnd.google-apps.folder%27+and+trashed+%3D+false+and+%2716bQBdtKudRB30oJy7l2wdF_h-dbGcBHV%27+in+parents&fields=files%28id%2C+name%29&alt=json\n",
      "2024-06-14 10:12:19,997 [ThreadPoolExecutor-32_1] DEBUG: URL being requested: GET https://www.googleapis.com/drive/v3/files/1DsLbC_PTfjvSglgCgx0hSxYthJLMDAPHDPEtHmFurX8?fields=parents&alt=json\n"
     ]
    },
    {
     "name": "stdout",
     "output_type": "stream",
     "text": [
      "Moved file 1bErtppoTaw2-MjBNZVAH6U3tNtir3xyz to folder 1nLr0eP1Ck18UDXPKTKsgcBDWpIOm8nKl\n"
     ]
    },
    {
     "name": "stderr",
     "output_type": "stream",
     "text": [
      "2024-06-14 10:12:20,152 [ThreadPoolExecutor-32_1] DEBUG: URL being requested: PATCH https://www.googleapis.com/drive/v3/files/1DsLbC_PTfjvSglgCgx0hSxYthJLMDAPHDPEtHmFurX8?addParents=1bTdBbZPd7kXp1z-p30m2svYutvFwpNYQ&removeParents=16bQBdtKudRB30oJy7l2wdF_h-dbGcBHV&fields=id%2C+parents&alt=json\n",
      "2024-06-14 10:12:20,876 [ThreadPoolExecutor-32_1] DEBUG: URL being requested: GET https://www.googleapis.com/drive/v3/files?q=name+contains+%27Documents%27+and+mimeType+%3D+%27application%2Fvnd.google-apps.folder%27+and+trashed+%3D+false+and+%2716bQBdtKudRB30oJy7l2wdF_h-dbGcBHV%27+in+parents&fields=files%28id%2C+name%29&alt=json\n",
      "2024-06-14 10:12:21,035 [ThreadPoolExecutor-32_1] DEBUG: URL being requested: GET https://www.googleapis.com/drive/v3/files/1--umMBjQhoGyJqqO5YXH43oKkLZ5pI8pvmt5ocCnmOE?fields=parents&alt=json\n"
     ]
    },
    {
     "name": "stdout",
     "output_type": "stream",
     "text": [
      "Moved file 1DsLbC_PTfjvSglgCgx0hSxYthJLMDAPHDPEtHmFurX8 to folder 1bTdBbZPd7kXp1z-p30m2svYutvFwpNYQ\n"
     ]
    },
    {
     "name": "stderr",
     "output_type": "stream",
     "text": [
      "2024-06-14 10:12:21,200 [ThreadPoolExecutor-32_1] DEBUG: URL being requested: PATCH https://www.googleapis.com/drive/v3/files/1--umMBjQhoGyJqqO5YXH43oKkLZ5pI8pvmt5ocCnmOE?addParents=1bTdBbZPd7kXp1z-p30m2svYutvFwpNYQ&removeParents=16bQBdtKudRB30oJy7l2wdF_h-dbGcBHV&fields=id%2C+parents&alt=json\n",
      "2024-06-14 10:12:21,883 [ThreadPoolExecutor-32_1] DEBUG: URL being requested: GET https://www.googleapis.com/drive/v3/files?q=name+contains+%27Documents%27+and+mimeType+%3D+%27application%2Fvnd.google-apps.folder%27+and+trashed+%3D+false+and+%2716bQBdtKudRB30oJy7l2wdF_h-dbGcBHV%27+in+parents&fields=files%28id%2C+name%29&alt=json\n",
      "2024-06-14 10:12:22,033 [ThreadPoolExecutor-32_1] DEBUG: URL being requested: GET https://www.googleapis.com/drive/v3/files/1gHhTuuoY19FeFGOBbEB6ltbk0rRguNo-13CRzJx2EN4?fields=parents&alt=json\n"
     ]
    },
    {
     "name": "stdout",
     "output_type": "stream",
     "text": [
      "Moved file 1--umMBjQhoGyJqqO5YXH43oKkLZ5pI8pvmt5ocCnmOE to folder 1bTdBbZPd7kXp1z-p30m2svYutvFwpNYQ\n"
     ]
    },
    {
     "name": "stderr",
     "output_type": "stream",
     "text": [
      "2024-06-14 10:12:22,202 [ThreadPoolExecutor-32_1] DEBUG: URL being requested: PATCH https://www.googleapis.com/drive/v3/files/1gHhTuuoY19FeFGOBbEB6ltbk0rRguNo-13CRzJx2EN4?addParents=1bTdBbZPd7kXp1z-p30m2svYutvFwpNYQ&removeParents=16bQBdtKudRB30oJy7l2wdF_h-dbGcBHV&fields=id%2C+parents&alt=json\n",
      "2024-06-14 10:12:22,970 [ThreadPoolExecutor-32_1] DEBUG: URL being requested: GET https://www.googleapis.com/drive/v3/files?q=name+contains+%27Documents%27+and+mimeType+%3D+%27application%2Fvnd.google-apps.folder%27+and+trashed+%3D+false+and+%2716bQBdtKudRB30oJy7l2wdF_h-dbGcBHV%27+in+parents&fields=files%28id%2C+name%29&alt=json\n",
      "2024-06-14 10:12:23,141 [ThreadPoolExecutor-32_1] DEBUG: URL being requested: GET https://www.googleapis.com/drive/v3/files/13dhcXbw4Q1GPUVQbJvohVlHGZZcGpPuG75UGVUcNdDA?fields=parents&alt=json\n"
     ]
    },
    {
     "name": "stdout",
     "output_type": "stream",
     "text": [
      "Moved file 1gHhTuuoY19FeFGOBbEB6ltbk0rRguNo-13CRzJx2EN4 to folder 1bTdBbZPd7kXp1z-p30m2svYutvFwpNYQ\n"
     ]
    },
    {
     "name": "stderr",
     "output_type": "stream",
     "text": [
      "2024-06-14 10:12:23,316 [ThreadPoolExecutor-32_1] DEBUG: URL being requested: PATCH https://www.googleapis.com/drive/v3/files/13dhcXbw4Q1GPUVQbJvohVlHGZZcGpPuG75UGVUcNdDA?addParents=1bTdBbZPd7kXp1z-p30m2svYutvFwpNYQ&removeParents=16bQBdtKudRB30oJy7l2wdF_h-dbGcBHV&fields=id%2C+parents&alt=json\n",
      "2024-06-14 10:12:24,417 [ThreadPoolExecutor-32_1] DEBUG: URL being requested: GET https://www.googleapis.com/drive/v3/files?q=name+contains+%27Documents%27+and+mimeType+%3D+%27application%2Fvnd.google-apps.folder%27+and+trashed+%3D+false+and+%2716bQBdtKudRB30oJy7l2wdF_h-dbGcBHV%27+in+parents&fields=files%28id%2C+name%29&alt=json\n"
     ]
    },
    {
     "name": "stdout",
     "output_type": "stream",
     "text": [
      "Moved file 13dhcXbw4Q1GPUVQbJvohVlHGZZcGpPuG75UGVUcNdDA to folder 1bTdBbZPd7kXp1z-p30m2svYutvFwpNYQ\n"
     ]
    },
    {
     "name": "stderr",
     "output_type": "stream",
     "text": [
      "2024-06-14 10:12:24,700 [ThreadPoolExecutor-32_1] DEBUG: URL being requested: GET https://www.googleapis.com/drive/v3/files/14j1w0g-xgUWXhSLVvc9gwAuk3eoPEpNQ6GBAmZ_pU2k?fields=parents&alt=json\n",
      "2024-06-14 10:12:24,933 [ThreadPoolExecutor-32_1] DEBUG: URL being requested: PATCH https://www.googleapis.com/drive/v3/files/14j1w0g-xgUWXhSLVvc9gwAuk3eoPEpNQ6GBAmZ_pU2k?addParents=1bTdBbZPd7kXp1z-p30m2svYutvFwpNYQ&removeParents=16bQBdtKudRB30oJy7l2wdF_h-dbGcBHV&fields=id%2C+parents&alt=json\n",
      "2024-06-14 10:12:25,616 [ThreadPoolExecutor-32_1] DEBUG: URL being requested: GET https://www.googleapis.com/drive/v3/files?q=name+contains+%27Documents%27+and+mimeType+%3D+%27application%2Fvnd.google-apps.folder%27+and+trashed+%3D+false+and+%2716bQBdtKudRB30oJy7l2wdF_h-dbGcBHV%27+in+parents&fields=files%28id%2C+name%29&alt=json\n",
      "2024-06-14 10:12:25,800 [ThreadPoolExecutor-32_1] DEBUG: URL being requested: GET https://www.googleapis.com/drive/v3/files/1rCxXq86VBVfR6jKjYt9ZSIswFfYQ9RUVk5XAnbbmeaM?fields=parents&alt=json\n"
     ]
    },
    {
     "name": "stdout",
     "output_type": "stream",
     "text": [
      "Moved file 14j1w0g-xgUWXhSLVvc9gwAuk3eoPEpNQ6GBAmZ_pU2k to folder 1bTdBbZPd7kXp1z-p30m2svYutvFwpNYQ\n"
     ]
    },
    {
     "name": "stderr",
     "output_type": "stream",
     "text": [
      "2024-06-14 10:12:25,950 [ThreadPoolExecutor-32_1] DEBUG: URL being requested: PATCH https://www.googleapis.com/drive/v3/files/1rCxXq86VBVfR6jKjYt9ZSIswFfYQ9RUVk5XAnbbmeaM?addParents=1bTdBbZPd7kXp1z-p30m2svYutvFwpNYQ&removeParents=16bQBdtKudRB30oJy7l2wdF_h-dbGcBHV&fields=id%2C+parents&alt=json\n",
      "2024-06-14 10:12:26,783 [ThreadPoolExecutor-32_1] DEBUG: URL being requested: GET https://www.googleapis.com/drive/v3/files?q=name+contains+%27Documents%27+and+mimeType+%3D+%27application%2Fvnd.google-apps.folder%27+and+trashed+%3D+false+and+%2716bQBdtKudRB30oJy7l2wdF_h-dbGcBHV%27+in+parents&fields=files%28id%2C+name%29&alt=json\n",
      "2024-06-14 10:12:26,981 [ThreadPoolExecutor-32_1] DEBUG: URL being requested: GET https://www.googleapis.com/drive/v3/files/1a2TmdYgcCxU8GYzl5tetawFS-PEKqZdHnDaVDC8pMsA?fields=parents&alt=json\n"
     ]
    },
    {
     "name": "stdout",
     "output_type": "stream",
     "text": [
      "Moved file 1rCxXq86VBVfR6jKjYt9ZSIswFfYQ9RUVk5XAnbbmeaM to folder 1bTdBbZPd7kXp1z-p30m2svYutvFwpNYQ\n"
     ]
    },
    {
     "name": "stderr",
     "output_type": "stream",
     "text": [
      "2024-06-14 10:12:27,116 [ThreadPoolExecutor-32_1] DEBUG: URL being requested: PATCH https://www.googleapis.com/drive/v3/files/1a2TmdYgcCxU8GYzl5tetawFS-PEKqZdHnDaVDC8pMsA?addParents=1bTdBbZPd7kXp1z-p30m2svYutvFwpNYQ&removeParents=16bQBdtKudRB30oJy7l2wdF_h-dbGcBHV&fields=id%2C+parents&alt=json\n",
      "2024-06-14 10:12:27,883 [ThreadPoolExecutor-32_1] DEBUG: URL being requested: GET https://www.googleapis.com/drive/v3/files?q=name+contains+%27Documents%27+and+mimeType+%3D+%27application%2Fvnd.google-apps.folder%27+and+trashed+%3D+false+and+%2716bQBdtKudRB30oJy7l2wdF_h-dbGcBHV%27+in+parents&fields=files%28id%2C+name%29&alt=json\n",
      "2024-06-14 10:12:28,016 [ThreadPoolExecutor-32_1] DEBUG: URL being requested: GET https://www.googleapis.com/drive/v3/files/10mAwiL08W1XzQzkeSmlPXvNsKPImhHXU9-N83a8U1zA?fields=parents&alt=json\n"
     ]
    },
    {
     "name": "stdout",
     "output_type": "stream",
     "text": [
      "Moved file 1a2TmdYgcCxU8GYzl5tetawFS-PEKqZdHnDaVDC8pMsA to folder 1bTdBbZPd7kXp1z-p30m2svYutvFwpNYQ\n"
     ]
    },
    {
     "name": "stderr",
     "output_type": "stream",
     "text": [
      "2024-06-14 10:12:28,172 [ThreadPoolExecutor-32_1] DEBUG: URL being requested: PATCH https://www.googleapis.com/drive/v3/files/10mAwiL08W1XzQzkeSmlPXvNsKPImhHXU9-N83a8U1zA?addParents=1bTdBbZPd7kXp1z-p30m2svYutvFwpNYQ&removeParents=16bQBdtKudRB30oJy7l2wdF_h-dbGcBHV&fields=id%2C+parents&alt=json\n",
      "2024-06-14 10:12:29,149 [ThreadPoolExecutor-32_1] DEBUG: URL being requested: GET https://www.googleapis.com/drive/v3/files?q=name+contains+%27Documents%27+and+mimeType+%3D+%27application%2Fvnd.google-apps.folder%27+and+trashed+%3D+false+and+%2716bQBdtKudRB30oJy7l2wdF_h-dbGcBHV%27+in+parents&fields=files%28id%2C+name%29&alt=json\n",
      "2024-06-14 10:12:29,316 [ThreadPoolExecutor-32_1] DEBUG: URL being requested: GET https://www.googleapis.com/drive/v3/files/1QCQ8o3AjkErPvmZBuUCd6R5elKcyr1wTqadTXZhw_xY?fields=parents&alt=json\n"
     ]
    },
    {
     "name": "stdout",
     "output_type": "stream",
     "text": [
      "Moved file 10mAwiL08W1XzQzkeSmlPXvNsKPImhHXU9-N83a8U1zA to folder 1bTdBbZPd7kXp1z-p30m2svYutvFwpNYQ\n"
     ]
    },
    {
     "name": "stderr",
     "output_type": "stream",
     "text": [
      "2024-06-14 10:12:29,583 [ThreadPoolExecutor-32_1] DEBUG: URL being requested: PATCH https://www.googleapis.com/drive/v3/files/1QCQ8o3AjkErPvmZBuUCd6R5elKcyr1wTqadTXZhw_xY?addParents=1bTdBbZPd7kXp1z-p30m2svYutvFwpNYQ&removeParents=16bQBdtKudRB30oJy7l2wdF_h-dbGcBHV&fields=id%2C+parents&alt=json\n",
      "2024-06-14 10:12:30,380 [ThreadPoolExecutor-32_1] DEBUG: Request options: {'method': 'post', 'url': '/openai/v1/chat/completions', 'files': None, 'json_data': {'messages': [{'role': 'system', 'content': 'Respond to the human as helpfully and accurately as possible. You have access to the following tools:\\n\\nGoogleDocWriteTool: Writes any amount of content to a Google Doc with professional formatting, args: {\\'input_text\\': {\\'title\\': \\'Input Text\\'}, \\'user_email\\': {\\'title\\': \\'User Email\\'}, \\'append\\': {\\'title\\': \\'Append\\', \\'default\\': False}, \\'document_name\\': {\\'title\\': \\'Document Name\\'}}\\nGoogleDriveUploadTool: Uploads a PDF to Google Drive and sets permissions for a specific user. Please set the \\'rename\\' parameter to None if the user does not want to rename the file before uploading to Google Drive. STOP AFTER ONE-TIME SUCCESSFUL EXECUTION, args: {\\'file_path\\': {\\'title\\': \\'File Path\\', \\'type\\': \\'string\\'}, \\'user_email\\': {\\'title\\': \\'User Email\\', \\'type\\': \\'string\\'}, \\'rename\\': {\\'title\\': \\'Rename\\', \\'type\\': \\'string\\'}}\\nGoogleSheetsUpdateTool: Appends three columns - name, phone number, and link to a PDF - to a preexisting logging google sheet. STOP AFTER ONE-TIME SUCCESSFUL EXECUTION, args: {\\'name\\': {\\'title\\': \\'Name\\', \\'type\\': \\'string\\'}, \\'phone_number\\': {\\'title\\': \\'Phone Number\\', \\'type\\': \\'string\\'}, \\'linkstr\\': {\\'title\\': \\'Linkstr\\', \\'type\\': \\'string\\'}}\\nGmailSendPdfTool: Sends an email with an optional PDF attachment using Gmail API., args: {\\'sender_email\\': {\\'title\\': \\'Sender Email\\', \\'type\\': \\'string\\'}, \\'recipient_email\\': {\\'title\\': \\'Recipient Email\\', \\'type\\': \\'string\\'}, \\'subject\\': {\\'title\\': \\'Subject\\', \\'type\\': \\'string\\'}, \\'body\\': {\\'title\\': \\'Body\\', \\'type\\': \\'string\\'}, \\'pdf_path\\': {\\'title\\': \\'Pdf Path\\', \\'type\\': \\'string\\'}}\\nMoveFileTool: Moves a file within Google Drive using OAuth 2.0 for secure user authentication. It searches for a file by name and moves it to the specified folder., args: {\\'file_name\\': {\\'title\\': \\'File Name\\', \\'type\\': \\'string\\'}, \\'folder_name\\': {\\'title\\': \\'Folder Name\\', \\'type\\': \\'string\\'}}\\nCreateFolderTool: Creates a new folder in Google Drive using OAuth 2.0 for secure user authentication., args: {\\'folder_name\\': {\\'title\\': \\'Folder Name\\', \\'type\\': \\'string\\'}}\\nFolder movement tool: Manages folders in Google Drive using OAuth 2.0 for secure user authentication. Provides functionality to move folders and their contents., args: {\\'folder_name\\': {\\'title\\': \\'Folder Name\\', \\'type\\': \\'string\\'}, \\'new_parent_folder_name\\': {\\'title\\': \\'New Parent Folder Name\\', \\'type\\': \\'string\\'}}\\nFileOrganizerTool: Organizes files in Google Drive by segregating them based on type and moving them to respective folders using OAuth 2.0 for secure user authentication., args: {\\'parent_folder_name\\': {\\'title\\': \\'Parent Folder Name\\', \\'type\\': \\'string\\'}}\\n\\nUse a json blob to specify a tool by providing an action key (tool name) and an action_input key (tool input).\\n\\nValid \"action\" values: \"Final Answer\" or GoogleDocWriteTool, GoogleDriveUploadTool, GoogleSheetsUpdateTool, GmailSendPdfTool, MoveFileTool, CreateFolderTool, Folder movement tool, FileOrganizerTool\\n\\nProvide only ONE action per $JSON_BLOB, as shown:\\n\\n```\\n{\\n  \"action\": $TOOL_NAME,\\n  \"action_input\": $INPUT\\n}\\n```\\n\\nFollow this format:\\n\\nQuestion: input question to answer\\nThought: consider previous and subsequent steps\\nAction:\\n```\\n$JSON_BLOB\\n```\\nObservation: action result\\n... (repeat Thought/Action/Observation N times)\\nThought: I know what to respond\\nAction:\\n```\\n{\\n  \"action\": \"Final Answer\",\\n  \"action_input\": \"Final response to human\"\\n}\\n```\\n\\nBegin! Reminder to ALWAYS respond with a valid json blob of a single action. Use tools if necessary. Respond directly if appropriate. Format is Action:```$JSON_BLOB```then Observation:.\\nThought:'}, {'role': 'user', 'content': 'please ONLY use file organization tool!!! INPUT DIRECTLY THE FOLLOWING INPUTS --> PARENT_FOLDER_NAME please deduce from the response and then pass it into tool: I\\'d be happy to help you organize the files inside the \"Lm\" folder. Before I proceed, I want to confirm that you want me to use the file organization tool. Here\\'s my confirmation: I will use the file organization tool.\\n\\nThis was your previous work (but I haven\\'t seen any of it! I only see what you return as final answer):\\nAction:\\n```\\n{\\n  \"action\": \"FileOrganizerTool\",\\n  \"action_input\": {\"parent_folder_name\": \"Lm\"}\\n}\\n```\\n\\nObservation: Files organized successfully.\\nThought:'}], 'model': 'llama3-70b-8192', 'n': 1, 'stop': ['Observation:'], 'stream': False, 'temperature': 0.7}}\n",
      "2024-06-14 10:12:30,381 [ThreadPoolExecutor-32_1] DEBUG: close.started\n",
      "2024-06-14 10:12:30,382 [ThreadPoolExecutor-32_1] DEBUG: close.complete\n",
      "2024-06-14 10:12:30,383 [ThreadPoolExecutor-32_1] DEBUG: connect_tcp.started host='api.groq.com' port=443 local_address=None timeout=None socket_options=None\n",
      "2024-06-14 10:12:30,404 [ThreadPoolExecutor-32_1] DEBUG: connect_tcp.complete return_value=<httpcore._backends.sync.SyncStream object at 0x0000025CA4B50470>\n",
      "2024-06-14 10:12:30,405 [ThreadPoolExecutor-32_1] DEBUG: start_tls.started ssl_context=<ssl.SSLContext object at 0x0000025C9BB43350> server_hostname='api.groq.com' timeout=None\n"
     ]
    },
    {
     "name": "stdout",
     "output_type": "stream",
     "text": [
      "Moved file 1QCQ8o3AjkErPvmZBuUCd6R5elKcyr1wTqadTXZhw_xY to folder 1bTdBbZPd7kXp1z-p30m2svYutvFwpNYQ\n",
      "\n",
      "Observation: \u001b[33;1m\u001b[1;3mFiles organized successfully.\u001b[0m\n",
      "Thought:"
     ]
    },
    {
     "name": "stderr",
     "output_type": "stream",
     "text": [
      "2024-06-14 10:12:30,598 [ThreadPoolExecutor-32_1] DEBUG: start_tls.complete return_value=<httpcore._backends.sync.SyncStream object at 0x0000025CA7F884A0>\n",
      "2024-06-14 10:12:30,601 [ThreadPoolExecutor-32_1] DEBUG: send_request_headers.started request=<Request [b'POST']>\n",
      "2024-06-14 10:12:30,605 [ThreadPoolExecutor-32_1] DEBUG: send_request_headers.complete\n",
      "2024-06-14 10:12:30,605 [ThreadPoolExecutor-32_1] DEBUG: send_request_body.started request=<Request [b'POST']>\n",
      "2024-06-14 10:12:30,607 [ThreadPoolExecutor-32_1] DEBUG: send_request_body.complete\n",
      "2024-06-14 10:12:30,608 [ThreadPoolExecutor-32_1] DEBUG: receive_response_headers.started request=<Request [b'POST']>\n",
      "2024-06-14 10:12:31,316 [ThreadPoolExecutor-32_1] DEBUG: receive_response_headers.complete return_value=(b'HTTP/1.1', 200, b'OK', [(b'Date', b'Fri, 14 Jun 2024 14:12:24 GMT'), (b'Content-Type', b'application/json'), (b'Transfer-Encoding', b'chunked'), (b'Connection', b'keep-alive'), (b'Cache-Control', b'private, max-age=0, no-store, no-cache, must-revalidate'), (b'vary', b'Origin'), (b'x-ratelimit-limit-requests', b'14400'), (b'x-ratelimit-limit-tokens', b'6000'), (b'x-ratelimit-remaining-requests', b'14399'), (b'x-ratelimit-remaining-tokens', b'4964'), (b'x-ratelimit-reset-requests', b'6s'), (b'x-ratelimit-reset-tokens', b'10.36s'), (b'x-request-id', b'req_01j0bhf96nfwktz4r5ckcx3kqf'), (b'via', b'1.1 google'), (b'alt-svc', b'h3=\":443\"; ma=86400'), (b'CF-Cache-Status', b'DYNAMIC'), (b'Server', b'cloudflare'), (b'CF-RAY', b'893aea40eac40f7d-EWR'), (b'Content-Encoding', b'gzip')])\n",
      "2024-06-14 10:12:31,316 [ThreadPoolExecutor-32_1] INFO: HTTP Request: POST https://api.groq.com/openai/v1/chat/completions \"HTTP/1.1 200 OK\"\n",
      "2024-06-14 10:12:31,316 [ThreadPoolExecutor-32_1] DEBUG: receive_response_body.started request=<Request [b'POST']>\n",
      "2024-06-14 10:12:31,316 [ThreadPoolExecutor-32_1] DEBUG: receive_response_body.complete\n",
      "2024-06-14 10:12:31,316 [ThreadPoolExecutor-32_1] DEBUG: response_closed.started\n",
      "2024-06-14 10:12:31,332 [ThreadPoolExecutor-32_1] DEBUG: response_closed.complete\n",
      "2024-06-14 10:12:31,333 [ThreadPoolExecutor-32_1] DEBUG: HTTP Request: POST https://api.groq.com/openai/v1/chat/completions \"200 OK\"\n",
      "2024-06-14 10:12:31,333 [ThreadPoolExecutor-32_1] DEBUG: URL being requested: GET https://www.googleapis.com/drive/v3/files?q=name+contains+%27Lm%27+and+mimeType+%3D+%27application%2Fvnd.google-apps.folder%27+and+trashed+%3D+false&fields=files%28id%2C+name%29&alt=json\n"
     ]
    },
    {
     "name": "stdout",
     "output_type": "stream",
     "text": [
      "\u001b[32;1m\u001b[1;3mAction:\n",
      "```\n",
      "{\n",
      "  \"action\": \"FileOrganizerTool\",\n",
      "  \"action_input\": {\"parent_folder_name\": \"Lm\"}\n",
      "}\n",
      "```\n",
      "\u001b[0m"
     ]
    },
    {
     "name": "stderr",
     "output_type": "stream",
     "text": [
      "2024-06-14 10:12:31,677 [ThreadPoolExecutor-32_1] DEBUG: URL being requested: GET https://www.googleapis.com/drive/v3/files?q=mimeType+%21%3D+%27application%2Fvnd.google-apps.folder%27+and+trashed+%3D+false+and+%2716bQBdtKudRB30oJy7l2wdF_h-dbGcBHV%27+in+parents&fields=files%28id%2C+name%2C+mimeType%2C+parents%29&alt=json\n"
     ]
    },
    {
     "name": "stdout",
     "output_type": "stream",
     "text": [
      "\n",
      "Observation: \u001b[33;1m\u001b[1;3mNo unorganized files found.\u001b[0m\n",
      "Thought:\u001b[32;1m\u001b[1;3m\u001b[0m\n",
      "\n",
      "\u001b[1m> Finished chain.\u001b[0m\n"
     ]
    }
   ],
   "source": [
    "from flask import Flask, request, jsonify, send_file, render_template\n",
    "import whisper\n",
    "import pyaudio\n",
    "import wave\n",
    "import webrtcvad\n",
    "import collections\n",
    "import base64\n",
    "from google.cloud import texttospeech\n",
    "import json\n",
    "import random\n",
    "import asyncio\n",
    "from concurrent.futures import ThreadPoolExecutor\n",
    "import aiofiles\n",
    "from aiogoogle import Aiogoogle\n",
    "from flask_cors import CORS\n",
    "import requests\n",
    "import json\n",
    "from langchain.agents import Tool\n",
    "my_tools = []\n",
    "\n",
    "\n",
    "\n",
    "my_tools.append(\n",
    "    \n",
    "    GoogleDocWriteTool()\n",
    ")\n",
    "\n",
    "my_tools.append(\n",
    "    \n",
    "    GoogleDriveUploadTool()\n",
    ")\n",
    "\n",
    "my_tools.append(\n",
    "    \n",
    "    GoogleSheetsUpdateTool()\n",
    ")\n",
    "credentials_path = \"C:\\\\DEV\\\\WebdevFolder\\\\client_secret_291175256673-gr5p5vf3pi2h0m46h5qnd3ila4iitfqs.apps.googleusercontent.com.json\"\n",
    "my_tools.append(\n",
    "    GmailSendPdfTool(credentials_path)\n",
    ")\n",
    "\n",
    "my_tools.append(\n",
    "    MoveFileTool(credentials_path)\n",
    ")\n",
    "\n",
    "my_tools.append(\n",
    "    CreateFolderTool(credentials_path)\n",
    ")\n",
    "\n",
    "my_tools.append(\n",
    "    FolderMovementTool(credentials_path)\n",
    ")\n",
    "\n",
    "my_tools.append(\n",
    "    FileOrganizerTool(credentials_path)\n",
    ")\n",
    "\n",
    "llm.groq_api_key = random.choice(api_keys)\n",
    "agent = initialize_agent(my_tools,llm,handle_parsing_errors=True,agent=AgentType.STRUCTURED_CHAT_ZERO_SHOT_REACT_DESCRIPTION,verbose=True,max_iterations=2)\n",
    "\n",
    "\n",
    "from flask import Flask, request, jsonify, send_file, render_template\n",
    "import whisper\n",
    "import pyaudio\n",
    "import wave\n",
    "import webrtcvad\n",
    "import collections\n",
    "import base64\n",
    "from google.cloud import texttospeech\n",
    "import json\n",
    "import random\n",
    "import asyncio\n",
    "from concurrent.futures import ThreadPoolExecutor\n",
    "from flask_cors import CORS\n",
    "import uuid\n",
    "import logging\n",
    "\n",
    "logging.basicConfig(\n",
    "    level=logging.DEBUG,\n",
    "    format='%(asctime)s [%(threadName)s] %(levelname)s: %(message)s',\n",
    "    handlers=[\n",
    "        logging.StreamHandler()\n",
    "    ]\n",
    ")\n",
    "logger = logging.getLogger(__name__)\n",
    "\n",
    "# Initialize Flask app\n",
    "app = Flask(__name__)\n",
    "CORS(app)\n",
    "\n",
    "# Global variables\n",
    "chat_history = []\n",
    "model = whisper.load_model(\"base\")\n",
    "FORMAT = pyaudio.paInt16\n",
    "CHANNELS = 1\n",
    "RATE = 16000\n",
    "CHUNK = 1024\n",
    "RECORD_SECONDS = 1000000\n",
    "vad = webrtcvad.Vad(3)\n",
    "audio = pyaudio.PyAudio()\n",
    "credentials = {\"name\": \"\", \"email\": \"\", \"recemail\": \"\", \"phone\": \"\"}\n",
    "from flask_socketio import SocketIO, emit\n",
    "\n",
    "#tts_service_acct_path = 'C:\\\\Users\\\\THEBATMAN\\\\Documents\\\\GitHub\\\\RealEstateAI\\\\filemanager-425819-341d30387005.json'\n",
    "tts_service_acct_path = \"C:\\\\DEV\\\\WebdevFolder\\\\realestateai-doc-mgr-3a0e2f411c8d.json\"\n",
    "tts_client = texttospeech.TextToSpeechClient.from_service_account_file(tts_service_acct_path)\n",
    "\n",
    "executor = ThreadPoolExecutor(max_workers=5)\n",
    "\n",
    "socketio = SocketIO(app, cors_allowed_origins=\"*\")\n",
    "\n",
    "is_recording = False\n",
    "\n",
    "@app.route('/start_recording', methods=['POST'])\n",
    "def start_recording():\n",
    "    global is_recording\n",
    "    is_recording = True\n",
    "    record_audio()\n",
    "    return jsonify({\"status\": \"recording started\"})\n",
    "\n",
    "@app.route('/stop_recording', methods=['POST'])\n",
    "def stop_recording():\n",
    "    global is_recording\n",
    "    is_recording = False\n",
    "    return jsonify({\"status\": \"recording stopped\"})\n",
    "\n",
    "def record_audio():\n",
    "    global is_recording\n",
    "    logger.debug('Starting audio recording...')\n",
    "    try:\n",
    "        stream = audio.open(format=FORMAT, channels=CHANNELS,\n",
    "                            rate=RATE, input=True,\n",
    "                            frames_per_buffer=CHUNK)\n",
    "        frames = []\n",
    "        ring_buffer = collections.deque(maxlen=100)\n",
    "        triggered = False\n",
    "        voiced_frames = []\n",
    "        silence_threshold = 10\n",
    "        silence_chunks = 0\n",
    "\n",
    "        while is_recording:\n",
    "            data = stream.read(CHUNK)\n",
    "            frames.append(data)\n",
    "\n",
    "            num_subframes = int(len(data) / 320)\n",
    "            for i in range(num_subframes):\n",
    "                subframe = data[i*320:(i+1)*320]\n",
    "                is_speech = vad.is_speech(subframe, RATE)\n",
    "                ring_buffer.append((subframe, is_speech))\n",
    "\n",
    "            num_voiced = len([f for f, speech in ring_buffer if speech])\n",
    "\n",
    "            if not triggered:\n",
    "                if num_voiced > 0.6 * ring_buffer.maxlen:\n",
    "                    triggered = True\n",
    "                    voiced_frames.extend([f for f, s in ring_buffer])\n",
    "                    ring_buffer.clear()\n",
    "            else:\n",
    "                voiced_frames.append(data)\n",
    "                if num_voiced < 0.2 * ring_buffer.maxlen:\n",
    "                    silence_chunks += 1\n",
    "                    if silence_chunks > silence_threshold:\n",
    "                        triggered = False\n",
    "                        break\n",
    "                else:\n",
    "                    silence_chunks = 0\n",
    "\n",
    "        stream.stop_stream()\n",
    "        stream.close()\n",
    "\n",
    "        with wave.open(\"C:\\\\DEV\\\\webdevfolder\\\\output.wav\", 'wb') as wf:\n",
    "            wf.setnchannels(CHANNELS)\n",
    "            wf.setsampwidth(audio.get_sample_size(FORMAT))\n",
    "            wf.setframerate(RATE)\n",
    "            wf.writeframes(b''.join(voiced_frames))\n",
    "        logger.debug('Audio recording completed and file saved.')\n",
    "    except Exception as e:\n",
    "        logger.error(f\"An error occurred while recording audio: {e}\")\n",
    "\n",
    "def transcribe_audio():\n",
    "    result = model.transcribe(\"C:\\\\DEV\\\\webdevfolder\\\\output.wav\")\n",
    "    transcription = result['text']\n",
    "    \n",
    "    logger.debug(f'Audio transcription completed: {transcription}')\n",
    "    return transcription\n",
    "\n",
    "async def ai_response(transcription: str):\n",
    "    global chat_history\n",
    "    logger.debug(f'Generating AI response for transcription: {transcription}')\n",
    "    chat_completion = client.chat.completions.create(\n",
    "        messages=[\n",
    "            {\n",
    "                \"role\": \"system\",\n",
    "                \"content\": \"\"\"You are a nice, great assistant. User will tell you things. You just respond. \n",
    "                YOU SHALL NOT INDICATE ANY TOOL USE UNTIL YOU KNOW YOU HAVE EVERYTHING YOU NEED.\n",
    "                DO NOT ASSUME USER WANTS TO WRITE TO A DOCUMENT OR DO ANYTHING ELSE UNLESS YOU ARE 100% SURE!!!!!UNDERSTAND??????!!!!!! OR ELSE I WILL BECOME ANGRY\n",
    "                If what the user says is one of these  you must explicitly say AT THE END OF YOUR RESPONSE in this very format depending on which tool - \"I will use the [google doc write tool, gmail tool, sheets tool, move file to a folder tool, create folder tool, the move folder tool, file organization tool, OR drive upload tool]\". \n",
    "                so that user can confirm if you got it correctly. \n",
    "                When writing to a file, just start ONLY ONLY ONLY THE BEGINNING OF THE ENTIRE CONTENT with '@' symbol when generating file content. There should only be ONNNEEEEE '@' symbol in response and that is at the beginning!!!!!\n",
    "                WHEN WRITING TO FILE--> If user indicates that they want to add on to existing content, \\\n",
    "                you must say 'yes append' before the aforementioned '@' symbol. OTHERWISE YOU SAY 'no append' before the aforementioned '@' symbol\n",
    "                \n",
    "                IMPORTANT: IF YOU REMEMBER YOU HAVE USED A TOOL ALREADY (REFER TO CHAT HISTORY), AND YOU ARE IN THE PROCESS OF USING IT AGAIN, \\\n",
    "                YOU MUST ASK USER IF THEY ARE SURE TO USE THE TOOL AGAIN OR NOT.\n",
    "\n",
    "                If you have to use a google related tool, you MUST prompt the user or remind user to enter credentials in the doc manager extension. \n",
    "                If user tells you to do something that is not one of these, you kindly say that you don't have access to that functionality.\n",
    "                \"\"\"\n",
    "            },\n",
    "            {\n",
    "                \"role\": \"user\",\n",
    "                \"content\": transcription + \"Here is the chat history for context (NEVER TALK ABOUT CHAT HISTORY IT IS ONLY FOR YOU NEVER TALK ABOUT IT IN YOUR RESPONSES!!!!): [\" + str(chat_history) + \"]\"\n",
    "            }\n",
    "        ],\n",
    "        model=\"llama3-70b-8192\",\n",
    "    )\n",
    "    response = chat_completion.choices[0].message.content\n",
    "    logger.debug(f'AI response generated: {response}')\n",
    "    chat_history.append(\"USER: \" + transcription + \"\\nTHE AI MODEL: \" + response + \"\\n\")\n",
    "    \n",
    "    \n",
    "    asyncio.create_task(handle_response_with_agents(response))\n",
    "   \n",
    "    await synthesize_speech(response)\n",
    "\n",
    "    return response\n",
    "\n",
    "async def handle_response_with_agents(response):\n",
    "    logger.debug(f'Handling response with agents: {response}')\n",
    "    await asyncio.get_event_loop().run_in_executor(executor, handle_agents, response)\n",
    "\n",
    "def handle_agents(response):\n",
    "    logger.debug(f'Processing response with agents: {response}')\n",
    "    name = credentials['name']\n",
    "    email = credentials['email']\n",
    "    recemail = credentials[\"recemail\"]\n",
    "    phone = credentials['phone']\n",
    "    print(email, recemail, name, phone)\n",
    "\n",
    "    title_of_file = ''\n",
    "    with open('most_recent_file_created.txt') as mostrec:\n",
    "        title_of_file = mostrec.read()\n",
    "    thepath = f\"./documents/{title_of_file}.pdf\"\n",
    "\n",
    "    FILE_ID = ''\n",
    "    with open('document_ids.txt','r') as f:\n",
    "        FILE_ID = f.read()\n",
    "\n",
    "    FOLDER_ID = ''\n",
    "    with open('folder_ids.txt','r') as f:\n",
    "        FOLDER_ID = f.read()\n",
    "\n",
    "    if 'I will use' in response:\n",
    "        if 'google doc' in response.lower() and 'write' in response.lower():\n",
    "            idx = response.find('@')\n",
    "            modified_response = response[idx + 1:].strip()\n",
    "            print('MODIFIED RESPONSE = ', modified_response)\n",
    "            \n",
    "            if('no append') in response.lower():\n",
    "                append = False\n",
    "            else:\n",
    "                append = True\n",
    "            llm.groq_api_key = random.choice(api_keys)\n",
    "            print('USER EMAIL HELLLOOOOOO!!!!!!!!!!',credentials['email'])\n",
    "            agent.invoke({\"input\": f\"use ONLY google doc write tool!!! INPUT EVERYTHING CORRECTLY EVEN IF ITS LONG!!!!!!!! INPUT ONLY WHAT YOURE GIVEN ! NO CREATIVITIES!!!! append-->true or false lowercase only!!! NO DICTIONARIES, JUST EVERYTHING PASSED AS IT ISSS!!!!!--> INPUT_TEXT: {modified_response} | APPEND: {append}  USER_EMAIL: {credentials['email']},\"})\n",
    "        elif 'sheet' in response:\n",
    "            agent.invoke({\"input\": f\"please ONLY ONLY use google sheets update tool, input ONLY ONLY these into the tool PROPERLY! --> {credentials['name']}, {credentials['phone']}\"})\n",
    "        elif 'upload' in response:\n",
    "            agent.invoke({\"input\": f\"please use google drive upload tool, INPUTS --> FILE_PATH: {thepath} USER_EMAIL: {credentials['email']}\"})\n",
    "        elif 'mail' in response:\n",
    "            if 'pdf' in response or 'PDF' in response or 'file' in response:\n",
    "                agent.invoke({\"input\": f\"please use ONLY ONLY gmail send pdf tool. INPUT DIRECTLY THE FOLLOWING INPUTS --> SENDER EMAIL: {credentials['email']}, RECIPIENT EMAIL: {credentials['recemail']}, SUBJECT: you generate it yourself, BODY: you generate it yourself and it has to be an informative body, PDF PATH: {thepath}\"})\n",
    "            else:\n",
    "                agent.invoke({\"input\": f\"please use ONLY ONLY gmail send pdf tool. INPUT DIRECTLY THE FOLLOWING INPUTS --> SENDER EMAIL: {credentials['email']}, RECIPIENT EMAIL: {credentials['recemail']}, SUBJECT: you generate it yourself, BODY: you generate it yourself and it has to be an informative body, PDF PATH: nothing\"})\n",
    "        elif 'create' in response and 'folder' in response:\n",
    "            agent.invoke({\"input\": f\"please ONLY use create folder tool!!! INPUT DIRECTLY THE FOLLOWING INPUTS --> FOLDER NAME: the folder name as specified in response --> {response}\"})\n",
    "        elif 'move' in response and 'file' in response:\n",
    "            agent.invoke({\"input\": f\"please ONLY use move file tool!!! INPUT DIRECTLY THE FOLLOWING INPUTS --> FILE_NAME please deduce from the response and then pass it into tool: {response} ; FOLDER_NAME deduce from the response and then pass it into tool - PASS IN 'root' if user says move into google drive or my drive: {response}\"})\n",
    "        elif 'folder' in response and 'move' in response:\n",
    "            agent.invoke({\"input\": f\"please ONLY use move folder tool!!! INPUT DIRECTLY THE FOLLOWING INPUTS --> FOLDER_NAME please deduce from the response and then pass it into tool: {response} ; NEW_PARENT_FOLDER_NAME also deduce from response - PASS IN 'root' if user says move into google drive or my drive: {response}\"})\n",
    "        elif 'file' in response and 'organization' in response:\n",
    "            agent.invoke({\"input\": f\"please ONLY use file organization tool!!! INPUT DIRECTLY THE FOLLOWING INPUTS --> PARENT_FOLDER_NAME please deduce from the response and then pass it into tool: {response}\"})\n",
    "\n",
    "\n",
    "async def synthesize_speech(text):\n",
    "    logger.debug(f'Starting speech synthesis for text: {text}')\n",
    "    synthesis_input = texttospeech.SynthesisInput(text=text)\n",
    "    voice = texttospeech.VoiceSelectionParams(\n",
    "        language_code=\"en-US\",\n",
    "        name=\"en-US-Casual-K\"\n",
    "    )\n",
    "    audio_config = texttospeech.AudioConfig(\n",
    "        audio_encoding=texttospeech.AudioEncoding.MP3\n",
    "    )\n",
    "    response = await asyncio.get_event_loop().run_in_executor(\n",
    "        executor, lambda: tts_client.synthesize_speech(\n",
    "            input=synthesis_input, voice=voice, audio_config=audio_config\n",
    "        )\n",
    "    )\n",
    "    async with aiofiles.open(\"C:\\\\DEV\\\\webdevfolder\\\\synthesis.mp3\", 'wb') as out:\n",
    "        await out.write(response.audio_content)\n",
    "    print('Audio content written to file \"synthesis.mp3\"')\n",
    "    logger.debug('Speech synthesis completed and file saved.')\n",
    "\n",
    "\n",
    "@app.route('/set_credentials', methods=['POST'])\n",
    "def set_credentials():\n",
    "    global credentials\n",
    "    data = request.get_json()\n",
    "    if not data:\n",
    "        return jsonify({\"status\": \"failed\", \"message\": \"No data received\"}), 400\n",
    "    credentials['name'] = data.get('name')\n",
    "    credentials['email'] = data.get('email')\n",
    "    credentials['recemail'] = data.get('recemail')\n",
    "    credentials['phone'] = data.get('phone')\n",
    "    logger.info(\"THE CREDENTIALS ****** -------------> \", credentials)\n",
    "    return jsonify({\"status\": \"success\"})\n",
    "\n",
    "\n",
    "@app.route('/')\n",
    "def index():\n",
    "    return render_template('index2.html')\n",
    "\n",
    "@app.route('/voice_assistant')\n",
    "def voice_assistant():\n",
    "    return render_template('index2.html')\n",
    "\n",
    "\n",
    "@app.route('/authenticate', methods=['POST'])\n",
    "def authenticate():\n",
    "    auth_header = request.headers.get('Authorization')\n",
    "    token = auth_header.split(' ')[1] if auth_header else None\n",
    "\n",
    "    if not token:\n",
    "        return jsonify({'error': 'Missing token'}), 400\n",
    "\n",
    "    response = requests.get(\n",
    "        'https://www.googleapis.com/oauth2/v3/userinfo',\n",
    "        headers={'Authorization': f'Bearer {token}'}\n",
    "    )\n",
    "\n",
    "    if response.status_code != 200:\n",
    "        return jsonify({'error': 'Failed to fetch user info'}), response.status_code\n",
    "\n",
    "    user_info = response.json()\n",
    "    return jsonify(user_info), 200\n",
    "\n",
    "@app.route('/talk', methods=['POST'])\n",
    "async def talk():\n",
    "    loop = asyncio.get_event_loop()\n",
    "    \n",
    "    # Ensure recording is stopped before proceeding\n",
    "    global is_recording\n",
    "    if is_recording:\n",
    "        return jsonify({\"error\": \"Recording is still in progress\"}), 400\n",
    "    \n",
    "    logger.debug('Starting audio transcription...')\n",
    "    transcription = await loop.run_in_executor(executor, transcribe_audio)\n",
    "    logger.debug(f'Audio transcription completed: {transcription}')\n",
    "    \n",
    "    logger.debug('Generating AI response...')\n",
    "    ai_resp = await ai_response(transcription)\n",
    "    logger.debug(f'AI response generated: {ai_resp}')\n",
    "    \n",
    "    return jsonify({'response': ai_resp})\n",
    "\n",
    "\n",
    "@app.route('/get_audio')\n",
    "def get_audio():\n",
    "    return send_file(\"C:\\\\DEV\\\\webdevfolder\\\\synthesis.mp3\", mimetype=\"audio/mp3\")\n",
    "\n",
    "if __name__ == '__main__':\n",
    "    app.run()"
   ]
  }
 ],
 "metadata": {
  "kernelspec": {
   "display_name": ".venv",
   "language": "python",
   "name": "python3"
  },
  "language_info": {
   "codemirror_mode": {
    "name": "ipython",
    "version": 3
   },
   "file_extension": ".py",
   "mimetype": "text/x-python",
   "name": "python",
   "nbconvert_exporter": "python",
   "pygments_lexer": "ipython3",
   "version": "3.12.0"
  }
 },
 "nbformat": 4,
 "nbformat_minor": 2
}
