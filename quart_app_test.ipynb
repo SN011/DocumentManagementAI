{
 "cells": [
  {
   "cell_type": "code",
   "execution_count": null,
   "metadata": {},
   "outputs": [
    {
     "name": "stderr",
     "output_type": "stream",
     "text": [
      "INFO:     Started server process [24096]\n",
      "INFO:     Waiting for application startup.\n",
      "INFO:     Application startup complete.\n",
      "INFO:     Uvicorn running on http://127.0.0.1:5000 (Press CTRL+C to quit)\n"
     ]
    },
    {
     "name": "stdout",
     "output_type": "stream",
     "text": [
      "INFO:     127.0.0.1:62883 - \"POST /text_input HTTP/1.1\" 400 Bad Request\n",
      "INFO:     127.0.0.1:62886 - \"GET /socket.io/?EIO=4&transport=polling&t=P4f6_tO HTTP/1.1\" 404 Not Found\n",
      "INFO:     127.0.0.1:62886 - \"GET /socket.io/?EIO=4&transport=polling&t=P4f705f HTTP/1.1\" 404 Not Found\n"
     ]
    },
    {
     "name": "stderr",
     "output_type": "stream",
     "text": [
      "2024-08-06 15:13:08,719 [MainThread] DEBUG: Received text: h\n",
      "2024-08-06 15:13:08,721 [MainThread] DEBUG: AI response generated: AI response to: h\n"
     ]
    },
    {
     "name": "stdout",
     "output_type": "stream",
     "text": [
      "INFO:     127.0.0.1:62886 - \"POST /text_input HTTP/1.1\" 200 OK\n",
      "INFO:     127.0.0.1:62886 - \"GET /socket.io/?EIO=4&transport=polling&t=P4f70g6 HTTP/1.1\" 404 Not Found\n",
      "INFO:     127.0.0.1:62886 - \"GET /socket.io/?EIO=4&transport=polling&t=P4f71UX HTTP/1.1\" 404 Not Found\n",
      "INFO:     127.0.0.1:62887 - \"GET /socket.io/?EIO=4&transport=polling&t=P4f72ij HTTP/1.1\" 404 Not Found\n",
      "INFO:     127.0.0.1:62890 - \"GET /socket.io/?EIO=4&transport=polling&t=P4f74AP HTTP/1.1\" 404 Not Found\n",
      "INFO:     127.0.0.1:62891 - \"GET /socket.io/?EIO=4&transport=polling&t=P4f75TY HTTP/1.1\" 404 Not Found\n",
      "INFO:     127.0.0.1:62892 - \"POST /text_input HTTP/1.1\" 400 Bad Request\n",
      "INFO:     127.0.0.1:62893 - \"POST /text_input HTTP/1.1\" 400 Bad Request\n",
      "INFO:     127.0.0.1:62895 - \"POST /text_input HTTP/1.1\" 400 Bad Request\n",
      "INFO:     127.0.0.1:62896 - \"POST /text_input HTTP/1.1\" 400 Bad Request\n",
      "INFO:     127.0.0.1:62897 - \"POST /text_input HTTP/1.1\" 400 Bad Request\n",
      "INFO:     127.0.0.1:62898 - \"POST /text_input HTTP/1.1\" 400 Bad Request\n",
      "INFO:     127.0.0.1:62901 - \"GET /socket.io/?EIO=4&transport=polling&t=P4f7W6F HTTP/1.1\" 404 Not Found\n",
      "INFO:     127.0.0.1:62901 - \"GET /socket.io/?EIO=4&transport=polling&t=P4f7WNv HTTP/1.1\" 404 Not Found\n",
      "INFO:     127.0.0.1:62901 - \"GET /socket.io/?EIO=4&transport=polling&t=P4f7Wny HTTP/1.1\" 404 Not Found\n"
     ]
    },
    {
     "name": "stderr",
     "output_type": "stream",
     "text": [
      "2024-08-06 15:15:21,286 [MainThread] DEBUG: Received text: f\n",
      "2024-08-06 15:15:21,287 [MainThread] DEBUG: AI response generated: AI response to: f\n"
     ]
    },
    {
     "name": "stdout",
     "output_type": "stream",
     "text": [
      "INFO:     127.0.0.1:62901 - \"POST /text_input HTTP/1.1\" 200 OK\n",
      "INFO:     127.0.0.1:62904 - \"POST /text_input HTTP/1.1\" 400 Bad Request\n",
      "INFO:     127.0.0.1:62901 - \"GET /socket.io/?EIO=4&transport=polling&t=P4f7XZ5 HTTP/1.1\" 404 Not Found\n",
      "INFO:     127.0.0.1:62902 - \"GET /socket.io/?EIO=4&transport=polling&t=P4f7YxM HTTP/1.1\" 404 Not Found\n",
      "INFO:     127.0.0.1:62908 - \"GET /socket.io/?EIO=4&transport=polling&t=P4f7aP4 HTTP/1.1\" 404 Not Found\n",
      "INFO:     127.0.0.1:62909 - \"GET /socket.io/?EIO=4&transport=polling&t=P4f7bsy HTTP/1.1\" 404 Not Found\n",
      "INFO:     127.0.0.1:62912 - \"GET /socket.io/?EIO=4&transport=polling&t=P4f7dKY HTTP/1.1\" 404 Not Found\n",
      "INFO:     127.0.0.1:62913 - \"GET /socket.io/?EIO=4&transport=polling&t=P4f7eoE HTTP/1.1\" 404 Not Found\n",
      "INFO:     127.0.0.1:62920 - \"GET /socket.io/?EIO=4&transport=polling&t=P4f7gG3 HTTP/1.1\" 404 Not Found\n",
      "INFO:     127.0.0.1:62921 - \"GET /socket.io/?EIO=4&transport=polling&t=P4f7hjw HTTP/1.1\" 404 Not Found\n",
      "INFO:     127.0.0.1:62934 - \"GET /socket.io/?EIO=4&transport=polling&t=P4f7jBX HTTP/1.1\" 404 Not Found\n",
      "INFO:     127.0.0.1:62935 - \"GET /socket.io/?EIO=4&transport=polling&t=P4f7kfM HTTP/1.1\" 404 Not Found\n",
      "INFO:     127.0.0.1:62958 - \"GET /socket.io/?EIO=4&transport=polling&t=P4f7m75 HTTP/1.1\" 404 Not Found\n",
      "INFO:     127.0.0.1:62959 - \"GET /socket.io/?EIO=4&transport=polling&t=P4f7nan HTTP/1.1\" 404 Not Found\n",
      "INFO:     127.0.0.1:62973 - \"GET /socket.io/?EIO=4&transport=polling&t=P4f7p2e HTTP/1.1\" 404 Not Found\n",
      "INFO:     127.0.0.1:62974 - \"GET /socket.io/?EIO=4&transport=polling&t=P4f7qWK HTTP/1.1\" 404 Not Found\n",
      "INFO:     127.0.0.1:62977 - \"GET /socket.io/?EIO=4&transport=polling&t=P4f7rz_ HTTP/1.1\" 404 Not Found\n",
      "INFO:     127.0.0.1:62978 - \"GET /socket.io/?EIO=4&transport=polling&t=P4f7tRy HTTP/1.1\" 404 Not Found\n",
      "INFO:     127.0.0.1:62981 - \"GET /socket.io/?EIO=4&transport=polling&t=P4f7uvc HTTP/1.1\" 404 Not Found\n",
      "INFO:     127.0.0.1:62982 - \"GET /socket.io/?EIO=4&transport=polling&t=P4f7wNO HTTP/1.1\" 404 Not Found\n",
      "INFO:     127.0.0.1:62990 - \"GET /socket.io/?EIO=4&transport=polling&t=P4f7xrC HTTP/1.1\" 404 Not Found\n",
      "INFO:     127.0.0.1:62991 - \"GET /socket.io/?EIO=4&transport=polling&t=P4f7zIq HTTP/1.1\" 404 Not Found\n",
      "INFO:     127.0.0.1:62994 - \"GET /socket.io/?EIO=4&transport=polling&t=P4f7-mX HTTP/1.1\" 404 Not Found\n",
      "INFO:     127.0.0.1:62995 - \"GET /socket.io/?EIO=4&transport=polling&t=P4f80EF HTTP/1.1\" 404 Not Found\n",
      "INFO:     127.0.0.1:62998 - \"GET /socket.io/?EIO=4&transport=polling&t=P4f81iD HTTP/1.1\" 404 Not Found\n",
      "INFO:     127.0.0.1:62999 - \"GET /socket.io/?EIO=4&transport=polling&t=P4f839p HTTP/1.1\" 404 Not Found\n",
      "INFO:     127.0.0.1:63005 - \"GET /socket.io/?EIO=4&transport=polling&t=P4f84dl HTTP/1.1\" 404 Not Found\n",
      "INFO:     127.0.0.1:63007 - \"GET /socket.io/?EIO=4&transport=polling&t=P4f865S HTTP/1.1\" 404 Not Found\n",
      "INFO:     127.0.0.1:63010 - \"GET /socket.io/?EIO=4&transport=polling&t=P4f87Z6 HTTP/1.1\" 404 Not Found\n",
      "INFO:     127.0.0.1:63011 - \"GET /socket.io/?EIO=4&transport=polling&t=P4f890m HTTP/1.1\" 404 Not Found\n",
      "INFO:     127.0.0.1:63014 - \"GET /socket.io/?EIO=4&transport=polling&t=P4f8AUV HTTP/1.1\" 404 Not Found\n",
      "INFO:     127.0.0.1:63015 - \"GET /socket.io/?EIO=4&transport=polling&t=P4f8ByT HTTP/1.1\" 404 Not Found\n",
      "INFO:     127.0.0.1:63018 - \"GET /socket.io/?EIO=4&transport=polling&t=P4f8DQ1 HTTP/1.1\" 404 Not Found\n",
      "INFO:     127.0.0.1:63019 - \"GET /socket.io/?EIO=4&transport=polling&t=P4f8Etn HTTP/1.1\" 404 Not Found\n",
      "INFO:     127.0.0.1:63022 - \"GET /socket.io/?EIO=4&transport=polling&t=P4f8GLd HTTP/1.1\" 404 Not Found\n",
      "INFO:     127.0.0.1:63023 - \"GET /socket.io/?EIO=4&transport=polling&t=P4f8HpL HTTP/1.1\" 404 Not Found\n",
      "INFO:     127.0.0.1:63026 - \"GET /socket.io/?EIO=4&transport=polling&t=P4f8JHD HTTP/1.1\" 404 Not Found\n",
      "INFO:     127.0.0.1:63027 - \"GET /socket.io/?EIO=4&transport=polling&t=P4f8Kkx HTTP/1.1\" 404 Not Found\n"
     ]
    }
   ],
   "source": [
    "from quart import Quart, request, jsonify\n",
    "import logging\n",
    "import asyncio\n",
    "import uvicorn\n",
    "\n",
    "# Initialize logging\n",
    "logging.basicConfig(\n",
    "    level=logging.DEBUG,\n",
    "    format='%(asctime)s [%(threadName)s] %(levelname)s: %(message)s',\n",
    "    handlers=[logging.StreamHandler()]\n",
    ")\n",
    "logger = logging.getLogger(__name__)\n",
    "\n",
    "# Initialize Quart app\n",
    "app = Quart(__name__)\n",
    "\n",
    "@app.route('/text_input', methods=['POST'])\n",
    "async def text_input():\n",
    "    data = await request.get_json()\n",
    "    text = data.get('text', '')\n",
    "\n",
    "    if not text:\n",
    "        return jsonify({\"error\": \"No text provided\"}), 400\n",
    "\n",
    "    logger.debug(f'Received text: {text}')\n",
    "    ai_resp = f\"AI response to: {text}\"\n",
    "    logger.debug(f'AI response generated: {ai_resp}')\n",
    "    \n",
    "    return jsonify({'response': ai_resp})\n",
    "\n",
    "if __name__ == '__main__':\n",
    "    config = uvicorn.Config(app, host=\"127.0.0.1\", port=5000, log_level=\"info\")\n",
    "    server = uvicorn.Server(config)\n",
    "\n",
    "    loop = asyncio.get_event_loop()\n",
    "    if loop.is_running():\n",
    "        loop.create_task(server.serve())\n",
    "    else:\n",
    "        loop.run_until_complete(server.serve())\n"
   ]
  }
 ],
 "metadata": {
  "kernelspec": {
   "display_name": ".venv",
   "language": "python",
   "name": "python3"
  },
  "language_info": {
   "codemirror_mode": {
    "name": "ipython",
    "version": 3
   },
   "file_extension": ".py",
   "mimetype": "text/x-python",
   "name": "python",
   "nbconvert_exporter": "python",
   "pygments_lexer": "ipython3",
   "version": "3.12.0"
  }
 },
 "nbformat": 4,
 "nbformat_minor": 2
}
