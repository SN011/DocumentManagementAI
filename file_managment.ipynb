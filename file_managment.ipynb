{
 "cells": [
  {
   "cell_type": "code",
   "execution_count": 15,
   "metadata": {},
   "outputs": [],
   "source": [
    "import os\n",
    "import json\n",
    "import subprocess\n",
    "from google.oauth2 import service_account\n",
    "from googleapiclient.discovery import build\n",
    "from googleapiclient.errors import HttpError\n",
    "from groq import Groq\n",
    "\n",
    "# Set up the Drive v3 API\n",
    "SCOPES = ['https://www.googleapis.com/auth/drive']\n",
    "SERVICE_ACCOUNT_FILE = 'C:\\\\Users\\\\THEBATMAN\\\\Documents\\\\GitHub\\\\RealEstateAI\\\\filemanager-425819-341d30387005.json'\n",
    "\n",
    "credentials = service_account.Credentials.from_service_account_file(\n",
    "    SERVICE_ACCOUNT_FILE, scopes=SCOPES)\n",
    "service = build('drive', 'v3', credentials=credentials)"
   ]
  },
  {
   "cell_type": "code",
   "execution_count": 16,
   "metadata": {},
   "outputs": [],
   "source": [
    "# Set up the Groq client\n",
    "from groq import Groq\n",
    "\n",
    "client = Groq(\n",
    "    api_key='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'\n",
    ")"
   ]
  },
  {
   "cell_type": "code",
   "execution_count": 17,
   "metadata": {},
   "outputs": [],
   "source": [
    "# Function to list files in Google Drive\n",
    "def list_files(service):\n",
    "    try:\n",
    "        results = service.files().list(pageSize=10, fields=\"files(id, name)\").execute()\n",
    "        items = results.get('files', [])\n",
    "        if not items:\n",
    "            print('No files found.')\n",
    "            return \"No files found.\"\n",
    "        else:\n",
    "            files_list = [{'name': item['name'], 'id': item['id']} for item in items]\n",
    "            print('Files:')\n",
    "            for item in items:\n",
    "                print(f\"{item['name']} ({item['id']})\")\n",
    "            return files_list\n",
    "    except HttpError as error:\n",
    "        print(f'An error occurred: {error}')\n",
    "        return f'An error occurred: {error}'\n",
    "\n",
    "# Define the functions as strings for dynamic code generation\n",
    "functions_code = \"\"\"\n",
    "def move_file_to_folder(service, file_id, folder_id):\n",
    "    try:\n",
    "        # Retrieve the existing parents to remove\n",
    "        file = service.files().get(fileId=file_id, fields='parents').execute()\n",
    "        previous_parents = \",\".join(file.get('parents'))\n",
    "        \n",
    "        # Move the file to the new folder\n",
    "        file = service.files().update(\n",
    "            fileId=file_id,\n",
    "            addParents=folder_id,\n",
    "            removeParents=previous_parents,\n",
    "            fields='id, parents'\n",
    "        ).execute()\n",
    "        print(f'Moved file {file_id} to folder {folder_id}')\n",
    "    except HttpError as error:\n",
    "        print(f'An error occurred: {error}')\n",
    "\n",
    "def create_folder(service, folder_name):\n",
    "    file_metadata = {\n",
    "        'name': folder_name,\n",
    "        'mimeType': 'application/vnd.google-apps.folder'\n",
    "    }\n",
    "    try:\n",
    "        file = service.files().create(body=file_metadata, fields='id').execute()\n",
    "        print(f'Folder \"{folder_name}\" created with ID: {file.get(\"id\")}')\n",
    "        return file.get('id')\n",
    "    except HttpError as error:\n",
    "        print(f'An error occurred: {error}')\n",
    "\"\"\""
   ]
  },
  {
   "cell_type": "code",
   "execution_count": 18,
   "metadata": {},
   "outputs": [
    {
     "name": "stdout",
     "output_type": "stream",
     "text": [
      "Files:\n",
      "BigG's all day allways (12IDP_yDqIawD1vhFT4z09c1vnDIk6KTtykvjNfNrmMQ)\n",
      "yurr (1pRLZG6uyi6MVx3y6yi9GwBQPuRQXkxzw)\n",
      "Photonicscopytohypnos (1vZ7nMLhzxqO3DJiSaS_kS_s6_pDW6MGC)\n",
      "asdsadsadfs.gif (1qC5zf5971FTuYGYxw8gi8daL_vAHK9wN)\n",
      "9781788168533_preview.pdf (1ZdjIaKPwwb7HvG4bGUeyfvA4cw7spuV4)\n",
      "jaijaisriraman.png (1AmCWZpKI1VpFiK-Dq8cgl2coASuHGGD2)\n",
      "22-23_GLOBALConradChallenge_StudentGuide.pdf (1iyIG_nAiSdGi6N3vdrL3zwZXWvAwNaFT)\n",
      "IMG_5823.JPG (1b185fXCpBlZnBVxMBxRp07BR7pwLhO5h)\n",
      "HypnosAI-About.html (1XcBXG2qe2aCn79JDrwNLvZeD0QRPYUBW)\n",
      "Hypnos logo.webp (1ygmifiNmI9dFJYkpPES694h00f1a1ymU)\n"
     ]
    }
   ],
   "source": [
    "# List files in Google Drive\n",
    "list_of_files = list_files(service)"
   ]
  },
  {
   "cell_type": "code",
   "execution_count": 1,
   "metadata": {},
   "outputs": [
    {
     "ename": "NameError",
     "evalue": "name 'list_of_files' is not defined",
     "output_type": "error",
     "traceback": [
      "\u001b[1;31m---------------------------------------------------------------------------\u001b[0m",
      "\u001b[1;31mNameError\u001b[0m                                 Traceback (most recent call last)",
      "Cell \u001b[1;32mIn[1], line 2\u001b[0m\n\u001b[0;32m      1\u001b[0m \u001b[38;5;66;03m# Prepare the system message with the available functions and file list\u001b[39;00m\n\u001b[1;32m----> 2\u001b[0m system_msg \u001b[38;5;241m=\u001b[39m \u001b[38;5;124mf\u001b[39m\u001b[38;5;124m\"\u001b[39m\u001b[38;5;124mHere is a list of the files and folders in the GDrive currently: \u001b[39m\u001b[38;5;132;01m{\u001b[39;00m\u001b[43mlist_of_files\u001b[49m\u001b[38;5;132;01m}\u001b[39;00m\u001b[38;5;130;01m\\n\u001b[39;00m\u001b[38;5;130;01m\\n\u001b[39;00m\u001b[38;5;124m\"\u001b[39m\n\u001b[0;32m      3\u001b[0m system_msg \u001b[38;5;241m+\u001b[39m\u001b[38;5;241m=\u001b[39m functions_code\n\u001b[0;32m      4\u001b[0m system_msg\u001b[38;5;241m+\u001b[39m\u001b[38;5;241m=\u001b[39m \u001b[38;5;124m\"\u001b[39m\u001b[38;5;124mthis is the path to the service account key: \u001b[39m\u001b[38;5;124m\"\u001b[39m\u001b[38;5;241m+\u001b[39m SERVICE_ACCOUNT_FILE \u001b[38;5;241m+\u001b[39m \u001b[38;5;124m\"\u001b[39m\u001b[38;5;130;01m\\n\u001b[39;00m\u001b[38;5;124m \u001b[39m\u001b[38;5;130;01m\\n\u001b[39;00m\u001b[38;5;124m\"\u001b[39m\n",
      "\u001b[1;31mNameError\u001b[0m: name 'list_of_files' is not defined"
     ]
    }
   ],
   "source": [
    "# Prepare the system message with the available functions and file list\n",
    "system_msg = f\"Here is a list of the files and folders in the GDrive currently: {list_of_files}\\n\\n\"\n",
    "system_msg += functions_code\n",
    "system_msg += \"this is the path to the service account key: \"+ SERVICE_ACCOUNT_FILE + \"\\n \\n\"\n",
    "system_msg += \"\"\"\n",
    "You are an expert at Google Cloud and a GDrive manager. Your job is to use the functions above to execute the user's wishes.\n",
    "You will generate a Python script using the functions above to execute the user's wishes. WRITE THE FUNCTIONS IN THE FILE\n",
    "IMPORTANT: ALSO IN THE FILE INCLUDE THESE IMPORTS : import os\n",
    "import json\n",
    "import subprocess\n",
    "from google.oauth2 import service_account\n",
    "from googleapiclient.discovery import build\n",
    "from googleapiclient.errors import HttpError\n",
    "from groq import Groq\n",
    "IMPORTANT: Use the list of files for context so that you know what the file IDs corresponding to the names are.\n",
    "IMPORTANT: DO NOT WRITE ANYTHING IN THE FILE UNLESS IT IS CODE OR A COMMENT AND IF IT IS COMMENT THEN IT MUST HAVE THE COMMENT HASHTAG DO NOT WRITE FILES WITHTEXT THAT WOULD CAUSE AN ERROR.\n",
    "\"\"\""
   ]
  },
  {
   "cell_type": "code",
   "execution_count": 21,
   "metadata": {},
   "outputs": [
    {
     "name": "stdout",
     "output_type": "stream",
     "text": [
      "Generated Code:\n",
      "Here is the Python script that creates a folder called \"rolf\":\n",
      "```\n",
      "# Import required libraries\n",
      "import os\n",
      "import json\n",
      "import subprocess\n",
      "from google.oauth2 import service_account\n",
      "from googleapiclient.discovery import build\n",
      "from googleapiclient.errors import HttpError\n",
      "from groq import Groq\n",
      "\n",
      "# Set up API credentials\n",
      "SCOPES = ['https://www.googleapis.com/auth/drive']\n",
      "SERVICE_ACCOUNT_FILE = 'path/to/service_account_key.json'  # Replace with your service account key file\n",
      "\n",
      "# Create credentials\n",
      "creds = service_account.Credentials.from_service_account_file(SERVICE_ACCOUNT_FILE, scopes=SCOPES)\n",
      "\n",
      "# Create the Drive API client\n",
      "service = build('drive', 'v3', credentials=creds)\n",
      "\n",
      "# Create a new folder called \"rolf\"\n",
      "folder_id = create_folder(service, 'rolf')\n",
      "print(f'Folder \"rolf\" created with ID: {folder_id}')\n",
      "```\n",
      "Replace `path/to/service_account_key.json` with the path to your service account key file.\n",
      "\n",
      "Run this script to create a new folder called \"rolf\" in your Google Drive.\n",
      "Execution Output:\n",
      "\n",
      "Execution Error:\n",
      "  File \"c:\\Users\\THEBATMAN\\Documents\\GitHub\\RealEstateAI\\temp_script.py\", line 1\n",
      "    Here is the Python script that creates a folder called \"rolf\":\n",
      "                ^^^^^^\n",
      "SyntaxError: invalid syntax\n",
      "\n"
     ]
    }
   ],
   "source": [
    "# Main loop to handle user requests\n",
    "while True:\n",
    "    client_req = str(input(\"Enter your request: \"))\n",
    "    response = client.chat.completions.create(\n",
    "        messages=[\n",
    "            {\"role\": \"system\", \"content\": system_msg},\n",
    "            {\"role\": \"user\", \"content\": client_req}\n",
    "        ],\n",
    "        model=\"llama3-70b-8192\",\n",
    "    )\n",
    "    \n",
    "    generated_code = response.choices[0].message.content.strip()\n",
    "    \n",
    "    print(\"Generated Code:\")\n",
    "    print(generated_code)\n",
    "    \n",
    "    # Save the generated code to a temporary file\n",
    "    with open('temp_script.py', 'w') as f:\n",
    "        f.write(generated_code)\n",
    "    \n",
    "    # Execute the generated code\n",
    "    result = subprocess.run(['python', 'temp_script.py'], capture_output=True, text=True)\n",
    "    \n",
    "    # Print the output of the executed code\n",
    "    print(\"Execution Output:\")\n",
    "    print(result.stdout)\n",
    "    if result.stderr:\n",
    "        print(\"Execution Error:\")\n",
    "        print(result.stderr)\n",
    "    \n",
    "    # Clean up the temporary file"
   ]
  }
 ],
 "metadata": {
  "kernelspec": {
   "display_name": "myenv",
   "language": "python",
   "name": "python3"
  },
  "language_info": {
   "codemirror_mode": {
    "name": "ipython",
    "version": 3
   },
   "file_extension": ".py",
   "mimetype": "text/x-python",
   "name": "python",
   "nbconvert_exporter": "python",
   "pygments_lexer": "ipython3",
   "version": "3.11.5"
  }
 },
 "nbformat": 4,
 "nbformat_minor": 2
}
