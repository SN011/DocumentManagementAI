{
 "cells": [
  {
   "cell_type": "code",
   "execution_count": 1,
   "metadata": {},
   "outputs": [
    {
     "name": "stdout",
     "output_type": "stream",
     "text": [
      " * Serving Flask app '__main__'\n",
      " * Debug mode: off\n"
     ]
    },
    {
     "name": "stderr",
     "output_type": "stream",
     "text": [
      "WARNING: This is a development server. Do not use it in a production deployment. Use a production WSGI server instead.\n",
      " * Running on http://127.0.0.1:5000\n",
      "Press CTRL+C to quit\n",
      "127.0.0.1 - - [14/Jul/2024 22:39:56] \"GET / HTTP/1.1\" 200 -\n",
      "127.0.0.1 - - [14/Jul/2024 22:39:56] \"GET /favicon.ico HTTP/1.1\" 404 -\n"
     ]
    }
   ],
   "source": [
    "from flask import Flask, request, render_template\n",
    "from twilio.twiml.voice_response import VoiceResponse\n",
    "from twilio.twiml.messaging_response import MessagingResponse\n",
    "from twilio.rest import Client\n",
    "from dotenv import load_dotenv\n",
    "import os\n",
    "\n",
    "load_dotenv()\n",
    "app = Flask(__name__)\n",
    "\n",
    "# Replace these values with your Twilio credentials\n",
    "TWILIO_ACCOUNT_SID = os.getenv('TWILIO_ACCOUNT_SID')\n",
    "TWILIO_AUTH_TOKEN = os.getenv('TWILIO_AUTH_TOKEN')\n",
    "TWILIO_PHONE_NUMBER = os.getenv('TWILIO_PHONE_NUMBER')\n",
    "\n",
    "client = Client(TWILIO_ACCOUNT_SID, TWILIO_AUTH_TOKEN)\n",
    "\n",
    "callers = []\n",
    "\n",
    "@app.route('/')\n",
    "def index():\n",
    "    return render_template('index_twilio.html', callers=callers)\n",
    "\n",
    "@app.route('/voice', methods=['POST'])\n",
    "def voice():\n",
    "    response = VoiceResponse()\n",
    "    from_number = request.values.get('From')\n",
    "    callers.append({'number': from_number, 'type': 'call'})\n",
    "    response.say('Thank you for calling! Your number has been recorded.', voice='alice')\n",
    "    return str(response)\n",
    "\n",
    "@app.route('/sms', methods=['POST'])\n",
    "def sms():\n",
    "    from_number = request.values.get('From')\n",
    "    body = request.values.get('Body')\n",
    "    callers.append({'number': from_number, 'message': body, 'type': 'sms'})\n",
    "    response = MessagingResponse()\n",
    "    response.message('Thank you for your message! Your number has been recorded.')\n",
    "    return str(response)\n",
    "\n",
    "if __name__ == '__main__':\n",
    "    app.run()\n"
   ]
  }
 ],
 "metadata": {
  "kernelspec": {
   "display_name": ".venv",
   "language": "python",
   "name": "python3"
  },
  "language_info": {
   "codemirror_mode": {
    "name": "ipython",
    "version": 3
   },
   "file_extension": ".py",
   "mimetype": "text/x-python",
   "name": "python",
   "nbconvert_exporter": "python",
   "pygments_lexer": "ipython3",
   "version": "3.12.0"
  }
 },
 "nbformat": 4,
 "nbformat_minor": 2
}
