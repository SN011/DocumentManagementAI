{
 "cells": [
  {
   "cell_type": "code",
   "execution_count": 3,
   "metadata": {},
   "outputs": [],
   "source": [
    "# # !pip install webrtcvad\n",
    "# !pip install pygame"
   ]
  },
  {
   "cell_type": "code",
   "execution_count": 2,
   "metadata": {},
   "outputs": [
    {
     "name": "stdout",
     "output_type": "stream",
     "text": [
      " * Serving Flask app '__main__'\n",
      " * Debug mode: off\n"
     ]
    },
    {
     "name": "stderr",
     "output_type": "stream",
     "text": [
      "WARNING: This is a development server. Do not use it in a production deployment. Use a production WSGI server instead.\n",
      " * Running on http://127.0.0.1:5000\n",
      "Press CTRL+C to quit\n",
      "127.0.0.1 - - [26/May/2024 19:07:19] \"GET / HTTP/1.1\" 200 -\n",
      "127.0.0.1 - - [26/May/2024 19:07:21] \"POST /ai_speak HTTP/1.1\" 200 -\n",
      "127.0.0.1 - - [26/May/2024 19:07:21] \"GET /static/ai_responses/Ai-1.wav HTTP/1.1\" 206 -\n",
      "127.0.0.1 - - [26/May/2024 19:07:21] \"GET /favicon.ico HTTP/1.1\" 404 -\n",
      "127.0.0.1 - - [26/May/2024 19:07:22] \"POST /unmute HTTP/1.1\" 200 -\n",
      "127.0.0.1 - - [26/May/2024 19:07:22] \"POST /mute HTTP/1.1\" 200 -\n"
     ]
    }
   ],
   "source": [
    "# app.py\n",
    "from flask import Flask, render_template, jsonify\n",
    "\n",
    "app = Flask(__name__)\n",
    "\n",
    "# Initialize the file number\n",
    "ai_file_no = 1\n",
    "\n",
    "@app.route('/')\n",
    "def index():\n",
    "    return render_template('index.html')\n",
    "\n",
    "@app.route('/mute', methods=['POST'])\n",
    "def mute_audio():\n",
    "    global mute\n",
    "    mute = True\n",
    "    return jsonify({'status': 'Muted'})\n",
    "\n",
    "@app.route('/unmute', methods=['POST'])\n",
    "def unmute_audio():\n",
    "    global mute\n",
    "    mute = False\n",
    "    return jsonify({'status': 'Unmuted'})\n",
    "\n",
    "@app.route('/ai_speak', methods=['POST'])\n",
    "def ai_speak():\n",
    "    global ai_file_no\n",
    "\n",
    "    # Define the range for AI files\n",
    "    if ai_file_no < 1 or ai_file_no > 24:\n",
    "        ai_file_no = 1  # Reset to the first file if out of range\n",
    "\n",
    "    selected_file = f'Ai-{ai_file_no}.wav'\n",
    "    ai_file_no += 1  # Increment to the next file number\n",
    "\n",
    "    return jsonify({'response': f'/static/ai_responses/{selected_file}'})\n",
    "\n",
    "if __name__ == '__main__':\n",
    "    app.run()\n"
   ]
  }
 ],
 "metadata": {
  "kernelspec": {
   "display_name": ".venv",
   "language": "python",
   "name": "python3"
  },
  "language_info": {
   "codemirror_mode": {
    "name": "ipython",
    "version": 3
   },
   "file_extension": ".py",
   "mimetype": "text/x-python",
   "name": "python",
   "nbconvert_exporter": "python",
   "pygments_lexer": "ipython3",
   "version": "3.9.13"
  }
 },
 "nbformat": 4,
 "nbformat_minor": 2
}
