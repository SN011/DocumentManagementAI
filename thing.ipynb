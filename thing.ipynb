{
 "cells": [
  {
   "cell_type": "code",
   "execution_count": 1,
   "metadata": {},
   "outputs": [
    {
     "name": "stdout",
     "output_type": "stream",
     "text": [
      "Collecting cryptography\n",
      "  Downloading cryptography-42.0.7-cp39-abi3-win_amd64.whl.metadata (5.4 kB)\n",
      "Requirement already satisfied: cffi>=1.12 in c:\\dev\\webdevfolder\\realestateai\\.venv\\lib\\site-packages (from cryptography) (1.16.0)\n",
      "Requirement already satisfied: pycparser in c:\\dev\\webdevfolder\\realestateai\\.venv\\lib\\site-packages (from cffi>=1.12->cryptography) (2.22)\n",
      "Downloading cryptography-42.0.7-cp39-abi3-win_amd64.whl (2.9 MB)\n",
      "   ---------------------------------------- 0.0/2.9 MB ? eta -:--:--\n",
      "   ---------------------------------------- 0.0/2.9 MB ? eta -:--:--\n",
      "   ---------------------------------------- 0.0/2.9 MB 660.6 kB/s eta 0:00:05\n",
      "   -- ------------------------------------- 0.2/2.9 MB 1.5 MB/s eta 0:00:02\n",
      "   ----- ---------------------------------- 0.4/2.9 MB 2.8 MB/s eta 0:00:01\n",
      "   --------- ------------------------------ 0.7/2.9 MB 3.7 MB/s eta 0:00:01\n",
      "   ---------------- ----------------------- 1.2/2.9 MB 5.1 MB/s eta 0:00:01\n",
      "   ------------------------ --------------- 1.8/2.9 MB 6.2 MB/s eta 0:00:01\n",
      "   ------------------------------- -------- 2.3/2.9 MB 6.9 MB/s eta 0:00:01\n",
      "   ---------------------------------------  2.9/2.9 MB 7.6 MB/s eta 0:00:01\n",
      "   ---------------------------------------  2.9/2.9 MB 7.6 MB/s eta 0:00:01\n",
      "   ---------------------------------------  2.9/2.9 MB 7.6 MB/s eta 0:00:01\n",
      "   ---------------------------------------  2.9/2.9 MB 7.6 MB/s eta 0:00:01\n",
      "   ---------------------------------------- 2.9/2.9 MB 5.3 MB/s eta 0:00:00\n",
      "Installing collected packages: cryptography\n",
      "Successfully installed cryptography-42.0.7\n"
     ]
    }
   ],
   "source": [
    "!pip install cryptography"
   ]
  },
  {
   "cell_type": "code",
   "execution_count": 4,
   "metadata": {},
   "outputs": [],
   "source": [
    "from cryptography.fernet import Fernet\n",
    "import base64\n",
    "\n",
    "# Generate or load your encryption key\n",
    "encryption_key = Fernet.generate_key()  # Replace with your encryption key\n",
    "with open('C:\\\\Users\\\\pc-user1\\\\Desktop\\\\key.txt', 'a') as file:\n",
    "    file.write(f\"ENCRYPTION_RAND_KEY={encryption_key}\\n\")\n",
    "# Encrypt the API key\n",
    "cipher_suite = Fernet(encryption_key)\n",
    "api_key = \"sk-ak-c3gCmbFsRuXd9jbPYiFG00u9JT\"  # Replace with your API key\n",
    "encrypted_api_key = cipher_suite.encrypt(api_key.encode())\n",
    "\n",
    "# Encode the encrypted key to safely store in a text file\n",
    "encoded_encrypted_api_key = base64.b64encode(encrypted_api_key).decode()\n",
    "\n",
    "# Add the encoded encrypted key to your .env file\n",
    "with open('.env', 'a') as env_file:\n",
    "    env_file.write(f\"ENCRYPTED_API_KEY={encoded_encrypted_api_key}\\n\")\n"
   ]
  },
  {
   "cell_type": "code",
   "execution_count": 5,
   "metadata": {},
   "outputs": [],
   "source": [
    "from cryptography.fernet import Fernet\n",
    "import base64\n",
    "from dotenv import load_dotenv\n",
    "import os\n",
    "# Load environment variables from .env\n",
    "load_dotenv()\n",
    "\n",
    "# Decode and decrypt the API key\n",
    "encoded_encrypted_api_key = os.getenv(\"ENCRYPTED_API_KEY\")\n",
    "encrypted_api_key = base64.b64decode(encoded_encrypted_api_key)\n",
    "decipher_suite = Fernet(encryption_key)\n",
    "decipher_suite.decrypt(encrypted_api_key).decode()"
   ]
  }
 ],
 "metadata": {
  "kernelspec": {
   "display_name": ".venv",
   "language": "python",
   "name": "python3"
  },
  "language_info": {
   "codemirror_mode": {
    "name": "ipython",
    "version": 3
   },
   "file_extension": ".py",
   "mimetype": "text/x-python",
   "name": "python",
   "nbconvert_exporter": "python",
   "pygments_lexer": "ipython3",
   "version": "3.12.0"
  }
 },
 "nbformat": 4,
 "nbformat_minor": 2
}
