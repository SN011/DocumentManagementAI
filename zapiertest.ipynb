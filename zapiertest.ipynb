{
 "cells": [
  {
   "cell_type": "code",
   "execution_count": 1,
   "metadata": {},
   "outputs": [],
   "source": [
    "# !pip install --upgrade langchain\n",
    "#!pip install --upgrade langchain-groq\n",
    "# !pip install -U langchain-community"
   ]
  },
  {
   "cell_type": "code",
   "execution_count": 1,
   "metadata": {},
   "outputs": [],
   "source": [
    "import os\n",
    "from langchain_groq import ChatGroq\n",
    "from langchain_community.document_loaders import PyPDFDirectoryLoader, PyPDFLoader, WebBaseLoader\n",
    "from langchain.embeddings import HuggingFaceEmbeddings\n",
    "from langchain.text_splitter import RecursiveCharacterTextSplitter\n",
    "from langchain.chains.combine_documents import create_stuff_documents_chain\n",
    "from langchain_core.prompts import ChatPromptTemplate\n",
    "from langchain.chains import create_retrieval_chain\n",
    "from langchain_community.vectorstores import FAISS\n",
    "from langchain.agents.agent_toolkits import ZapierToolkit\n",
    "\n",
    "from langchain.utilities.zapier import ZapierNLAWrapper\n",
    "from langchain.agents import initialize_agent , AgentType\n",
    "import random\n",
    "from groq import Groq\n",
    "import streamlit as st\n",
    "api_keys = ['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','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',\n",
    "            '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','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']\n",
    "\n",
    "client = Groq(\n",
    "    \n",
    "    api_key = random.choice(api_keys)\n",
    ")\n",
    "\n",
    "llm = ChatGroq(groq_api_key = client.api_key,\n",
    "               model_name = \"llama3-70b-8192\")"
   ]
  },
  {
   "cell_type": "code",
   "execution_count": 9,
   "metadata": {},
   "outputs": [],
   "source": [
    "from cryptography.fernet import Fernet\n",
    "import base64\n",
    "from dotenv import load_dotenv\n",
    "import os\n",
    "# Load environment variables from .env\n",
    "load_dotenv()\n",
    "with open('C:\\\\Users\\\\pc-user1\\\\Desktop\\\\key.txt', 'r') as file:\n",
    "    k = file.read().strip()[2:-1]\n",
    "    #k = base64.urlsafe_b64decode(k.encode())\n",
    "\n",
    "\n",
    "# Decode and decrypt the API key\n",
    "encoded_encrypted_api_key = os.getenv(\"ENCRYPTED_API_KEY\")\n",
    "encrypted_api_key = base64.b64decode(encoded_encrypted_api_key)\n",
    "decipher_suite = Fernet(k)\n"
   ]
  },
  {
   "cell_type": "code",
   "execution_count": 10,
   "metadata": {},
   "outputs": [
    {
     "ename": "InvalidToken",
     "evalue": "",
     "output_type": "error",
     "traceback": [
      "\u001b[1;31m---------------------------------------------------------------------------\u001b[0m",
      "\u001b[1;31mInvalidSignature\u001b[0m                          Traceback (most recent call last)",
      "File \u001b[1;32mc:\\DEV\\WebdevFolder\\RealEstateAI\\.venv\\Lib\\site-packages\\cryptography\\fernet.py:130\u001b[0m, in \u001b[0;36mFernet._verify_signature\u001b[1;34m(self, data)\u001b[0m\n\u001b[0;32m    129\u001b[0m \u001b[38;5;28;01mtry\u001b[39;00m:\n\u001b[1;32m--> 130\u001b[0m     \u001b[43mh\u001b[49m\u001b[38;5;241;43m.\u001b[39;49m\u001b[43mverify\u001b[49m\u001b[43m(\u001b[49m\u001b[43mdata\u001b[49m\u001b[43m[\u001b[49m\u001b[38;5;241;43m-\u001b[39;49m\u001b[38;5;241;43m32\u001b[39;49m\u001b[43m:\u001b[49m\u001b[43m]\u001b[49m\u001b[43m)\u001b[49m\n\u001b[0;32m    131\u001b[0m \u001b[38;5;28;01mexcept\u001b[39;00m InvalidSignature:\n",
      "\u001b[1;31mInvalidSignature\u001b[0m: Signature did not match digest.",
      "\nDuring handling of the above exception, another exception occurred:\n",
      "\u001b[1;31mInvalidToken\u001b[0m                              Traceback (most recent call last)",
      "Cell \u001b[1;32mIn[10], line 1\u001b[0m\n\u001b[1;32m----> 1\u001b[0m zapier \u001b[38;5;241m=\u001b[39m ZapierNLAWrapper(zapier_nla_api_key\u001b[38;5;241m=\u001b[39m\u001b[43mdecipher_suite\u001b[49m\u001b[38;5;241;43m.\u001b[39;49m\u001b[43mdecrypt\u001b[49m\u001b[43m(\u001b[49m\u001b[43mencrypted_api_key\u001b[49m\u001b[43m)\u001b[49m\u001b[38;5;241m.\u001b[39mdecode())\n\u001b[0;32m      2\u001b[0m toolkit \u001b[38;5;241m=\u001b[39m ZapierToolkit\u001b[38;5;241m.\u001b[39mfrom_zapier_nla_wrapper(zapier)\n\u001b[0;32m      3\u001b[0m \u001b[38;5;28;01mfrom\u001b[39;00m \u001b[38;5;21;01mlangchain\u001b[39;00m\u001b[38;5;21;01m.\u001b[39;00m\u001b[38;5;21;01magents\u001b[39;00m \u001b[38;5;28;01mimport\u001b[39;00m Tool\n",
      "File \u001b[1;32mc:\\DEV\\WebdevFolder\\RealEstateAI\\.venv\\Lib\\site-packages\\cryptography\\fernet.py:89\u001b[0m, in \u001b[0;36mFernet.decrypt\u001b[1;34m(self, token, ttl)\u001b[0m\n\u001b[0;32m     87\u001b[0m \u001b[38;5;28;01melse\u001b[39;00m:\n\u001b[0;32m     88\u001b[0m     time_info \u001b[38;5;241m=\u001b[39m (ttl, \u001b[38;5;28mint\u001b[39m(time\u001b[38;5;241m.\u001b[39mtime()))\n\u001b[1;32m---> 89\u001b[0m \u001b[38;5;28;01mreturn\u001b[39;00m \u001b[38;5;28;43mself\u001b[39;49m\u001b[38;5;241;43m.\u001b[39;49m\u001b[43m_decrypt_data\u001b[49m\u001b[43m(\u001b[49m\u001b[43mdata\u001b[49m\u001b[43m,\u001b[49m\u001b[43m \u001b[49m\u001b[43mtimestamp\u001b[49m\u001b[43m,\u001b[49m\u001b[43m \u001b[49m\u001b[43mtime_info\u001b[49m\u001b[43m)\u001b[49m\n",
      "File \u001b[1;32mc:\\DEV\\WebdevFolder\\RealEstateAI\\.venv\\Lib\\site-packages\\cryptography\\fernet.py:148\u001b[0m, in \u001b[0;36mFernet._decrypt_data\u001b[1;34m(self, data, timestamp, time_info)\u001b[0m\n\u001b[0;32m    145\u001b[0m     \u001b[38;5;28;01mif\u001b[39;00m current_time \u001b[38;5;241m+\u001b[39m _MAX_CLOCK_SKEW \u001b[38;5;241m<\u001b[39m timestamp:\n\u001b[0;32m    146\u001b[0m         \u001b[38;5;28;01mraise\u001b[39;00m InvalidToken\n\u001b[1;32m--> 148\u001b[0m \u001b[38;5;28;43mself\u001b[39;49m\u001b[38;5;241;43m.\u001b[39;49m\u001b[43m_verify_signature\u001b[49m\u001b[43m(\u001b[49m\u001b[43mdata\u001b[49m\u001b[43m)\u001b[49m\n\u001b[0;32m    150\u001b[0m iv \u001b[38;5;241m=\u001b[39m data[\u001b[38;5;241m9\u001b[39m:\u001b[38;5;241m25\u001b[39m]\n\u001b[0;32m    151\u001b[0m ciphertext \u001b[38;5;241m=\u001b[39m data[\u001b[38;5;241m25\u001b[39m:\u001b[38;5;241m-\u001b[39m\u001b[38;5;241m32\u001b[39m]\n",
      "File \u001b[1;32mc:\\DEV\\WebdevFolder\\RealEstateAI\\.venv\\Lib\\site-packages\\cryptography\\fernet.py:132\u001b[0m, in \u001b[0;36mFernet._verify_signature\u001b[1;34m(self, data)\u001b[0m\n\u001b[0;32m    130\u001b[0m     h\u001b[38;5;241m.\u001b[39mverify(data[\u001b[38;5;241m-\u001b[39m\u001b[38;5;241m32\u001b[39m:])\n\u001b[0;32m    131\u001b[0m \u001b[38;5;28;01mexcept\u001b[39;00m InvalidSignature:\n\u001b[1;32m--> 132\u001b[0m     \u001b[38;5;28;01mraise\u001b[39;00m InvalidToken\n",
      "\u001b[1;31mInvalidToken\u001b[0m: "
     ]
    }
   ],
   "source": [
    "zapier = ZapierNLAWrapper(zapier_nla_api_key=decipher_suite.decrypt(encrypted_api_key).decode())\n",
    "toolkit = ZapierToolkit.from_zapier_nla_wrapper(zapier)\n",
    "from langchain.agents import Tool\n",
    "my_tools = []\n",
    "for tool in toolkit.tools:\n",
    "    my_tools.append(tool)\n",
    "\n",
    "\n",
    "\n",
    "def write_file(input=\"\"):\n",
    "    with open(os.getcwd()+'\\\\main.cpp','w') as file:\n",
    "        file.write(\"\"\"#include <iostream> \\n\\n using namespace std; \\n\\n int main()\\n{\\ncout<<\"Hello World!\"<<endl;\\nreturn 0;\\n}\\n\"\"\")\n",
    "my_tools.append(Tool(name=\"write-file\",func=write_file, description=\"useful when user asks you to c++ hello world code to a file\"))\n",
    "agent = initialize_agent(my_tools,llm,agent=AgentType.ZERO_SHOT_REACT_DESCRIPTION,verbose=True)"
   ]
  },
  {
   "cell_type": "code",
   "execution_count": 14,
   "metadata": {},
   "outputs": [
    {
     "name": "stdout",
     "output_type": "stream",
     "text": [
      "Google Docs: Append Text to Document\n",
      "A wrapper around Zapier NLA actions. The input to this tool is a natural language instruction, for example \"get the latest email from my bank\" or \"send a slack message to the #general channel\". Each tool will have params associated with it that are specified as a list. You MUST take into account the params when creating the instruction. For example, if the params are ['Message_Text', 'Channel'], your instruction should be something like 'send a slack message to the #general channel with the text hello world'. Another example: if the params are ['Calendar', 'Search_Term'], your instruction should be something like 'find the meeting in my personal calendar at 3pm'. Do not make up params, they will be explicitly specified in the tool description. If you do not have enough information to fill in the params, just say 'not enough information provided in the instruction, missing <param>'. If you get a none or null response, STOP EXECUTION, do not try to another tool!This tool specifically used for: Google Docs: Append Text to Document, and has params: ['Text_to_Append', 'Document_Name']\n",
      "\n",
      "\n",
      "\n",
      "Google Sheets: Update Spreadsheet Row(s)\n",
      "A wrapper around Zapier NLA actions. The input to this tool is a natural language instruction, for example \"get the latest email from my bank\" or \"send a slack message to the #general channel\". Each tool will have params associated with it that are specified as a list. You MUST take into account the params when creating the instruction. For example, if the params are ['Message_Text', 'Channel'], your instruction should be something like 'send a slack message to the #general channel with the text hello world'. Another example: if the params are ['Calendar', 'Search_Term'], your instruction should be something like 'find the meeting in my personal calendar at 3pm'. Do not make up params, they will be explicitly specified in the tool description. If you do not have enough information to fill in the params, just say 'not enough information provided in the instruction, missing <param>'. If you get a none or null response, STOP EXECUTION, do not try to another tool!This tool specifically used for: Google Sheets: Update Spreadsheet Row(s), and has params: ['Spreadsheet', 'Worksheet']\n",
      "\n",
      "\n",
      "\n",
      "Google Sheets: Lookup Spreadsheet Row\n",
      "A wrapper around Zapier NLA actions. The input to this tool is a natural language instruction, for example \"get the latest email from my bank\" or \"send a slack message to the #general channel\". Each tool will have params associated with it that are specified as a list. You MUST take into account the params when creating the instruction. For example, if the params are ['Message_Text', 'Channel'], your instruction should be something like 'send a slack message to the #general channel with the text hello world'. Another example: if the params are ['Calendar', 'Search_Term'], your instruction should be something like 'find the meeting in my personal calendar at 3pm'. Do not make up params, they will be explicitly specified in the tool description. If you do not have enough information to fill in the params, just say 'not enough information provided in the instruction, missing <param>'. If you get a none or null response, STOP EXECUTION, do not try to another tool!This tool specifically used for: Google Sheets: Lookup Spreadsheet Row, and has params: ['Lookup_Column', 'Worksheet', 'Spreadsheet', 'Lookup_Value']\n",
      "\n",
      "\n",
      "\n",
      "Google Sheets: Create Spreadsheet\n",
      "A wrapper around Zapier NLA actions. The input to this tool is a natural language instruction, for example \"get the latest email from my bank\" or \"send a slack message to the #general channel\". Each tool will have params associated with it that are specified as a list. You MUST take into account the params when creating the instruction. For example, if the params are ['Message_Text', 'Channel'], your instruction should be something like 'send a slack message to the #general channel with the text hello world'. Another example: if the params are ['Calendar', 'Search_Term'], your instruction should be something like 'find the meeting in my personal calendar at 3pm'. Do not make up params, they will be explicitly specified in the tool description. If you do not have enough information to fill in the params, just say 'not enough information provided in the instruction, missing <param>'. If you get a none or null response, STOP EXECUTION, do not try to another tool!This tool specifically used for: Google Sheets: Create Spreadsheet, and has params: ['Title']\n",
      "\n",
      "\n",
      "\n",
      "Google Docs: Find a Document\n",
      "A wrapper around Zapier NLA actions. The input to this tool is a natural language instruction, for example \"get the latest email from my bank\" or \"send a slack message to the #general channel\". Each tool will have params associated with it that are specified as a list. You MUST take into account the params when creating the instruction. For example, if the params are ['Message_Text', 'Channel'], your instruction should be something like 'send a slack message to the #general channel with the text hello world'. Another example: if the params are ['Calendar', 'Search_Term'], your instruction should be something like 'find the meeting in my personal calendar at 3pm'. Do not make up params, they will be explicitly specified in the tool description. If you do not have enough information to fill in the params, just say 'not enough information provided in the instruction, missing <param>'. If you get a none or null response, STOP EXECUTION, do not try to another tool!This tool specifically used for: Google Docs: Find a Document, and has params: ['Document_Name']\n",
      "\n",
      "\n",
      "\n",
      "Google Docs: Create Document from Text\n",
      "A wrapper around Zapier NLA actions. The input to this tool is a natural language instruction, for example \"get the latest email from my bank\" or \"send a slack message to the #general channel\". Each tool will have params associated with it that are specified as a list. You MUST take into account the params when creating the instruction. For example, if the params are ['Message_Text', 'Channel'], your instruction should be something like 'send a slack message to the #general channel with the text hello world'. Another example: if the params are ['Calendar', 'Search_Term'], your instruction should be something like 'find the meeting in my personal calendar at 3pm'. Do not make up params, they will be explicitly specified in the tool description. If you do not have enough information to fill in the params, just say 'not enough information provided in the instruction, missing <param>'. If you get a none or null response, STOP EXECUTION, do not try to another tool!This tool specifically used for: Google Docs: Create Document from Text, and has params: ['Document_Content', 'Document_Name']\n",
      "\n",
      "\n",
      "\n",
      "write-file\n",
      "useful when user asks you to c++ hello world code to a file\n",
      "\n",
      "\n",
      "\n"
     ]
    }
   ],
   "source": [
    "for tool in my_tools:\n",
    "    print(tool.name)\n",
    "    print(tool.description)\n",
    "    print(\"\\n\\n\")"
   ]
  },
  {
   "cell_type": "code",
   "execution_count": 25,
   "metadata": {},
   "outputs": [
    {
     "name": "stdout",
     "output_type": "stream",
     "text": [
      "\n",
      "\n",
      "\u001b[1m> Entering new AgentExecutor chain...\u001b[0m\n",
      "\u001b[32;1m\u001b[1;3mThought: I understand that I need to find a Google Doc with the same title and append the provided text to it, formatting it properly.\n",
      "\n",
      "Action: Google Docs: Find a Document\n",
      "Action Input: 'Renovation Quote'\u001b[0m"
     ]
    },
    {
     "name": "stderr",
     "output_type": "stream",
     "text": [
      "c:\\DEV\\WebdevFolder\\RealEstateAI\\.venv\\Lib\\site-packages\\langchain_community\\tools\\zapier\\tool.py:135: LangChainDeprecationWarning: This tool will be deprecated on 2023-11-17. See https://nla.zapier.com/sunset/ for details\n",
      "  warn_deprecated(\n"
     ]
    },
    {
     "name": "stdout",
     "output_type": "stream",
     "text": [
      "\n",
      "Observation: \u001b[33;1m\u001b[1;3m{\"_zap_search_was_found_status\": false}\u001b[0m\n",
      "Thought:\u001b[32;1m\u001b[1;3mSince the observation indicates that the document was not found, I will create a new document with the provided title.\n",
      "\n",
      "Action: Google Docs: Create Document from Text\n",
      "Action Input: 'Renovation Quote', 'RENOVATION QUOTE\\n\\n**Project Overview:**\\n- Project Description: Basement renovation project in Herndon, VA 20170\\n- Length of Time for Project: Not specified\\n\\n**Cost Breakdown:*\\n\\n1. **Labor Costs:**\\n   - Total Labor Cost: $45,000\\n\\n2. **Material Costs:**\\n   - Total Material Cost: $33,500\\n   - Itemized Costs:\\n     + Flooring: $5,000\\n     + Lighting: $3,000\\n     + Shelving: $3,500\\n     + Mirror and Decor: $1,000\\n     + Seating and Furniture: $4,000\\n     + Hot Tub and Glass Wall: $8,000\\n     + Electrical and HVAC: $6,000\\n     + Miscellaneous: $3,000\\n\\n**Total Estimated Cost:**\\n- Total Cost of Labor: $45,000\\n- Total Cost of Materials: $33,500\\n- **Grand Total: $78,500**\\n\\n**Payment Terms:**\\n- Deposit Required: 20% of the total estimated cost ($15,700.00)\\n- Payment Schedule: Monthly payments for 6 months, with the final payment due upon completion of the project\\n- Monthly Payment: $10,466\\n- Final Payment Due: Upon completion of the project'\u001b[0m"
     ]
    },
    {
     "name": "stderr",
     "output_type": "stream",
     "text": [
      "c:\\DEV\\WebdevFolder\\RealEstateAI\\.venv\\Lib\\site-packages\\langchain_community\\tools\\zapier\\tool.py:135: LangChainDeprecationWarning: This tool will be deprecated on 2023-11-17. See https://nla.zapier.com/sunset/ for details\n",
      "  warn_deprecated(\n"
     ]
    },
    {
     "name": "stdout",
     "output_type": "stream",
     "text": [
      "\n",
      "Observation: \u001b[38;5;200m\u001b[1;3m{\"title\": \"Renovation Quote\", \"embedLink\": \"https://docs.google.com/document/d/1vmk8rdQrbbTs_ehhnIg-JlIb_EAiQAJvzV8BHTXtoCQ/preview?ouid=115521521832671770773\", \"id\": \"1vmk8rdQrbbTs_ehhnIg-JlIb_EAiQAJvzV8BHTXtoCQ\", \"createdDate\": \"2024-05-19T03:07:12.706Z\", \"ownerNames\": [\"Chris John\"], \"mimeType\": \"application/vnd.google-apps.document\", \"editable\": true, \"kind\": \"drive#file\", \"modifiedDate\": \"2024-05-19T03:07:12.754Z\", \"copyRequiresWriterPermission\": false, \"selfLink\": \"https://www.googleapis.com/drive/v2/files/1vmk8rdQrbbTs_ehhnIg-JlIb_EAiQAJvzV8BHTXtoCQ\", \"alternateLink\": \"https://docs.google.com/document/d/1vmk8rdQrbbTs_ehhnIg-JlIb_EAiQAJvzV8BHTXtoCQ/edit?usp=drivesdk\", \"fileSize\": \"1\", \"spaces\": [\"drive\"], \"owners\": [{\"displayName\": \"Chris John\", \"kind\": \"drive#user\", \"isAuthenticatedUser\": true, \"permissionId\": \"11283654959933964771\", \"emailAddress\": \"thegreatchrisjohn@gmail.com\", \"picture\": {\"url\": \"https://lh3.googleusercontent.com/a/ACg8ocJy5oq-m0etxDBbvGdHX3Ll2gnhQh5fQoh-fRIwKX927N1Fxw=s64\"}}], \"version\": \"4\", \"parents\": [\"...\"]}\u001b[0m\n",
      "Thought:\u001b[32;1m\u001b[1;3mThought: I have successfully created a new Google Doc with the provided title and content. \n",
      "\n",
      "Final Answer: The renovation quote contract has been created in a new Google Doc titled \"Renovation Quote\" with the provided content.\u001b[0m\n",
      "\n",
      "\u001b[1m> Finished chain.\u001b[0m\n"
     ]
    },
    {
     "data": {
      "text/plain": [
       "{'input': \"\\nBEFORE PROCEEDING, FIND THE GOOGLE DOC WITH THE SAME TITLE.\\nCan you please put ALL OF THE FOLLOWING the following into a formatted google document for a renovation quote contract? \\nYOU MUST FORMAT THE CONTENT PROPERLY BEFORE WRITING IT INTO DOC.\\n          THE TEXT: 'RENOVATION QUOTE\\n\\n**Project Overview:**\\n- Project Description: Basement renovation project in Herndon, VA 20170\\n- Length of Time for Project: Not specified\\n\\n**Cost Breakdown:**\\n\\n1. **Labor Costs:**\\n   - Total Labor Cost: $45,000\\n   \\n2. **Material Costs:**\\n   - Total Material Cost: $33,500\\n   - Itemized Costs:\\n     + Flooring: $5,000\\n     + Lighting: $3,000\\n     + Shelving: $3,500\\n     + Mirror and Decor: $1,000\\n     + Seating and Furniture: $4,000\\n     + Hot Tub and Glass Wall: $8,000\\n     + Electrical and HVAC: $6,000\\n     + Miscellaneous: $3,000\\n\\n**Total Estimated Cost:**\\n- Total Cost of Labor: $45,000\\n- Total Cost of Materials: $33,500\\n- **Grand Total: $78,500**\\n\\n**Payment Terms:**\\n- Deposit Required: 20% of the total estimated cost ($15,700.00)\\n- Payment Schedule: Monthly payments for 6 months, with the final payment due upon completion of the project\\n- Monthly Payment: $10,466\\n- Final Payment Due: Upon completion of the project'\\n\\n\",\n",
       " 'output': 'The renovation quote contract has been created in a new Google Doc titled \"Renovation Quote\" with the provided content.'}"
      ]
     },
     "execution_count": 25,
     "metadata": {},
     "output_type": "execute_result"
    }
   ],
   "source": [
    "agent.invoke({\"input\":\"\"\"\n",
    "BEFORE PROCEEDING, FIND THE GOOGLE DOC WITH THE SAME TITLE.\n",
    "Can you please put ALL OF THE FOLLOWING the following into a formatted google document for a renovation quote contract? \n",
    "YOU MUST FORMAT THE CONTENT PROPERLY BEFORE WRITING IT INTO DOC.\n",
    "          THE TEXT: 'RENOVATION QUOTE\n",
    "\n",
    "**Project Overview:**\n",
    "- Project Description: Basement renovation project in Herndon, VA 20170\n",
    "- Length of Time for Project: Not specified\n",
    "\n",
    "**Cost Breakdown:**\n",
    "\n",
    "1. **Labor Costs:**\n",
    "   - Total Labor Cost: $45,000\n",
    "   \n",
    "2. **Material Costs:**\n",
    "   - Total Material Cost: $33,500\n",
    "   - Itemized Costs:\n",
    "     + Flooring: $5,000\n",
    "     + Lighting: $3,000\n",
    "     + Shelving: $3,500\n",
    "     + Mirror and Decor: $1,000\n",
    "     + Seating and Furniture: $4,000\n",
    "     + Hot Tub and Glass Wall: $8,000\n",
    "     + Electrical and HVAC: $6,000\n",
    "     + Miscellaneous: $3,000\n",
    "\n",
    "**Total Estimated Cost:**\n",
    "- Total Cost of Labor: $45,000\n",
    "- Total Cost of Materials: $33,500\n",
    "- **Grand Total: $78,500**\n",
    "\n",
    "**Payment Terms:**\n",
    "- Deposit Required: 20% of the total estimated cost ($15,700.00)\n",
    "- Payment Schedule: Monthly payments for 6 months, with the final payment due upon completion of the project\n",
    "- Monthly Payment: $10,466\n",
    "- Final Payment Due: Upon completion of the project'\n",
    "\n",
    "\"\"\"})"
   ]
  },
  {
   "cell_type": "code",
   "execution_count": 23,
   "metadata": {},
   "outputs": [
    {
     "name": "stdout",
     "output_type": "stream",
     "text": [
      "\n",
      "\n",
      "\u001b[1m> Entering new AgentExecutor chain...\u001b[0m\n",
      "\u001b[32;1m\u001b[1;3mThought: I understand that I need to write C++ \"Hello World\" code to a file using the write-file tool.\n",
      "\n",
      "Action: write-file\n",
      "Action Input: '#include <iostream>\\n\\nint main() {\\n    std::cout << \"Hello, World!\" << std::endl;\\n    return 0;\\n}'\n",
      "\u001b[0m\n",
      "Observation: \u001b[36;1m\u001b[1;3mNone\u001b[0m\n",
      "Thought:\u001b[32;1m\u001b[1;3mI now know the final answer\n",
      "Final Answer: The C++ \"Hello World\" code has been written to a file using the write-file tool.\u001b[0m\n",
      "\n",
      "\u001b[1m> Finished chain.\u001b[0m\n"
     ]
    },
    {
     "data": {
      "text/plain": [
       "{'input': 'YOU MUST WRITE C++ HELLO WWORLD CODE TO A FILE - USE THE write-file TOOL. thats all',\n",
       " 'output': 'The C++ \"Hello World\" code has been written to a file using the write-file tool.'}"
      ]
     },
     "execution_count": 23,
     "metadata": {},
     "output_type": "execute_result"
    }
   ],
   "source": [
    "agent.invoke({\"input\":\"YOU MUST WRITE C++ HELLO WWORLD CODE TO A FILE - USE THE write-file TOOL. thats all\"})"
   ]
  }
 ],
 "metadata": {
  "kernelspec": {
   "display_name": ".venv",
   "language": "python",
   "name": "python3"
  },
  "language_info": {
   "codemirror_mode": {
    "name": "ipython",
    "version": 3
   },
   "file_extension": ".py",
   "mimetype": "text/x-python",
   "name": "python",
   "nbconvert_exporter": "python",
   "pygments_lexer": "ipython3",
   "version": "3.12.0"
  }
 },
 "nbformat": 4,
 "nbformat_minor": 2
}
