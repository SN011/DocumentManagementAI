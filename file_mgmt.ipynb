{
 "cells": [
  {
   "cell_type": "code",
   "execution_count": 7,
   "metadata": {},
   "outputs": [],
   "source": [
    "# !pip install streamlit"
   ]
  },
  {
   "cell_type": "code",
   "execution_count": 17,
   "metadata": {},
   "outputs": [],
   "source": [
    "import os\n",
    "from langchain_groq import ChatGroq\n",
    "from langchain_community.document_loaders import WebBaseLoader\n",
    "from langchain.embeddings import HuggingFaceEmbeddings\n",
    "from langchain.text_splitter import RecursiveCharacterTextSplitter\n",
    "from langchain.chains.combine_documents import create_stuff_documents_chain\n",
    "from langchain_core.prompts import ChatPromptTemplate\n",
    "from langchain.chains import create_retrieval_chain\n",
    "from langchain_community.vectorstores import FAISS"
   ]
  },
  {
   "cell_type": "code",
   "execution_count": 18,
   "metadata": {},
   "outputs": [],
   "source": [
    "import random\n",
    "from groq import Groq\n",
    "import streamlit as st\n",
    "api_keys = ['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','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',\n",
    "            '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','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']\n",
    "\n",
    "client = Groq(\n",
    "    \n",
    "    api_key = random.choice(api_keys)\n",
    ")\n",
    "\n",
    "llm = ChatGroq(groq_api_key = client.api_key,\n",
    "               model_name = \"llama3-70b-8192\",temperature=0.0)\n",
    "\n"
   ]
  },
  {
   "cell_type": "code",
   "execution_count": 21,
   "metadata": {},
   "outputs": [],
   "source": [
    "if \"vector\" not in st.session_state:\n",
    "    st.session_state.embeddings = HuggingFaceEmbeddings()\n",
    "    \n",
    "    st.session_state[\"loader\"] = WebBaseLoader(\"https://docs.smith.langchain.com/\")\n",
    "    st.session_state[\"docs\"] = st.session_state[\"loader\"].load() \n",
    "\n",
    "    st.session_state[\"text_splitter\"] = RecursiveCharacterTextSplitter(chunk_size=1000,chunk_overlap=200)\n",
    "    st.session_state[\"final_documents\"] = st.session_state[\"text_splitter\"].split_documents(st.session_state[\"docs\"])\n",
    "    st.session_state[\"vectors\"] = FAISS.from_documents(st.session_state[\"final_documents\"],st.session_state.embeddings)\n",
    "\n",
    "# embeddings = HuggingFaceEmbeddings()\n",
    "\n",
    "# loader = WebBaseLoader(\"https://docs.smith.langchain.com/\")\n",
    "# docs = loader.load() \n",
    "\n",
    "# text_splitter = RecursiveCharacterTextSplitter(chunk_size=1000,chunk_overlap=200)\n",
    "# final_documents = text_splitter.split_documents(docs)\n",
    "# vectors = FAISS.from_documents(final_documents,embeddings)\n",
    "\n",
    "\n",
    "\n",
    "st.title(\"Doc Mgr\")\n",
    "prompt = ChatPromptTemplate.from_template(\n",
    "\"\"\"\n",
    "Answer the questions based on the provided context only.\n",
    "Please provide the most accurate response based on the question\n",
    "<context>\n",
    "{context}\n",
    "<context>\n",
    "Questions:{input}\n",
    "\"\"\"\n",
    ")\n",
    "\n"
   ]
  },
  {
   "cell_type": "code",
   "execution_count": 23,
   "metadata": {},
   "outputs": [],
   "source": [
    "document_chain = create_stuff_documents_chain(llm,prompt)\n",
    "retriever = st.session_state.vectors.as_retriever()\n",
    "#retriever = vectors.as_retriever()\n",
    "retrieval_chain = create_retrieval_chain(retriever, document_chain)\n",
    "\n",
    "prompt = st.text_input(\"Input your prompt here\")\n",
    "import time\n",
    "if prompt:\n",
    "    start = time.process_time()\n",
    "    response = retrieval_chain.invoke({\"input\":prompt})\n",
    "    print(\"Response time: \",time.process_time()-start)\n",
    "    st.write(response['answer'])\n",
    "\n",
    "    with st.expander(\"Document Similarity Search\"):\n",
    "        for i, doc in enumerate(response['context']):\n",
    "            st.write(doc.page_content)\n",
    "            st.write(\"-------------------------\")"
   ]
  }
 ],
 "metadata": {
  "kernelspec": {
   "display_name": ".venv",
   "language": "python",
   "name": "python3"
  },
  "language_info": {
   "codemirror_mode": {
    "name": "ipython",
    "version": 3
   },
   "file_extension": ".py",
   "mimetype": "text/x-python",
   "name": "python",
   "nbconvert_exporter": "python",
   "pygments_lexer": "ipython3",
   "version": "3.12.0"
  }
 },
 "nbformat": 4,
 "nbformat_minor": 2
}
