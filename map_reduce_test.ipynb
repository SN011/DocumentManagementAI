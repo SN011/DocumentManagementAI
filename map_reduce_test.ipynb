{
 "cells": [
  {
   "cell_type": "code",
   "execution_count": 1,
   "metadata": {},
   "outputs": [],
   "source": [
    "from tools.imports import *"
   ]
  },
  {
   "cell_type": "code",
   "execution_count": 4,
   "metadata": {},
   "outputs": [
    {
     "name": "stdout",
     "output_type": "stream",
     "text": [
      "Please visit this URL to authorize this application: https://accounts.google.com/o/oauth2/auth?response_type=code&client_id=291175256673-gr5p5vf3pi2h0m46h5qnd3ila4iitfqs.apps.googleusercontent.com&redirect_uri=http%3A%2F%2Flocalhost%3A59799%2F&scope=https%3A%2F%2Fwww.googleapis.com%2Fauth%2Fdrive.metadata.readonly&state=miQsS6PWdUXORBtyKBqqnoofAFdutT&access_type=offline\n"
     ]
    }
   ],
   "source": [
    "import os\n",
    "import json\n",
    "import pickle\n",
    "from google.auth.transport.requests import Request\n",
    "from google.oauth2.credentials import Credentials\n",
    "from google_auth_oauthlib.flow import InstalledAppFlow\n",
    "from googleapiclient.discovery import build\n",
    "\n",
    "# Define the scopes\n",
    "SCOPES = ['https://www.googleapis.com/auth/drive.metadata.readonly']\n",
    "\n",
    "# Function to authenticate and get the service\n",
    "def authenticate_with_oauth():\n",
    "    creds = None\n",
    "    if os.path.exists('token.json'):\n",
    "        with open('token.json', 'rb') as token:\n",
    "            creds = pickle.load(token)\n",
    "    if not creds or not creds.valid:\n",
    "        if creds and creds.expired and creds.refresh_token:\n",
    "            creds.refresh(Request())\n",
    "        else:\n",
    "            flow = InstalledAppFlow.from_client_secrets_file(\"C:\\\\DEV\\\\WebdevFolder\\\\client_secret_291175256673-gr5p5vf3pi2h0m46h5qnd3ila4iitfqs.apps.googleusercontent.com.json\", SCOPES)\n",
    "            creds = flow.run_local_server(port=0)\n",
    "        with open('token.json', 'wb') as token:\n",
    "            pickle.dump(creds, token)\n",
    "    service = build('drive', 'v3', credentials=creds)\n",
    "    return service\n",
    "\n",
    "# Function to list files and write to intermediate files\n",
    "def list_files_and_write(service, output_dir, batch_size=100):\n",
    "    if not os.path.exists(output_dir):\n",
    "        os.makedirs(output_dir)\n",
    "    \n",
    "    page_token = None\n",
    "    batch_num = 0\n",
    "    file_count = 0\n",
    "    batch_data = []\n",
    "\n",
    "    while True:\n",
    "        response = service.files().list(\n",
    "            q=\"'me' in owners\",\n",
    "            spaces='drive',\n",
    "            fields='nextPageToken, files(id, name, mimeType, createdTime, modifiedTime)',\n",
    "            pageToken=page_token\n",
    "        ).execute()\n",
    "        \n",
    "        items = response.get('files', [])\n",
    "        if not items:\n",
    "            break\n",
    "        \n",
    "        for item in items:\n",
    "            batch_data.append(item)\n",
    "            file_count += 1\n",
    "            \n",
    "            if file_count >= batch_size:\n",
    "                batch_file = os.path.join(output_dir, f'batch_{batch_num}.json')\n",
    "                with open(batch_file, 'w') as f:\n",
    "                    json.dump(batch_data, f, indent=4)\n",
    "                \n",
    "                batch_num += 1\n",
    "                file_count = 0\n",
    "                batch_data = []\n",
    "\n",
    "        page_token = response.get('nextPageToken', None)\n",
    "        if page_token is None:\n",
    "            break\n",
    "    \n",
    "    # Write remaining data if exists\n",
    "    if batch_data:\n",
    "        batch_file = os.path.join(output_dir, f'batch_{batch_num}.json')\n",
    "        with open(batch_file, 'w') as f:\n",
    "            json.dump(batch_data, f, indent=4)\n",
    "\n",
    "# Authenticate and get the service\n",
    "service = authenticate_with_oauth()\n",
    "\n",
    "# List files and write to intermediate files\n",
    "output_dir = 'drive_batches'\n",
    "list_files_and_write(service, output_dir)\n"
   ]
  }
 ],
 "metadata": {
  "kernelspec": {
   "display_name": ".venv",
   "language": "python",
   "name": "python3"
  },
  "language_info": {
   "codemirror_mode": {
    "name": "ipython",
    "version": 3
   },
   "file_extension": ".py",
   "mimetype": "text/x-python",
   "name": "python",
   "nbconvert_exporter": "python",
   "pygments_lexer": "ipython3",
   "version": "3.12.0"
  }
 },
 "nbformat": 4,
 "nbformat_minor": 2
}
