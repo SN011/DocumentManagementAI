{
 "cells": [
  {
   "cell_type": "code",
   "execution_count": 3,
   "metadata": {},
   "outputs": [
    {
     "name": "stdout",
     "output_type": "stream",
     "text": [
      "\n",
      "\n",
      "\u001b[1m> Entering new AgentExecutor chain...\u001b[0m\n",
      "\u001b[32;1m\u001b[1;3mThought: I don't have any information about your friend Eric, so I need more context or clarification.\n",
      "\n",
      "Action:\n",
      "```\n",
      "{\n",
      "  \"action\": \"human\",\n",
      "  \"action_input\": \"Can you provide more context or information about your friend Eric?\"\n",
      "}\n",
      "```\n",
      "\u001b[0m\n",
      "\n",
      "Can you provide more context or information about your friend Eric?\n",
      "\n",
      "Observation: \u001b[36;1m\u001b[1;3mhe is chinese\u001b[0m\n",
      "Thought:\u001b[32;1m\u001b[1;3mI still don't have any information about your friend Eric's surname. I need more context or clarification.\n",
      "\n",
      "Action:\n",
      "```\n",
      "{\n",
      "  \"action\": \"human\",\n",
      "  \"action_input\": \"Do you know any other details about Eric, such as where you met him or what he does?\"\n",
      "}\n",
      "```\n",
      "\u001b[0m\n",
      "\n",
      "Do you know any other details about Eric, such as where you met him or what he does?\n",
      "\n",
      "Observation: \u001b[36;1m\u001b[1;3mzhu\u001b[0m\n",
      "Thought:\u001b[32;1m\u001b[1;3mI think I have it!\n",
      "\n",
      "Action:\n",
      "```\n",
      "{\n",
      "  \"action\": \"Final Answer\",\n",
      "  \"action_input\": \"Your friend Eric's surname is Zhu.\"\n",
      "}\n",
      "```\u001b[0m\n",
      "\n",
      "\u001b[1m> Finished chain.\u001b[0m\n",
      "Your friend Eric's surname is Zhu.\n"
     ]
    }
   ],
   "source": [
    "from langchain.agents import AgentType, initialize_agent, load_tools\n",
    "from tools.imports import *\n",
    "from tools.initialize_groq import init_groq\n",
    "_,llm = init_groq()\n",
    "\n",
    "tools = load_tools(\n",
    "    [\"human\"],\n",
    "    llm=llm,\n",
    ")\n",
    "\n",
    "agent_executor = initialize_agent(\n",
    "    tools,\n",
    "    llm,\n",
    "    agent=AgentType.STRUCTURED_CHAT_ZERO_SHOT_REACT_DESCRIPTION,\n",
    "    verbose=True,\n",
    ")\n",
    "\n",
    "result = agent_executor.invoke({\"input\": \"What's my friend Eric's surname?\"})\n",
    "print(result['output'])"
   ]
  }
 ],
 "metadata": {
  "kernelspec": {
   "display_name": ".venv",
   "language": "python",
   "name": "python3"
  },
  "language_info": {
   "codemirror_mode": {
    "name": "ipython",
    "version": 3
   },
   "file_extension": ".py",
   "mimetype": "text/x-python",
   "name": "python",
   "nbconvert_exporter": "python",
   "pygments_lexer": "ipython3",
   "version": "3.12.0"
  }
 },
 "nbformat": 4,
 "nbformat_minor": 2
}
